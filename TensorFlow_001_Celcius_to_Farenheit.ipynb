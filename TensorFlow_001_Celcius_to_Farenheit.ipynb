{
  "nbformat": 4,
  "nbformat_minor": 0,
  "metadata": {
    "colab": {
      "name": "TensorFlow-001-Celcius-to-Farenheit.ipynb",
      "provenance": [],
      "collapsed_sections": []
    },
    "kernelspec": {
      "name": "python3",
      "display_name": "Python 3"
    },
    "language_info": {
      "name": "python"
    }
  },
  "cells": [
    {
      "cell_type": "markdown",
      "metadata": {
        "id": "SxluHwKRy0ug"
      },
      "source": [
        "## This is my first Machine learning project using Google's TensorFlow and Colab, together. We will use a small training set of 5 examples and train a  model whihc will learn how to convert a temperature reading from celcius and convert it into Fahrenheit. Lets dig into it."
      ]
    },
    {
      "cell_type": "code",
      "metadata": {
        "id": "WbVzMHZ3zQVN"
      },
      "source": [
        "\"\"\"Lets import all the packages we might need in this notebook\"\"\"\n",
        " \n",
        "import numpy as np\n",
        "import tensorflow as tf\n",
        "import matplotlib.pyplot  as plt\n",
        "from datetime import datetime"
      ],
      "execution_count": null,
      "outputs": []
    },
    {
      "cell_type": "markdown",
      "metadata": {
        "id": "JW-rF6c-2SwB"
      },
      "source": [
        "### Lets set up some of the training data for training our model.\n"
      ]
    },
    {
      "cell_type": "code",
      "metadata": {
        "colab": {
          "base_uri": "https://localhost:8080/"
        },
        "id": "3CQ6AGvSzipa",
        "outputId": "1817b8c6-38b3-466b-dee1-db2f58ff3399"
      },
      "source": [
        "x = np.array([22, 75] , dtype = 'float')      # input temperatures in degree celcius\n",
        "y = np.array([71.6, 167] , dtype = 'float') # output temperatures in degree Fahrenheit\n",
        "\n",
        "for i,c in enumerate(x):\n",
        "  print(f\"{c} degree celcius is equivalent to {y[i]} degree Fahrenheit.\")\n",
        " "
      ],
      "execution_count": null,
      "outputs": [
        {
          "output_type": "stream",
          "text": [
            "22.0 degree celcius is equivalent to 71.6 degree Fahrenheit.\n",
            "75.0 degree celcius is equivalent to 167.0 degree Fahrenheit.\n"
          ],
          "name": "stdout"
        }
      ]
    },
    {
      "cell_type": "markdown",
      "metadata": {
        "id": "t-i2nPnU3Yl-"
      },
      "source": [
        "## Create/Define the *model*\n",
        "\n",
        "We will use the simplest model, a Dense network, with  only one unit. Since the problem is straightforward, we only need one layer with a single neuron."
      ]
    },
    {
      "cell_type": "code",
      "metadata": {
        "id": "tyQ5PEWf0E9X"
      },
      "source": [
        " \n",
        "model =  tf.keras.Sequential()                            # initialising a Sequential model\n",
        "l0 = tf.keras.layers.Dense(units = 1, input_shape= [1], activation=None)   # initialising a Dense layer with one unit.\n",
        "model.add(l0)                                             # adding the dense layer to the model."
      ],
      "execution_count": null,
      "outputs": []
    },
    {
      "cell_type": "markdown",
      "metadata": {
        "id": "dEiyI1vG5GMC"
      },
      "source": [
        "## Compile the model, with Loss and optimizer functions.\n",
        "\n",
        "**Loss Function** : A way of measuring how far off our predictions are from \n",
        "the expected output.\n",
        "\n",
        " **Optimizer Function** :  A way of adjusting parameters in order to reduce the loss."
      ]
    },
    {
      "cell_type": "code",
      "metadata": {
        "id": "-94a75pr0lDC"
      },
      "source": [
        "model.compile(loss='mean_squared_error', optimizer=tf.keras.optimizers.Adam(0.08))  \n",
        " \n",
        "# we chose \"Mean Squared Error\" and the loss function and Adam optimizer for compiling our model."
      ],
      "execution_count": null,
      "outputs": []
    },
    {
      "cell_type": "markdown",
      "metadata": {
        "id": "EPV9IX4S6NxM"
      },
      "source": [
        "## Train the Model"
      ]
    },
    {
      "cell_type": "code",
      "metadata": {
        "colab": {
          "base_uri": "https://localhost:8080/"
        },
        "id": "rrsb7UQS57Uz",
        "outputId": "958c21c1-e00a-4c4d-a863-1540fe99e5a0"
      },
      "source": [
        "tic = datetime.now()\n",
        "history  = model.fit(x, y, epochs = 5000, verbose = False)\n",
        "toc = datetime.now()\n",
        " \n",
        "print(\"Finished Training the Model in :\" + str((toc-tic).microseconds) + ' microseconds')"
      ],
      "execution_count": null,
      "outputs": [
        {
          "output_type": "stream",
          "text": [
            "Finished Training the Model in :410189 microseconds\n"
          ],
          "name": "stdout"
        }
      ]
    },
    {
      "cell_type": "markdown",
      "metadata": {
        "id": "3OvZt73_6O5_"
      },
      "source": [
        "## Lets take a look at the training statistics"
      ]
    },
    {
      "cell_type": "code",
      "metadata": {
        "colab": {
          "base_uri": "https://localhost:8080/",
          "height": 404
        },
        "id": "b254Ottl8um0",
        "outputId": "83da992b-e73f-462c-aad8-89ae4c4afdd5"
      },
      "source": [
        "fig, ax = plt.subplots(figsize=(9,6))\n",
        " \n",
        "ax.set_title('Loss over Iterations')\n",
        "ax.set_xlabel('Loss')\n",
        "ax.set_ylabel('Epochs')\n",
        "ax.plot(history.history['loss'])\n",
        "plt.show()"
      ],
      "execution_count": null,
      "outputs": [
        {
          "output_type": "display_data",
          "data": {
            "image/png": "[encoded data removed]",
            "text/plain": [
              "<Figure size 648x432 with 1 Axes>"
            ]
          },
          "metadata": {
            "tags": [],
            "needs_background": "light"
          }
        }
      ]
    },
    {
      "cell_type": "markdown",
      "metadata": {
        "id": "Bned0RMH-Zr9"
      },
      "source": [
        "## Lets predict the values in Fahrenheit for a few given values in celcius and see how accurate is our model."
      ]
    },
    {
      "cell_type": "code",
      "metadata": {
        "colab": {
          "base_uri": "https://localhost:8080/"
        },
        "id": "t_rcpLGn9GiT",
        "outputId": "40234c20-d2c8-47d8-e0a5-d7f2679c63a8"
      },
      "source": [
        "print(model.predict([100,101,22, 23]))"
      ],
      "execution_count": null,
      "outputs": [
        {
          "output_type": "stream",
          "text": [
            "[[212.00003]\n",
            " [213.80002]\n",
            " [ 71.59998]\n",
            " [ 73.39999]]\n"
          ],
          "name": "stdout"
        }
      ]
    },
    {
      "cell_type": "markdown",
      "metadata": {
        "id": "FbPZ7nFj-mki"
      },
      "source": [
        "### As you see, this is pretty accurate. We didnt feed any formula to our model rather its our model whihc learnt the conversion formula on itself, using the five labeled training examples we passed on to the model. This is amazing !!!"
      ]
    },
    {
      "cell_type": "code",
      "metadata": {
        "colab": {
          "base_uri": "https://localhost:8080/"
        },
        "id": "U_WScjVz-5_E",
        "outputId": "da8d003e-b9ec-487e-d155-3b1fc13b0ee8"
      },
      "source": [
        "print(l0.get_weights())"
      ],
      "execution_count": null,
      "outputs": [
        {
          "output_type": "stream",
          "text": [
            "[array([[1.8000005]], dtype=float32), array([31.999971], dtype=float32)]\n"
          ],
          "name": "stdout"
        }
      ]
    },
    {
      "cell_type": "code",
      "metadata": {
        "colab": {
          "base_uri": "https://localhost:8080/"
        },
        "id": "M_FAV7XPAWzH",
        "outputId": "180227db-d276-4e39-e895-8b012df7ff8e"
      },
      "source": [
        "print(history.history['loss'][100])\n",
        "print(history.history['loss'][500])\n",
        "print(history.history['loss'][800])\n",
        "print(history.history['loss'][1200])\n",
        "print(history.history['loss'][1600])\n",
        "print(history.history['loss'][1800])\n",
        "print(history.history['loss'][1999])"
      ],
      "execution_count": null,
      "outputs": [
        {
          "output_type": "stream",
          "text": [
            "191.933349609375\n",
            "54.133811950683594\n",
            "12.624629974365234\n",
            "0.9069055914878845\n",
            "0.02631884068250656\n",
            "0.0030367765575647354\n",
            "0.00026490469463169575\n"
          ],
          "name": "stdout"
        }
      ]
    },
    {
      "cell_type": "code",
      "metadata": {
        "id": "rH4KZ_kNA17I"
      },
      "source": [
        ""
      ],
      "execution_count": null,
      "outputs": []
    }
  ]
}