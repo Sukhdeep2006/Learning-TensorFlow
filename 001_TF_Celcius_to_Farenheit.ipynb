{
  "nbformat": 4,
  "nbformat_minor": 0,
  "metadata": {
    "colab": {
      "name": "001-TF-Celcius-to-Farenheit.ipynb",
      "provenance": [],
      "collapsed_sections": [],
      "authorship_tag": "ABX9TyODJpD2I4wAtGGXUxXDOtNl",
      "include_colab_link": true
    },
    "kernelspec": {
      "name": "python3",
      "display_name": "Python 3"
    },
    "language_info": {
      "name": "python"
    }
  },
  "cells": [
    {
      "cell_type": "markdown",
      "metadata": {
        "id": "view-in-github",
        "colab_type": "text"
      },
      "source": [
        "<a href=\"https://colab.research.google.com/github/Sukhdeep2006/Learning-TensorFlow/blob/main/001_TF_Celcius_to_Farenheit.ipynb\" target=\"_parent\"><img src=\"https://colab.research.google.com/assets/colab-badge.svg\" alt=\"Open In Colab\"/></a>"
      ]
    },
    {
      "cell_type": "markdown",
      "metadata": {
        "id": "SxluHwKRy0ug"
      },
      "source": [
        "## Lets explore the power of Machine Learning using my first Machine learning project using Google's TensorFlow and Colab, together. We will witness our algoritm learn how to convert a temperature reading from celcius to Fahrenheit , from a small training set of 5 examples, without being given the explicit formula for it. Lets dig into it."
      ]
    },
    {
      "cell_type": "code",
      "metadata": {
        "id": "WbVzMHZ3zQVN"
      },
      "source": [
        "\"\"\"Lets import all the packages we might need in this notebook\"\"\"\n",
        " \n",
        "import numpy as np\n",
        "import tensorflow as tf\n",
        "import matplotlib.pyplot  as plt\n",
        "from datetime import datetime"
      ],
      "execution_count": null,
      "outputs": []
    },
    {
      "cell_type": "markdown",
      "metadata": {
        "id": "JW-rF6c-2SwB"
      },
      "source": [
        "### Lets set up some of the training data for training our model.\n"
      ]
    },
    {
      "cell_type": "code",
      "metadata": {
        "colab": {
          "base_uri": "https://localhost:8080/"
        },
        "id": "3CQ6AGvSzipa",
        "outputId": "d09ee433-2056-4123-83d4-dd101a37e40a"
      },
      "source": [
        "x = np.array([22, 75] , dtype = 'float')      # input temperatures in degree celcius\n",
        "y = np.array([71.6, 167] , dtype = 'float') # output temperatures in degree Fahrenheit\n",
        "\n",
        "for i,c in enumerate(x):\n",
        "  print(f\"{c} degree celcius is equivalent to {y[i]} degree Fahrenheit.\")\n",
        " "
      ],
      "execution_count": null,
      "outputs": [
        {
          "output_type": "stream",
          "text": [
            "22.0 degree celcius is equivalent to 71.6 degree Fahrenheit.\n",
            "75.0 degree celcius is equivalent to 167.0 degree Fahrenheit.\n"
          ],
          "name": "stdout"
        }
      ]
    },
    {
      "cell_type": "markdown",
      "metadata": {
        "id": "t-i2nPnU3Yl-"
      },
      "source": [
        "## Create/Define the *model*\n",
        "\n",
        "We will use the simplest model, a Dense network, with  only one unit. Since the problem is straightforward, we only need one layer with a single neuron."
      ]
    },
    {
      "cell_type": "code",
      "metadata": {
        "id": "tyQ5PEWf0E9X"
      },
      "source": [
        " \n",
        "model =  tf.keras.Sequential()                                             # initialising a Sequential model\n",
        "l0 = tf.keras.layers.Dense(units = 1, input_shape= [1], activation=None)   # initialising a Dense layer with one unit.\n",
        "model.add(l0)                                                              # adding the dense layer to the model."
      ],
      "execution_count": null,
      "outputs": []
    },
    {
      "cell_type": "markdown",
      "metadata": {
        "id": "dEiyI1vG5GMC"
      },
      "source": [
        "## Compile the model, with Loss and optimizer functions.\n",
        "\n",
        "**Loss Function** : A way of measuring how far off our predictions are from \n",
        "the expected output.\n",
        "\n",
        " **Optimizer Function** :  A way of adjusting parameters in order to reduce the loss."
      ]
    },
    {
      "cell_type": "code",
      "metadata": {
        "id": "-94a75pr0lDC"
      },
      "source": [
        "model.compile(loss='mean_squared_error', optimizer=tf.keras.optimizers.Adam(0.08))  \n",
        " \n",
        "# we chose \"Mean Squared Error\" and the loss function and Adam optimizer for compiling our model."
      ],
      "execution_count": null,
      "outputs": []
    },
    {
      "cell_type": "markdown",
      "metadata": {
        "id": "EPV9IX4S6NxM"
      },
      "source": [
        "## Train the Model"
      ]
    },
    {
      "cell_type": "code",
      "metadata": {
        "colab": {
          "base_uri": "https://localhost:8080/"
        },
        "id": "rrsb7UQS57Uz",
        "outputId": "a2f59ee9-6c07-4ff4-ad64-b118a1ec4ad9"
      },
      "source": [
        "tic = datetime.now()\n",
        "history  = model.fit(x, y, epochs = 5000, verbose = False)\n",
        "toc = datetime.now()\n",
        " \n",
        "print(\"Finished Training the Model in :\" + str((toc-tic).microseconds) + ' microseconds')"
      ],
      "execution_count": null,
      "outputs": [
        {
          "output_type": "stream",
          "text": [
            "Finished Training the Model in :108431 microseconds\n"
          ],
          "name": "stdout"
        }
      ]
    },
    {
      "cell_type": "markdown",
      "metadata": {
        "id": "3OvZt73_6O5_"
      },
      "source": [
        "## Lets take a look at the training statistics"
      ]
    },
    {
      "cell_type": "code",
      "metadata": {
        "colab": {
          "base_uri": "https://localhost:8080/",
          "height": 404
        },
        "id": "b254Ottl8um0",
        "outputId": "058c57ca-8956-438d-a0a0-4383fc98475d"
      },
      "source": [
        "fig, ax = plt.subplots(figsize=(9,6))\n",
        " \n",
        "ax.set_title('Loss over Iterations')\n",
        "ax.set_xlabel('Loss')\n",
        "ax.set_ylabel('Epochs')\n",
        "ax.plot(history.history['loss'])\n",
        "plt.show()"
      ],
      "execution_count": null,
      "outputs": [
        {
          "output_type": "display_data",
          "data": {
            "image/png": "[encoded data removed]",
            "text/plain": [
              "<Figure size 648x432 with 1 Axes>"
            ]
          },
          "metadata": {
            "tags": [],
            "needs_background": "light"
          }
        }
      ]
    },
    {
      "cell_type": "markdown",
      "metadata": {
        "id": "Bned0RMH-Zr9"
      },
      "source": [
        "## Lets predict the values in Fahrenheit for a few given values in celcius and see how accurate is our model."
      ]
    },
    {
      "cell_type": "code",
      "metadata": {
        "colab": {
          "base_uri": "https://localhost:8080/"
        },
        "id": "t_rcpLGn9GiT",
        "outputId": "5f733112-66b5-4f1c-9cc4-9bf906980d68"
      },
      "source": [
        "print(model.predict([100,101,22, 23]))"
      ],
      "execution_count": null,
      "outputs": [
        {
          "output_type": "stream",
          "text": [
            "[[212.00006 ]\n",
            " [213.80006 ]\n",
            " [ 71.59992 ]\n",
            " [ 73.399925]]\n"
          ],
          "name": "stdout"
        }
      ]
    },
    {
      "cell_type": "markdown",
      "metadata": {
        "id": "FbPZ7nFj-mki"
      },
      "source": [
        "### As you see, this is pretty accurate. We didnt feed any formula to our model rather its our model whihc learnt the conversion formula on itself, using the five labeled training examples we passed on to the model. This is amazing !!!"
      ]
    },
    {
      "cell_type": "code",
      "metadata": {
        "colab": {
          "base_uri": "https://localhost:8080/"
        },
        "id": "U_WScjVz-5_E",
        "outputId": "d14f1871-d969-42dd-f08f-a5d0403be1fb"
      },
      "source": [
        "print(l0.get_weights())"
      ],
      "execution_count": null,
      "outputs": [
        {
          "output_type": "stream",
          "text": [
            "[array([[1.8000019]], dtype=float32), array([31.99988], dtype=float32)]\n"
          ],
          "name": "stdout"
        }
      ]
    },
    {
      "cell_type": "code",
      "metadata": {
        "colab": {
          "base_uri": "https://localhost:8080/"
        },
        "id": "M_FAV7XPAWzH",
        "outputId": "37878318-92ef-4387-ff9d-46580bcfcbad"
      },
      "source": [
        "print(history.history['loss'][100])\n",
        "print(history.history['loss'][500])\n",
        "print(history.history['loss'][800])\n",
        "print(history.history['loss'][1200])\n",
        "print(history.history['loss'][1600])\n",
        "print(history.history['loss'][1800])\n",
        "print(history.history['loss'][1999])\n",
        "print(history.history['loss'][2999])\n",
        "print(history.history['loss'][3999])\n",
        "print(history.history['loss'][4999])"
      ],
      "execution_count": null,
      "outputs": [
        {
          "output_type": "stream",
          "text": [
            "180.83029174804688\n",
            "131.68902587890625\n",
            "91.53141784667969\n",
            "47.28125\n",
            "19.681514739990234\n",
            "11.599390029907227\n",
            "6.411838531494141\n",
            "0.09267736971378326\n",
            "6.343916174955666e-05\n",
            "3.026798367500305e-09\n"
          ],
          "name": "stdout"
        }
      ]
    },
    {
      "cell_type": "code",
      "metadata": {
        "id": "rH4KZ_kNA17I"
      },
      "source": [
        ""
      ],
      "execution_count": null,
      "outputs": []
    }
  ]
}