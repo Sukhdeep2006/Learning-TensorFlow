{
  "nbformat": 4,
  "nbformat_minor": 0,
  "metadata": {
    "colab": {
      "name": "009-TF-NLP-Recurrent-Neural-Networks.ipynb",
      "provenance": [],
      "collapsed_sections": [],
      "authorship_tag": "ABX9TyMTYBVc2S2vRAehOcWOL3/0",
      "include_colab_link": true
    },
    "kernelspec": {
      "name": "python3",
      "display_name": "Python 3"
    },
    "language_info": {
      "name": "python"
    }
  },
  "cells": [
    {
      "cell_type": "markdown",
      "metadata": {
        "id": "view-in-github",
        "colab_type": "text"
      },
      "source": [
        "<a href=\"https://colab.research.google.com/github/Sukhdeep2006/Learning-TensorFlow/blob/main/009_TF_NLP_Recurrent_Neural_Networks.ipynb\" target=\"_parent\"><img src=\"https://colab.research.google.com/assets/colab-badge.svg\" alt=\"Open In Colab\"/></a>"
      ]
    },
    {
      "cell_type": "markdown",
      "metadata": {
        "id": "fD7r6aMjgf6D"
      },
      "source": [
        "# Using LSTMs with `*SubWords*`"
      ]
    },
    {
      "cell_type": "code",
      "metadata": {
        "id": "FoJ7G8YppiUH"
      },
      "source": [
        "import tensorflow as tf\n",
        "import pandas as pd\n",
        "import tensorflow_datasets as tfds\n",
        "import tensorflow.keras.layers as ll\n",
        "\n",
        "from tensorflow.keras.preprocessing.text import Tokenizer\n",
        "from tensorflow.keras.preprocessing.sequence import pad_sequences"
      ],
      "execution_count": null,
      "outputs": []
    },
    {
      "cell_type": "code",
      "metadata": {
        "colab": {
          "base_uri": "https://localhost:8080/"
        },
        "id": "so19QBxwgO7T",
        "outputId": "b8d9ff94-fd7a-49c6-de2b-219b3ae187ee"
      },
      "source": [
        "url = 'https://drive.google.com/uc?id=13ySLC_ue6Umt9RJYSeM2t-V0kCv-4C-P'\n",
        "\n",
        "path = tf.keras.utils.get_file('sentiments.csv', url)\n",
        "dataset = pd.read_csv(path)\n",
        "\n",
        "print(dataset.keys())\n",
        "\n",
        "sentences = dataset['text'].tolist()\n",
        "labels = dataset['sentiment'].tolist()\n"
      ],
      "execution_count": null,
      "outputs": [
        {
          "output_type": "stream",
          "name": "stdout",
          "text": [
            "Index(['Unnamed: 0', 'text', 'sentiment'], dtype='object')\n"
          ]
        }
      ]
    },
    {
      "cell_type": "markdown",
      "metadata": {
        "id": "oyyWwM4vgf2F"
      },
      "source": [
        "## Lets now tokenize the data."
      ]
    },
    {
      "cell_type": "code",
      "metadata": {
        "colab": {
          "base_uri": "https://localhost:8080/"
        },
        "id": "f8syD4FdqxdN",
        "outputId": "d35c583b-14d3-477b-8a5e-0cd96bb39bdd"
      },
      "source": [
        "vocab_size = 1000\n",
        "tokenizer = tfds.deprecated.text.SubwordTextEncoder.build_from_corpus(sentences, vocab_size,max_subword_length=5)\n",
        "sentences_encoded = []\n",
        "print(sentences[5])\n",
        "\n",
        "for i, sentence in enumerate(sentences):\n",
        "  sentences_encoded.append(tokenizer.encode(sentence))\n",
        "\n",
        "print(sentences_encoded[5])"
      ],
      "execution_count": null,
      "outputs": [
        {
          "output_type": "stream",
          "name": "stdout",
          "text": [
            "I have to jiggle the plug to get it to line up right to get decent volume.\n",
            "[4, 31, 6, 849, 162, 450, 12, 1, 600, 438, 775, 6, 175, 14, 6, 55, 213, 159, 474, 775, 6, 175, 614, 380, 295, 148, 72, 789]\n"
          ]
        }
      ]
    },
    {
      "cell_type": "code",
      "metadata": {
        "colab": {
          "base_uri": "https://localhost:8080/"
        },
        "id": "AV1mkR4truge",
        "outputId": "bc4bd9dc-4fe1-4fbf-d16a-8763715713f4"
      },
      "source": [
        "# Separately print out each subword, decoded\n",
        "encoded1 = tokenizer.encode(sentences[5])\n",
        "print(encoded1)\n",
        "for i in encoded1:\n",
        "  print(tokenizer.decode([i]))"
      ],
      "execution_count": null,
      "outputs": [
        {
          "output_type": "stream",
          "name": "stdout",
          "text": [
            "[4, 31, 6, 849, 162, 450, 12, 1, 600, 438, 775, 6, 175, 14, 6, 55, 213, 159, 474, 775, 6, 175, 614, 380, 295, 148, 72, 789]\n",
            "I \n",
            "have \n",
            "to \n",
            "j\n",
            "ig\n",
            "gl\n",
            "e \n",
            "the \n",
            "pl\n",
            "ug\n",
            " \n",
            "to \n",
            "get \n",
            "it \n",
            "to \n",
            "li\n",
            "ne \n",
            "up \n",
            "right\n",
            " \n",
            "to \n",
            "get \n",
            "dec\n",
            "ent \n",
            "vo\n",
            "lu\n",
            "me\n",
            ".\n"
          ]
        }
      ]
    },
    {
      "cell_type": "markdown",
      "metadata": {
        "id": "ylPkBCbxtyRr"
      },
      "source": [
        "## Final PreProcessing:   "
      ]
    },
    {
      "cell_type": "code",
      "metadata": {
        "id": "WyJ5LN_qsgjo"
      },
      "source": [
        "import numpy as np\n",
        "\n",
        "max_length = 50\n",
        "trunc_type = 'post'\n",
        "pad_type = 'post'\n",
        "\n",
        "sentences_padded = pad_sequences(sentences_encoded, 50, padding=pad_type, truncating=trunc_type)\n",
        "\n",
        "training_size =  int(len(sentences_padded) * 0.8)\n",
        "\n",
        "training_sentences = np.array(sentences_padded[0:training_size])\n",
        "testing_sentences = np.array(sentences_padded[training_size:])\n",
        "\n",
        "training_labels = np.array(labels[0:training_size])\n",
        "testing_labels = np.array(labels[training_size:])\n"
      ],
      "execution_count": null,
      "outputs": []
    },
    {
      "cell_type": "markdown",
      "metadata": {
        "id": "Q-8IfYRzxPUX"
      },
      "source": [
        "### Lets first define a model without using any LSTM layer and see its performance, before we try using an LSTM layer."
      ]
    },
    {
      "cell_type": "code",
      "metadata": {
        "colab": {
          "base_uri": "https://localhost:8080/"
        },
        "id": "6T8rnro6u2cm",
        "outputId": "a08ad9e4-72ca-4f40-c4e7-9994faf57bdb"
      },
      "source": [
        "embedding_dim = 16\n",
        "\n",
        "model_1 = tf.keras.models.Sequential([\n",
        "                                      ll.Embedding(vocab_size, embedding_dim, input_length = max_length),\n",
        "                                      ll.GlobalAveragePooling1D(),\n",
        "                                      ll.Dense(6, activation='relu'),\n",
        "                                      ll.Dense(1, activation= 'sigmoid') \n",
        "])\n",
        "                                      \n",
        "model_1.summary()"
      ],
      "execution_count": null,
      "outputs": [
        {
          "output_type": "stream",
          "name": "stdout",
          "text": [
            "Model: \"sequential\"\n",
            "_________________________________________________________________\n",
            "Layer (type)                 Output Shape              Param #   \n",
            "=================================================================\n",
            "embedding (Embedding)        (None, 50, 16)            16000     \n",
            "_________________________________________________________________\n",
            "global_average_pooling1d (Gl (None, 16)                0         \n",
            "_________________________________________________________________\n",
            "dense (Dense)                (None, 6)                 102       \n",
            "_________________________________________________________________\n",
            "dense_1 (Dense)              (None, 1)                 7         \n",
            "=================================================================\n",
            "Total params: 16,109\n",
            "Trainable params: 16,109\n",
            "Non-trainable params: 0\n",
            "_________________________________________________________________\n"
          ]
        }
      ]
    },
    {
      "cell_type": "code",
      "metadata": {
        "colab": {
          "base_uri": "https://localhost:8080/"
        },
        "id": "rkdRftB8wNyr",
        "outputId": "5b235752-5cec-4340-a5bb-062a60425d67"
      },
      "source": [
        "num_epochs = 30\n",
        "model_1.compile(loss = 'binary_crossentropy', optimizer='adam', metrics = ['accuracy'])\n",
        "history = model_1.fit(training_sentences, training_labels, epochs = num_epochs, validation_data=(testing_sentences, testing_labels))"
      ],
      "execution_count": null,
      "outputs": [
        {
          "output_type": "stream",
          "name": "stdout",
          "text": [
            "Epoch 1/30\n",
            "50/50 [==============================] - 1s 6ms/step - loss: 0.6892 - accuracy: 0.5982 - val_loss: 0.6906 - val_accuracy: 0.5263\n",
            "Epoch 2/30\n",
            "50/50 [==============================] - 0s 2ms/step - loss: 0.6839 - accuracy: 0.6447 - val_loss: 0.6870 - val_accuracy: 0.5589\n",
            "Epoch 3/30\n",
            "50/50 [==============================] - 0s 2ms/step - loss: 0.6755 - accuracy: 0.6962 - val_loss: 0.6803 - val_accuracy: 0.6040\n",
            "Epoch 4/30\n",
            "50/50 [==============================] - 0s 2ms/step - loss: 0.6627 - accuracy: 0.7181 - val_loss: 0.6670 - val_accuracy: 0.6717\n",
            "Epoch 5/30\n",
            "50/50 [==============================] - 0s 2ms/step - loss: 0.6442 - accuracy: 0.7508 - val_loss: 0.6508 - val_accuracy: 0.7343\n",
            "Epoch 6/30\n",
            "50/50 [==============================] - 0s 2ms/step - loss: 0.6193 - accuracy: 0.7941 - val_loss: 0.6422 - val_accuracy: 0.6617\n",
            "Epoch 7/30\n",
            "50/50 [==============================] - 0s 2ms/step - loss: 0.5892 - accuracy: 0.8073 - val_loss: 0.6181 - val_accuracy: 0.7118\n",
            "Epoch 8/30\n",
            "50/50 [==============================] - 0s 2ms/step - loss: 0.5557 - accuracy: 0.8142 - val_loss: 0.5869 - val_accuracy: 0.7845\n",
            "Epoch 9/30\n",
            "50/50 [==============================] - 0s 3ms/step - loss: 0.5214 - accuracy: 0.8343 - val_loss: 0.5840 - val_accuracy: 0.7093\n",
            "Epoch 10/30\n",
            "50/50 [==============================] - 0s 2ms/step - loss: 0.4853 - accuracy: 0.8412 - val_loss: 0.5500 - val_accuracy: 0.7769\n",
            "Epoch 11/30\n",
            "50/50 [==============================] - 0s 3ms/step - loss: 0.4529 - accuracy: 0.8525 - val_loss: 0.5446 - val_accuracy: 0.7594\n",
            "Epoch 12/30\n",
            "50/50 [==============================] - 0s 2ms/step - loss: 0.4229 - accuracy: 0.8625 - val_loss: 0.5248 - val_accuracy: 0.7619\n",
            "Epoch 13/30\n",
            "50/50 [==============================] - 0s 2ms/step - loss: 0.3962 - accuracy: 0.8701 - val_loss: 0.5256 - val_accuracy: 0.7544\n",
            "Epoch 14/30\n",
            "50/50 [==============================] - 0s 3ms/step - loss: 0.3712 - accuracy: 0.8738 - val_loss: 0.5202 - val_accuracy: 0.7569\n",
            "Epoch 15/30\n",
            "50/50 [==============================] - 0s 2ms/step - loss: 0.3496 - accuracy: 0.8807 - val_loss: 0.5062 - val_accuracy: 0.7544\n",
            "Epoch 16/30\n",
            "50/50 [==============================] - 0s 2ms/step - loss: 0.3291 - accuracy: 0.8832 - val_loss: 0.5056 - val_accuracy: 0.7519\n",
            "Epoch 17/30\n",
            "50/50 [==============================] - 0s 3ms/step - loss: 0.3134 - accuracy: 0.8927 - val_loss: 0.4969 - val_accuracy: 0.7569\n",
            "Epoch 18/30\n",
            "50/50 [==============================] - 0s 2ms/step - loss: 0.2958 - accuracy: 0.8989 - val_loss: 0.4920 - val_accuracy: 0.7619\n",
            "Epoch 19/30\n",
            "50/50 [==============================] - 0s 2ms/step - loss: 0.2874 - accuracy: 0.9071 - val_loss: 0.5064 - val_accuracy: 0.7594\n",
            "Epoch 20/30\n",
            "50/50 [==============================] - 0s 3ms/step - loss: 0.2694 - accuracy: 0.9071 - val_loss: 0.5047 - val_accuracy: 0.7594\n",
            "Epoch 21/30\n",
            "50/50 [==============================] - 0s 2ms/step - loss: 0.2586 - accuracy: 0.9121 - val_loss: 0.5080 - val_accuracy: 0.7544\n",
            "Epoch 22/30\n",
            "50/50 [==============================] - 0s 3ms/step - loss: 0.2472 - accuracy: 0.9134 - val_loss: 0.5238 - val_accuracy: 0.7569\n",
            "Epoch 23/30\n",
            "50/50 [==============================] - 0s 2ms/step - loss: 0.2363 - accuracy: 0.9215 - val_loss: 0.5370 - val_accuracy: 0.7469\n",
            "Epoch 24/30\n",
            "50/50 [==============================] - 0s 2ms/step - loss: 0.2273 - accuracy: 0.9222 - val_loss: 0.5283 - val_accuracy: 0.7544\n",
            "Epoch 25/30\n",
            "50/50 [==============================] - 0s 2ms/step - loss: 0.2199 - accuracy: 0.9240 - val_loss: 0.5373 - val_accuracy: 0.7519\n",
            "Epoch 26/30\n",
            "50/50 [==============================] - 0s 3ms/step - loss: 0.2117 - accuracy: 0.9284 - val_loss: 0.5695 - val_accuracy: 0.7419\n",
            "Epoch 27/30\n",
            "50/50 [==============================] - 0s 2ms/step - loss: 0.2047 - accuracy: 0.9316 - val_loss: 0.5464 - val_accuracy: 0.7444\n",
            "Epoch 28/30\n",
            "50/50 [==============================] - 0s 2ms/step - loss: 0.1956 - accuracy: 0.9335 - val_loss: 0.5532 - val_accuracy: 0.7469\n",
            "Epoch 29/30\n",
            "50/50 [==============================] - 0s 2ms/step - loss: 0.1898 - accuracy: 0.9372 - val_loss: 0.5586 - val_accuracy: 0.7594\n",
            "Epoch 30/30\n",
            "50/50 [==============================] - 0s 2ms/step - loss: 0.1828 - accuracy: 0.9397 - val_loss: 0.5658 - val_accuracy: 0.7569\n"
          ]
        }
      ]
    },
    {
      "cell_type": "code",
      "metadata": {
        "id": "2uqMxV5CxD-X"
      },
      "source": [
        "import matplotlib.pyplot as plt\n",
        "\n",
        "def plot_graph(history , string):\n",
        "  plt.plot(history.history[string])\n",
        "  plt.plot(history.history['val_'+string])\n",
        "  plt.xlabel(\"Epochs\")\n",
        "  plt.ylabel(string)\n",
        "  plt.legend([string, 'val_'+string])\n",
        "  plt.show()"
      ],
      "execution_count": null,
      "outputs": []
    },
    {
      "cell_type": "code",
      "metadata": {
        "colab": {
          "base_uri": "https://localhost:8080/",
          "height": 541
        },
        "id": "a17gPnq5xqvY",
        "outputId": "c5d52a8e-f234-4613-9c15-0787cd0c5bf1"
      },
      "source": [
        "plot_graph(history, 'accuracy')\n",
        "plot_graph(history, 'loss')"
      ],
      "execution_count": null,
      "outputs": [
        {
          "output_type": "display_data",
          "data": {
            "image/png": "[encoded data removed]",
            "text/plain": [
              "<Figure size 432x288 with 1 Axes>"
            ]
          },
          "metadata": {
            "needs_background": "light"
          }
        },
        {
          "output_type": "display_data",
          "data": {
            "image/png": "[encoded data removed]",
            "text/plain": [
              "<Figure size 432x288 with 1 Axes>"
            ]
          },
          "metadata": {
            "needs_background": "light"
          }
        }
      ]
    },
    {
      "cell_type": "markdown",
      "metadata": {
        "id": "AcWe3Zncx9hz"
      },
      "source": [
        "By looking at the graph, its evident that our model is overfitting the training data. Lets define some fake reviews and see how our model performs on these."
      ]
    },
    {
      "cell_type": "markdown",
      "metadata": {
        "id": "Uw8ENpgtyRnx"
      },
      "source": [
        "### Lets first define a model to predict the sentiments of reviews:"
      ]
    },
    {
      "cell_type": "code",
      "metadata": {
        "id": "eWkXjI3vxyt4"
      },
      "source": [
        "# Define a function to take a series of reviews\n",
        "# and predict whether each one is a positive or negative review\n",
        "\n",
        "def predict_review(model, new_sentences, maxlen=max_length, show_padded_sequence=False ):\n",
        "  new_sequences = []\n",
        "\n",
        "  # Convert the new reviews to sequences\n",
        "  for i, frvw in enumerate(new_sentences):\n",
        "    new_sequences.append(tokenizer.encode(frvw))\n",
        "\n",
        "  trunc_type='post' \n",
        "  padding_type='post'\n",
        "\n",
        "  # Pad all sequences for the new reviews\n",
        "  new_reviews_padded = pad_sequences(new_sequences, maxlen=max_length, \n",
        "                                 padding=padding_type, truncating=trunc_type)             \n",
        "\n",
        "  classes = model.predict(new_reviews_padded)\n",
        "\n",
        "  # The closer the class is to 1, the more positive the review is\n",
        "  for x in range(len(new_sentences)):\n",
        "    \n",
        "    # We can see the padded sequence if desired\n",
        "    # Print the sequence\n",
        "    if (show_padded_sequence):\n",
        "      print(new_reviews_padded[x])\n",
        "    # Print the review as text\n",
        "    print(new_sentences[x])\n",
        "    # Print its predicted class\n",
        "    print(classes[x])\n",
        "    print(\"\\n\")"
      ],
      "execution_count": null,
      "outputs": []
    },
    {
      "cell_type": "code",
      "metadata": {
        "colab": {
          "base_uri": "https://localhost:8080/"
        },
        "id": "I_yOR_w8z51Y",
        "outputId": "33578df8-5424-4a90-c974-3c60378dcb65"
      },
      "source": [
        "fake_reviews = [\"I love this phone\", \n",
        "                \"Everything was cold\",\n",
        "                \"Everything was hot exactly as I wanted\", \n",
        "                \"Everything was green\", \n",
        "                \"the host seated us immediately\",\n",
        "                \"they gave us free chocolate cake\", \n",
        "                \"we couldn't hear each other talk because of the shouting in the kitchen\"\n",
        "              ]\n",
        "\n",
        "predict_review(model_1, fake_reviews, show_padded_sequence=False)"
      ],
      "execution_count": null,
      "outputs": [
        {
          "output_type": "stream",
          "name": "stdout",
          "text": [
            "I love this phone\n",
            "[0.85162663]\n",
            "\n",
            "\n",
            "Everything was cold\n",
            "[0.09116298]\n",
            "\n",
            "\n",
            "Everything was hot exactly as I wanted\n",
            "[0.24483907]\n",
            "\n",
            "\n",
            "Everything was green\n",
            "[0.0797891]\n",
            "\n",
            "\n",
            "the host seated us immediately\n",
            "[0.37299234]\n",
            "\n",
            "\n",
            "they gave us free chocolate cake\n",
            "[0.6389912]\n",
            "\n",
            "\n",
            "we couldn't hear each other talk because of the shouting in the kitchen\n",
            "[0.01357505]\n",
            "\n",
            "\n"
          ]
        }
      ]
    },
    {
      "cell_type": "markdown",
      "metadata": {
        "id": "K7GzumdJ0j6o"
      },
      "source": [
        "# Bidirectional LSTMs"
      ]
    },
    {
      "cell_type": "markdown",
      "metadata": {
        "id": "Snl-IxSb0nzX"
      },
      "source": [
        "## Define a function to train and show the results of models with different layers\n",
        "In the rest of this colab, we will define models, and then see the results.\n",
        "\n",
        "Define a function that will take the model, compile it, train it, graph the accuracy and loss, and then predict some results."
      ]
    },
    {
      "cell_type": "code",
      "metadata": {
        "id": "xIYncOfPz9Xx"
      },
      "source": [
        "def fit_model_now (model, sentences) :\n",
        "  model.compile(loss='binary_crossentropy',optimizer='adam',metrics=['accuracy'])\n",
        "  model.summary()\n",
        "  history = model.fit(training_sentences, training_labels, epochs=num_epochs, \n",
        "                      validation_data=(testing_sentences, testing_labels))\n",
        "  return history\n",
        "\n",
        "def plot_results (history):\n",
        "  plot_graph(history, \"accuracy\")\n",
        "  plot_graph(history, \"loss\")\n",
        "\n",
        "def fit_model_and_show_results (model, sentences):\n",
        "  history = fit_model_now(model, sentences)\n",
        "  plot_results(history)\n",
        "  predict_review(model, sentences)"
      ],
      "execution_count": null,
      "outputs": []
    },
    {
      "cell_type": "markdown",
      "metadata": {
        "id": "MonQAoan0x3M"
      },
      "source": [
        "### Add a bidirectional LSTM\n",
        "Create a new model that uses a bidirectional LSTM.\n",
        "\n",
        "Then use the function we have already defined to compile the model, train it, graph the accuracy and loss, then predict some results."
      ]
    },
    {
      "cell_type": "code",
      "metadata": {
        "colab": {
          "base_uri": "https://localhost:8080/",
          "height": 1000
        },
        "id": "uDDcKvEE0pXp",
        "outputId": "40e1bd99-3a0b-4d9e-c18f-48e0b3918cf3"
      },
      "source": [
        "# Define the model\n",
        "model_bidi_lstm = tf.keras.Sequential([\n",
        "    tf.keras.layers.Embedding(vocab_size, embedding_dim, input_length=max_length),\n",
        "    tf.keras.layers.Bidirectional(tf.keras.layers.LSTM(embedding_dim)), \n",
        "    tf.keras.layers.Dense(6, activation='relu'), \n",
        "    tf.keras.layers.Dense(1, activation='sigmoid')\n",
        "])\n",
        "\n",
        "# Compile and train the model and then show the predictions for our extra sentences\n",
        "fit_model_and_show_results(model_bidi_lstm, fake_reviews)\n"
      ],
      "execution_count": null,
      "outputs": [
        {
          "output_type": "stream",
          "name": "stdout",
          "text": [
            "Model: \"sequential_4\"\n",
            "_________________________________________________________________\n",
            "Layer (type)                 Output Shape              Param #   \n",
            "=================================================================\n",
            "embedding_4 (Embedding)      (None, 50, 16)            16000     \n",
            "_________________________________________________________________\n",
            "bidirectional_3 (Bidirection (None, 32)                4224      \n",
            "_________________________________________________________________\n",
            "dense_8 (Dense)              (None, 6)                 198       \n",
            "_________________________________________________________________\n",
            "dense_9 (Dense)              (None, 1)                 7         \n",
            "=================================================================\n",
            "Total params: 20,429\n",
            "Trainable params: 20,429\n",
            "Non-trainable params: 0\n",
            "_________________________________________________________________\n",
            "Epoch 1/30\n",
            "50/50 [==============================] - 6s 47ms/step - loss: 0.6919 - accuracy: 0.5185 - val_loss: 0.7024 - val_accuracy: 0.4110\n",
            "Epoch 2/30\n",
            "50/50 [==============================] - 2s 31ms/step - loss: 0.6723 - accuracy: 0.5405 - val_loss: 0.6615 - val_accuracy: 0.5915\n",
            "Epoch 3/30\n",
            "50/50 [==============================] - 2s 32ms/step - loss: 0.5116 - accuracy: 0.7677 - val_loss: 0.5254 - val_accuracy: 0.7769\n",
            "Epoch 4/30\n",
            "50/50 [==============================] - 2s 33ms/step - loss: 0.3416 - accuracy: 0.8619 - val_loss: 0.5167 - val_accuracy: 0.7419\n",
            "Epoch 5/30\n",
            "50/50 [==============================] - 2s 32ms/step - loss: 0.2689 - accuracy: 0.8977 - val_loss: 0.6448 - val_accuracy: 0.7318\n",
            "Epoch 6/30\n",
            "50/50 [==============================] - 2s 33ms/step - loss: 0.2096 - accuracy: 0.9247 - val_loss: 0.6385 - val_accuracy: 0.7444\n",
            "Epoch 7/30\n",
            "50/50 [==============================] - 2s 32ms/step - loss: 0.1773 - accuracy: 0.9435 - val_loss: 0.6388 - val_accuracy: 0.7519\n",
            "Epoch 8/30\n",
            "50/50 [==============================] - 2s 32ms/step - loss: 0.1541 - accuracy: 0.9523 - val_loss: 0.8044 - val_accuracy: 0.7393\n",
            "Epoch 9/30\n",
            "50/50 [==============================] - 2s 32ms/step - loss: 0.1262 - accuracy: 0.9648 - val_loss: 0.8083 - val_accuracy: 0.7419\n",
            "Epoch 10/30\n",
            "50/50 [==============================] - 2s 32ms/step - loss: 0.1126 - accuracy: 0.9674 - val_loss: 0.8522 - val_accuracy: 0.7619\n",
            "Epoch 11/30\n",
            "50/50 [==============================] - 2s 32ms/step - loss: 0.0935 - accuracy: 0.9730 - val_loss: 0.9358 - val_accuracy: 0.7393\n",
            "Epoch 12/30\n",
            "50/50 [==============================] - 2s 33ms/step - loss: 0.0715 - accuracy: 0.9874 - val_loss: 0.9994 - val_accuracy: 0.7444\n",
            "Epoch 13/30\n",
            "50/50 [==============================] - 2s 33ms/step - loss: 0.0559 - accuracy: 0.9925 - val_loss: 1.1552 - val_accuracy: 0.7469\n",
            "Epoch 14/30\n",
            "50/50 [==============================] - 2s 32ms/step - loss: 0.0507 - accuracy: 0.9925 - val_loss: 1.2827 - val_accuracy: 0.7168\n",
            "Epoch 15/30\n",
            "50/50 [==============================] - 2s 32ms/step - loss: 0.0628 - accuracy: 0.9837 - val_loss: 1.1275 - val_accuracy: 0.7393\n",
            "Epoch 16/30\n",
            "50/50 [==============================] - 2s 35ms/step - loss: 0.0509 - accuracy: 0.9925 - val_loss: 1.2028 - val_accuracy: 0.7419\n",
            "Epoch 17/30\n",
            "50/50 [==============================] - 2s 33ms/step - loss: 0.0692 - accuracy: 0.9831 - val_loss: 1.3624 - val_accuracy: 0.7218\n",
            "Epoch 18/30\n",
            "50/50 [==============================] - 2s 32ms/step - loss: 0.0552 - accuracy: 0.9862 - val_loss: 1.3046 - val_accuracy: 0.7243\n",
            "Epoch 19/30\n",
            "50/50 [==============================] - 2s 33ms/step - loss: 0.0367 - accuracy: 0.9944 - val_loss: 1.2484 - val_accuracy: 0.7243\n",
            "Epoch 20/30\n",
            "50/50 [==============================] - 2s 32ms/step - loss: 0.0317 - accuracy: 0.9950 - val_loss: 1.3432 - val_accuracy: 0.7318\n",
            "Epoch 21/30\n",
            "50/50 [==============================] - 2s 32ms/step - loss: 0.0274 - accuracy: 0.9956 - val_loss: 1.3902 - val_accuracy: 0.7293\n",
            "Epoch 22/30\n",
            "50/50 [==============================] - 2s 32ms/step - loss: 0.0248 - accuracy: 0.9962 - val_loss: 1.4617 - val_accuracy: 0.7243\n",
            "Epoch 23/30\n",
            "50/50 [==============================] - 2s 32ms/step - loss: 0.0230 - accuracy: 0.9969 - val_loss: 1.4214 - val_accuracy: 0.7293\n",
            "Epoch 24/30\n",
            "50/50 [==============================] - 2s 32ms/step - loss: 0.0216 - accuracy: 0.9969 - val_loss: 1.5731 - val_accuracy: 0.7268\n",
            "Epoch 25/30\n",
            "50/50 [==============================] - 2s 32ms/step - loss: 0.0196 - accuracy: 0.9969 - val_loss: 1.4631 - val_accuracy: 0.7293\n",
            "Epoch 26/30\n",
            "50/50 [==============================] - 2s 32ms/step - loss: 0.0180 - accuracy: 0.9975 - val_loss: 1.4477 - val_accuracy: 0.7393\n",
            "Epoch 27/30\n",
            "50/50 [==============================] - 2s 32ms/step - loss: 0.0155 - accuracy: 0.9981 - val_loss: 1.5697 - val_accuracy: 0.7368\n",
            "Epoch 28/30\n",
            "50/50 [==============================] - 2s 32ms/step - loss: 0.0143 - accuracy: 0.9981 - val_loss: 1.5775 - val_accuracy: 0.7444\n",
            "Epoch 29/30\n",
            "50/50 [==============================] - 2s 33ms/step - loss: 0.0136 - accuracy: 0.9981 - val_loss: 1.6499 - val_accuracy: 0.7368\n",
            "Epoch 30/30\n",
            "50/50 [==============================] - 2s 33ms/step - loss: 0.0129 - accuracy: 0.9981 - val_loss: 1.6370 - val_accuracy: 0.7419\n"
          ]
        },
        {
          "output_type": "display_data",
          "data": {
            "image/png": "[encoded data removed]",
            "text/plain": [
              "<Figure size 432x288 with 1 Axes>"
            ]
          },
          "metadata": {
            "needs_background": "light"
          }
        },
        {
          "output_type": "display_data",
          "data": {
            "image/png": "[encoded data removed]",
            "text/plain": [
              "<Figure size 432x288 with 1 Axes>"
            ]
          },
          "metadata": {
            "needs_background": "light"
          }
        },
        {
          "output_type": "stream",
          "name": "stdout",
          "text": [
            "[  4 281  16  25   0   0   0   0   0   0   0   0   0   0   0   0   0   0\n",
            "   0   0   0   0   0   0   0   0   0   0   0   0   0   0   0   0   0   0\n",
            "   0   0   0   0   0   0   0   0   0   0   0   0   0   0]\n",
            "I love this phone\n",
            "[0.9989723]\n",
            "\n",
            "\n",
            "[812 227 864 100 775   9 525 843   0   0   0   0   0   0   0   0   0   0\n",
            "   0   0   0   0   0   0   0   0   0   0   0   0   0   0   0   0   0   0\n",
            "   0   0   0   0   0   0   0   0   0   0   0   0   0   0]\n",
            "Everything was cold\n",
            "[0.00761604]\n",
            "\n",
            "\n",
            "[812 227 864 100 775   9 109   8 333 731  24  61   4 171  59  77   0   0\n",
            "   0   0   0   0   0   0   0   0   0   0   0   0   0   0   0   0   0   0\n",
            "   0   0   0   0   0   0   0   0   0   0   0   0   0   0]\n",
            "Everything was hot exactly as I wanted\n",
            "[0.20060834]\n",
            "\n",
            "\n",
            "[812 227 864 100 775   9 157 359 853   0   0   0   0   0   0   0   0   0\n",
            "   0   0   0   0   0   0   0   0   0   0   0   0   0   0   0   0   0   0\n",
            "   0   0   0   0   0   0   0   0   0   0   0   0   0   0]\n",
            "Everything was green\n",
            "[0.00836697]\n",
            "\n",
            "\n",
            "[  1 109 228 540 237 635 241 423 340  89 298   0   0   0   0   0   0   0\n",
            "   0   0   0   0   0   0   0   0   0   0   0   0   0   0   0   0   0   0\n",
            "   0   0   0   0   0   0   0   0   0   0   0   0   0   0]\n",
            "the host seated us immediately\n",
            "[0.9994875]\n",
            "\n",
            "\n",
            "[154 242  47 635 341  12 569 547 147 319 775 125  85   0   0   0   0   0\n",
            "   0   0   0   0   0   0   0   0   0   0   0   0   0   0   0   0   0   0\n",
            "   0   0   0   0   0   0   0   0   0   0   0   0   0   0]\n",
            "they gave us free chocolate cake\n",
            "[0.57690805]\n",
            "\n",
            "\n",
            "[158 190 853 782   8 607 775 210 232 146 775 470  67 305 101  15   1 328\n",
            " 296  26  19   1 661 641 195   0   0   0   0   0   0   0   0   0   0   0\n",
            "   0   0   0   0   0   0   0   0   0   0   0   0   0   0]\n",
            "we couldn't hear each other talk because of the shouting in the kitchen\n",
            "[0.00217241]\n",
            "\n",
            "\n"
          ]
        }
      ]
    },
    {
      "cell_type": "markdown",
      "metadata": {
        "id": "3HroIKRV2da0"
      },
      "source": [
        "### Lets try using two layers of bidirectional LSTMs and see if it improves the results."
      ]
    },
    {
      "cell_type": "code",
      "metadata": {
        "colab": {
          "base_uri": "https://localhost:8080/",
          "height": 1000
        },
        "id": "gyzTFqcq04o9",
        "outputId": "6b61ac90-af4b-4bf7-c1e3-3796415e7956"
      },
      "source": [
        "# Define the model\n",
        "model_multiple_bidi_lstm = tf.keras.Sequential([\n",
        "    tf.keras.layers.Embedding(vocab_size, embedding_dim, input_length=max_length),\n",
        "    tf.keras.layers.Bidirectional(tf.keras.layers.LSTM(embedding_dim, return_sequences=True) ),\n",
        "    tf.keras.layers.Bidirectional(tf.keras.layers.LSTM(embedding_dim, return_sequences=False) ), \n",
        "\n",
        "    tf.keras.layers.Dense(6, activation='relu'), \n",
        "    tf.keras.layers.Dense(1, activation='sigmoid')\n",
        "])\n",
        "\n",
        "# Compile and train the model and then show the predictions for our extra sentences\n",
        "fit_model_and_show_results(model_multiple_bidi_lstm, fake_reviews)\n",
        "\n",
        "\n"
      ],
      "execution_count": null,
      "outputs": [
        {
          "output_type": "stream",
          "name": "stdout",
          "text": [
            "Model: \"sequential_5\"\n",
            "_________________________________________________________________\n",
            "Layer (type)                 Output Shape              Param #   \n",
            "=================================================================\n",
            "embedding_5 (Embedding)      (None, 50, 16)            16000     \n",
            "_________________________________________________________________\n",
            "bidirectional_4 (Bidirection (None, 50, 32)            4224      \n",
            "_________________________________________________________________\n",
            "bidirectional_5 (Bidirection (None, 32)                6272      \n",
            "_________________________________________________________________\n",
            "dense_10 (Dense)             (None, 6)                 198       \n",
            "_________________________________________________________________\n",
            "dense_11 (Dense)             (None, 1)                 7         \n",
            "=================================================================\n",
            "Total params: 26,701\n",
            "Trainable params: 26,701\n",
            "Non-trainable params: 0\n",
            "_________________________________________________________________\n",
            "Epoch 1/30\n",
            "50/50 [==============================] - 11s 91ms/step - loss: 0.6887 - accuracy: 0.5229 - val_loss: 0.7038 - val_accuracy: 0.4160\n",
            "Epoch 2/30\n",
            "50/50 [==============================] - 3s 63ms/step - loss: 0.5860 - accuracy: 0.6962 - val_loss: 0.6948 - val_accuracy: 0.6617\n",
            "Epoch 3/30\n",
            "50/50 [==============================] - 3s 63ms/step - loss: 0.3874 - accuracy: 0.8418 - val_loss: 0.5358 - val_accuracy: 0.7419\n",
            "Epoch 4/30\n",
            "50/50 [==============================] - 3s 63ms/step - loss: 0.2768 - accuracy: 0.9052 - val_loss: 0.5788 - val_accuracy: 0.7644\n",
            "Epoch 5/30\n",
            "50/50 [==============================] - 3s 63ms/step - loss: 0.2259 - accuracy: 0.9234 - val_loss: 0.6616 - val_accuracy: 0.7368\n",
            "Epoch 6/30\n",
            "50/50 [==============================] - 3s 62ms/step - loss: 0.1920 - accuracy: 0.9379 - val_loss: 0.8077 - val_accuracy: 0.7268\n",
            "Epoch 7/30\n",
            "50/50 [==============================] - 3s 63ms/step - loss: 0.1517 - accuracy: 0.9579 - val_loss: 0.9174 - val_accuracy: 0.7368\n",
            "Epoch 8/30\n",
            "50/50 [==============================] - 3s 63ms/step - loss: 0.1437 - accuracy: 0.9567 - val_loss: 0.9937 - val_accuracy: 0.7143\n",
            "Epoch 9/30\n",
            "50/50 [==============================] - 3s 63ms/step - loss: 0.1589 - accuracy: 0.9492 - val_loss: 0.7852 - val_accuracy: 0.7619\n",
            "Epoch 10/30\n",
            "50/50 [==============================] - 3s 61ms/step - loss: 0.1125 - accuracy: 0.9705 - val_loss: 0.9146 - val_accuracy: 0.7469\n",
            "Epoch 11/30\n",
            "50/50 [==============================] - 3s 62ms/step - loss: 0.1018 - accuracy: 0.9730 - val_loss: 0.9069 - val_accuracy: 0.7469\n",
            "Epoch 12/30\n",
            "50/50 [==============================] - 3s 62ms/step - loss: 0.0827 - accuracy: 0.9818 - val_loss: 1.0088 - val_accuracy: 0.7393\n",
            "Epoch 13/30\n",
            "50/50 [==============================] - 3s 63ms/step - loss: 0.0841 - accuracy: 0.9793 - val_loss: 0.9492 - val_accuracy: 0.7419\n",
            "Epoch 14/30\n",
            "50/50 [==============================] - 3s 63ms/step - loss: 0.1073 - accuracy: 0.9711 - val_loss: 0.9833 - val_accuracy: 0.7318\n",
            "Epoch 15/30\n",
            "50/50 [==============================] - 3s 62ms/step - loss: 0.1076 - accuracy: 0.9749 - val_loss: 0.9682 - val_accuracy: 0.7444\n",
            "Epoch 16/30\n",
            "50/50 [==============================] - 3s 63ms/step - loss: 0.0817 - accuracy: 0.9812 - val_loss: 0.9843 - val_accuracy: 0.7419\n",
            "Epoch 17/30\n",
            "50/50 [==============================] - 3s 63ms/step - loss: 0.0708 - accuracy: 0.9856 - val_loss: 1.1350 - val_accuracy: 0.7318\n",
            "Epoch 18/30\n",
            "50/50 [==============================] - 3s 63ms/step - loss: 0.0704 - accuracy: 0.9849 - val_loss: 1.1818 - val_accuracy: 0.7393\n",
            "Epoch 19/30\n",
            "50/50 [==============================] - 3s 64ms/step - loss: 0.0865 - accuracy: 0.9780 - val_loss: 1.0973 - val_accuracy: 0.7318\n",
            "Epoch 20/30\n",
            "50/50 [==============================] - 3s 63ms/step - loss: 0.0792 - accuracy: 0.9812 - val_loss: 1.1243 - val_accuracy: 0.7343\n",
            "Epoch 21/30\n",
            "50/50 [==============================] - 3s 63ms/step - loss: 0.0714 - accuracy: 0.9856 - val_loss: 1.1223 - val_accuracy: 0.7368\n",
            "Epoch 22/30\n",
            "50/50 [==============================] - 3s 62ms/step - loss: 0.0607 - accuracy: 0.9874 - val_loss: 1.0735 - val_accuracy: 0.7419\n",
            "Epoch 23/30\n",
            "50/50 [==============================] - 3s 66ms/step - loss: 0.0578 - accuracy: 0.9881 - val_loss: 1.2164 - val_accuracy: 0.7193\n",
            "Epoch 24/30\n",
            "50/50 [==============================] - 3s 65ms/step - loss: 0.0521 - accuracy: 0.9900 - val_loss: 1.2124 - val_accuracy: 0.7243\n",
            "Epoch 25/30\n",
            "50/50 [==============================] - 3s 62ms/step - loss: 0.0510 - accuracy: 0.9900 - val_loss: 1.1774 - val_accuracy: 0.7343\n",
            "Epoch 26/30\n",
            "50/50 [==============================] - 3s 63ms/step - loss: 0.0483 - accuracy: 0.9906 - val_loss: 1.2490 - val_accuracy: 0.7243\n",
            "Epoch 27/30\n",
            "50/50 [==============================] - 3s 63ms/step - loss: 0.0517 - accuracy: 0.9881 - val_loss: 1.2521 - val_accuracy: 0.7318\n",
            "Epoch 28/30\n",
            "50/50 [==============================] - 3s 63ms/step - loss: 0.0748 - accuracy: 0.9793 - val_loss: 1.1611 - val_accuracy: 0.7343\n",
            "Epoch 29/30\n",
            "50/50 [==============================] - 3s 63ms/step - loss: 0.0652 - accuracy: 0.9837 - val_loss: 1.0744 - val_accuracy: 0.7544\n",
            "Epoch 30/30\n",
            "50/50 [==============================] - 3s 62ms/step - loss: 0.0663 - accuracy: 0.9824 - val_loss: 1.1586 - val_accuracy: 0.7368\n"
          ]
        },
        {
          "output_type": "display_data",
          "data": {
            "image/png": "[encoded data removed]",
            "text/plain": [
              "<Figure size 432x288 with 1 Axes>"
            ]
          },
          "metadata": {
            "needs_background": "light"
          }
        },
        {
          "output_type": "display_data",
          "data": {
            "image/png": "[encoded data removed]",
            "text/plain": [
              "<Figure size 432x288 with 1 Axes>"
            ]
          },
          "metadata": {
            "needs_background": "light"
          }
        },
        {
          "output_type": "stream",
          "name": "stdout",
          "text": [
            "I love this phone\n",
            "[0.9966212]\n",
            "\n",
            "\n",
            "Everything was cold\n",
            "[0.00953019]\n",
            "\n",
            "\n",
            "Everything was hot exactly as I wanted\n",
            "[0.01033404]\n",
            "\n",
            "\n",
            "Everything was green\n",
            "[0.00877434]\n",
            "\n",
            "\n",
            "the host seated us immediately\n",
            "[0.01135755]\n",
            "\n",
            "\n",
            "they gave us free chocolate cake\n",
            "[0.99721456]\n",
            "\n",
            "\n",
            "we couldn't hear each other talk because of the shouting in the kitchen\n",
            "[0.01884302]\n",
            "\n",
            "\n"
          ]
        }
      ]
    },
    {
      "cell_type": "code",
      "metadata": {
        "id": "aLngqn3d22aY"
      },
      "source": [
        "my_reviews =[\"lovely\", \"dreadful\", \"stay away\",\n",
        "             \"everything was hot exactly as I wanted\",\n",
        "             \"everything was not exactly as I wanted\",\n",
        "             \"they gave us free chocolate cake\",\n",
        "             \"I've never eaten anything so spicy in my life, my throat burned for hours\",\n",
        "             \"for a phone that is as expensive as this one I expect it to be much easier to use than this thing is\",\n",
        "             \"we left there very full for a low price so I'd say you just can't go wrong at this place\",\n",
        "             \"that place does not have quality meals and it isn't a good place to go for dinner\",\n",
        "             ]"
      ],
      "execution_count": null,
      "outputs": []
    },
    {
      "cell_type": "code",
      "metadata": {
        "colab": {
          "base_uri": "https://localhost:8080/"
        },
        "id": "CpDcDxTz4eBV",
        "outputId": "0096316d-beb1-412d-f313-b3abc669312f"
      },
      "source": [
        "print(\"===================================\\n\",\"Embeddings only:\\n\", \"===================================\",)\n",
        "predict_review(model_1, my_reviews, show_padded_sequence=False)"
      ],
      "execution_count": null,
      "outputs": [
        {
          "output_type": "stream",
          "name": "stdout",
          "text": [
            "===================================\n",
            " Embeddings only:\n",
            " ===================================\n",
            "lovely\n",
            "[0.8905479]\n",
            "\n",
            "\n",
            "dreadful\n",
            "[0.25402635]\n",
            "\n",
            "\n",
            "stay away\n",
            "[0.5652978]\n",
            "\n",
            "\n",
            "everything was hot exactly as I wanted\n",
            "[0.6534108]\n",
            "\n",
            "\n",
            "everything was not exactly as I wanted\n",
            "[0.43083143]\n",
            "\n",
            "\n",
            "they gave us free chocolate cake\n",
            "[0.6389912]\n",
            "\n",
            "\n",
            "I've never eaten anything so spicy in my life, my throat burned for hours\n",
            "[0.02094495]\n",
            "\n",
            "\n",
            "for a phone that is as expensive as this one I expect it to be much easier to use than this thing is\n",
            "[0.5761249]\n",
            "\n",
            "\n",
            "we left there very full for a low price so I'd say you just can't go wrong at this place\n",
            "[0.778965]\n",
            "\n",
            "\n",
            "that place does not have quality meals and it isn't a good place to go for dinner\n",
            "[0.81437576]\n",
            "\n",
            "\n"
          ]
        }
      ]
    },
    {
      "cell_type": "code",
      "metadata": {
        "colab": {
          "base_uri": "https://localhost:8080/"
        },
        "id": "avgjaxG14f5F",
        "outputId": "d6bfd3d9-d905-4eef-c293-df8362de85ac"
      },
      "source": [
        "print(\"===================================\\n\",\"Embeddings only:\\n\", \"===================================\",)\n",
        "predict_review(model_bidi_lstm, my_reviews, show_padded_sequence=False)"
      ],
      "execution_count": null,
      "outputs": [
        {
          "output_type": "stream",
          "name": "stdout",
          "text": [
            "===================================\n",
            " Embeddings only:\n",
            " ===================================\n",
            "lovely\n",
            "[0.99900454]\n",
            "\n",
            "\n",
            "dreadful\n",
            "[0.00343779]\n",
            "\n",
            "\n",
            "stay away\n",
            "[0.00666431]\n",
            "\n",
            "\n",
            "everything was hot exactly as I wanted\n",
            "[0.4595488]\n",
            "\n",
            "\n",
            "everything was not exactly as I wanted\n",
            "[0.00510675]\n",
            "\n",
            "\n",
            "they gave us free chocolate cake\n",
            "[0.57690805]\n",
            "\n",
            "\n",
            "I've never eaten anything so spicy in my life, my throat burned for hours\n",
            "[0.00915682]\n",
            "\n",
            "\n",
            "for a phone that is as expensive as this one I expect it to be much easier to use than this thing is\n",
            "[0.01742363]\n",
            "\n",
            "\n",
            "we left there very full for a low price so I'd say you just can't go wrong at this place\n",
            "[0.99999815]\n",
            "\n",
            "\n",
            "that place does not have quality meals and it isn't a good place to go for dinner\n",
            "[0.03323779]\n",
            "\n",
            "\n"
          ]
        }
      ]
    },
    {
      "cell_type": "code",
      "metadata": {
        "colab": {
          "base_uri": "https://localhost:8080/"
        },
        "id": "yeTt2jIl4i0Q",
        "outputId": "3bb99d65-4156-4fa3-c079-3cbb59db1ea7"
      },
      "source": [
        "print(\"===================================\\n\",\"Embeddings only:\\n\", \"===================================\",)\n",
        "predict_review(model_multiple_bidi_lstm, my_reviews, show_padded_sequence=False)"
      ],
      "execution_count": null,
      "outputs": [
        {
          "output_type": "stream",
          "name": "stdout",
          "text": [
            "===================================\n",
            " Embeddings only:\n",
            " ===================================\n",
            "lovely\n",
            "[0.9965506]\n",
            "\n",
            "\n",
            "dreadful\n",
            "[0.01303869]\n",
            "\n",
            "\n",
            "stay away\n",
            "[0.9562073]\n",
            "\n",
            "\n",
            "everything was hot exactly as I wanted\n",
            "[0.01146838]\n",
            "\n",
            "\n",
            "everything was not exactly as I wanted\n",
            "[0.01680407]\n",
            "\n",
            "\n",
            "they gave us free chocolate cake\n",
            "[0.99721456]\n",
            "\n",
            "\n",
            "I've never eaten anything so spicy in my life, my throat burned for hours\n",
            "[0.05810186]\n",
            "\n",
            "\n",
            "for a phone that is as expensive as this one I expect it to be much easier to use than this thing is\n",
            "[0.02086058]\n",
            "\n",
            "\n",
            "we left there very full for a low price so I'd say you just can't go wrong at this place\n",
            "[0.55606866]\n",
            "\n",
            "\n",
            "that place does not have quality meals and it isn't a good place to go for dinner\n",
            "[0.04337052]\n",
            "\n",
            "\n"
          ]
        }
      ]
    },
    {
      "cell_type": "code",
      "metadata": {
        "id": "_x5NPql_48g5"
      },
      "source": [
        ""
      ],
      "execution_count": null,
      "outputs": []
    }
  ]
}