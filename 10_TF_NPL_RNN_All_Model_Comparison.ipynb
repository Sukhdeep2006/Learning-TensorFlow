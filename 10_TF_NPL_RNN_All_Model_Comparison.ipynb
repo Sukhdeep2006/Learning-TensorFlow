{
  "nbformat": 4,
  "nbformat_minor": 0,
  "metadata": {
    "colab": {
      "name": "10-TF-NPL-RNN-All-Model-Comparison.ipynb",
      "provenance": [],
      "collapsed_sections": [],
      "authorship_tag": "ABX9TyPY9u1qxEjdzj47mgaGMN8Y",
      "include_colab_link": true
    },
    "kernelspec": {
      "name": "python3",
      "display_name": "Python 3"
    },
    "language_info": {
      "name": "python"
    }
  },
  "cells": [
    {
      "cell_type": "markdown",
      "metadata": {
        "id": "view-in-github",
        "colab_type": "text"
      },
      "source": [
        "<a href=\"https://colab.research.google.com/github/Sukhdeep2006/Learning-TensorFlow/blob/main/10_TF_NPL_RNN_All_Model_Comparison.ipynb\" target=\"_parent\"><img src=\"https://colab.research.google.com/assets/colab-badge.svg\" alt=\"Open In Colab\"/></a>"
      ]
    },
    {
      "cell_type": "markdown",
      "metadata": {
        "id": "YrX-45kJeWO2"
      },
      "source": [
        "# Embeddings only vs LSTM vs CNN vs GRU Model Performance"
      ]
    },
    {
      "cell_type": "markdown",
      "metadata": {
        "id": "1WRxlxtyeh-V"
      },
      "source": [
        "So far, we have been using a small dataset with only 2000 reviews for sentiment analysis using these models and were getting some decent results. But now we will try using a bigger dataset with the reviews in the range of 60K and see how it improves the performance of these models.   \n",
        "\n",
        "We will also try to predict the sentiments of our own reviews to see how well the performance of our models generalises.\n",
        "\n",
        "Lets get into it."
      ]
    },
    {
      "cell_type": "markdown",
      "metadata": {
        "id": "c20MpRxmf_mG"
      },
      "source": [
        "We will use the Stanford Sentiment Treebank (SST) dataset that consists of sentences from movie reviews and human annotations of their sentiment. This colab uses version 2 of the SST dataset.   \n",
        "\n",
        "The splits are:\n",
        "\n",
        "train 67,349   \n",
        "validation 872   \n",
        "and the column headings are:   \n",
        "\n",
        "sentence   \n",
        "label   \n",
        "For more information about the dataset, see https://www.tensorflow.org/datasets/catalog/glue#gluesst2"
      ]
    },
    {
      "cell_type": "code",
      "metadata": {
        "id": "YL3bPqHFeOqR"
      },
      "source": [
        "import tensorflow as tf\n",
        "import tensorflow_datasets as tfds\n",
        "import numpy as np\n",
        "import pandas as pd\n",
        "import matplotlib.pyplot as plt\n",
        "import io\n",
        "import os\n",
        "from tensorflow.keras.preprocessing.text import Tokenizer\n",
        "from tensorflow.keras.preprocessing.sequence import pad_sequences"
      ],
      "execution_count": null,
      "outputs": []
    },
    {
      "cell_type": "markdown",
      "metadata": {
        "id": "_StJTW2CkWWr"
      },
      "source": [
        "### We will download the datset from the URL below."
      ]
    },
    {
      "cell_type": "code",
      "metadata": {
        "colab": {
          "base_uri": "https://localhost:8080/"
        },
        "id": "Cl91Yhn9mb13",
        "outputId": "b12465e1-f84c-49f7-d6d2-8adc9bd72c2b"
      },
      "source": [
        "# dataset, info = tfds.load('glue/sst2',with_info=True )\n",
        "# print(dataset.keys())\n",
        "\n",
        "_url = 'https://dl.fbaipublicfiles.com/glue/data/SST-2.zip'\n",
        "zip_dir = tf.keras.utils.get_file('reviews.zip',origin= _url,extract = True)\n",
        "zip_dir_base = os.path.dirname(zip_dir)\n",
        "\n",
        "os.listdir(os.path.join(zip_dir_base, 'SST-2'))\n",
        "\n",
        "#print(zip_dir, zip_dir_base, file_path)\n",
        "# os.listdir(zip_dir_base)\n",
        "# !find $zip_dir_base -type d -print"
      ],
      "execution_count": null,
      "outputs": [
        {
          "output_type": "execute_result",
          "data": {
            "text/plain": [
              "['test.tsv', 'train.tsv', 'dev.tsv', 'original']"
            ]
          },
          "metadata": {},
          "execution_count": 18
        }
      ]
    },
    {
      "cell_type": "code",
      "metadata": {
        "id": "jcuidc-xkf_0"
      },
      "source": [
        "train_file_path = os.path.join(zip_dir_base, 'SST-2/train.tsv')\n",
        "test_file_path = os.path.join(zip_dir_base, 'SST-2/test.tsv')\n",
        "dev_file_path = os.path.join(zip_dir_base, 'SST-2/dev.tsv')"
      ],
      "execution_count": null,
      "outputs": []
    },
    {
      "cell_type": "code",
      "metadata": {
        "id": "KfVIUg0Ws5dA"
      },
      "source": [
        "train_dataset = pd.read_csv(train_file_path, delimiter='\\t')\n",
        "test_dataset = pd.read_csv(test_file_path, delimiter='\\t')\n",
        "dev_dataset = pd.read_csv(dev_file_path, delimiter='\\t')"
      ],
      "execution_count": null,
      "outputs": []
    },
    {
      "cell_type": "code",
      "metadata": {
        "colab": {
          "base_uri": "https://localhost:8080/"
        },
        "id": "7kS9Lw81joZ5",
        "outputId": "2f07c52d-5bcc-4772-def5-b21767a97950"
      },
      "source": [
        "print(train_dataset.keys() , test_dataset.keys(), dev_dataset.keys())\n",
        "\n",
        "train_sentences = train_dataset['sentence'].tolist()[:10000]\n",
        "train_labels = train_dataset['label'].tolist()[:10000]\n",
        "\n",
        "#for item in train_dataset:\n",
        "#  sentence, label = item['sentence'], item['label']\n",
        "#  train_sentences.append(str(sentence.numpy()))\n",
        "#  train_sentences.append(label.numpy())\n",
        "\n",
        "# train_sentences = train_dataset['sentence'].tolist()\n",
        "# train_labels = train_dataset['label'].tolist()\n",
        "\n",
        "dev_sentences = dev_dataset['sentence'].tolist()\n",
        "dev_labels = dev_dataset['label'].tolist()\n",
        "\n",
        "print(len(train_sentences), len(train_labels),len(dev_sentences),len(dev_labels) , '\\n')\n",
        "\n",
        "#Lets take a look at the first five training sentences and labels.\n",
        "\n",
        "for i in range(5):\n",
        "  print( dataset['sentence'][i], dataset['label'][i])\n",
        "\n",
        "# print(type(train_sentences), type(dev_sentences))\n"
      ],
      "execution_count": null,
      "outputs": [
        {
          "output_type": "stream",
          "name": "stdout",
          "text": [
            "Index(['sentence', 'label'], dtype='object') Index(['index', 'sentence'], dtype='object') Index(['sentence', 'label'], dtype='object')\n",
            "10000 10000 872 872 \n",
            "\n",
            "hide new secretions from the parental units  0\n",
            "contains no wit , only labored gags  0\n",
            "that loves its characters and communicates something rather beautiful about human nature  1\n",
            "remains utterly satisfied to remain the same throughout  0\n",
            "on the worst revenge-of-the-nerds clichés the filmmakers could dredge up  0\n",
            "<class 'list'> <class 'list'>\n"
          ]
        }
      ]
    },
    {
      "cell_type": "code",
      "metadata": {
        "id": "pzff9J5Gfj_a"
      },
      "source": [
        "vocab_size = 5000\n",
        "embedding_dim = 16\n",
        "trunc_type = 'post'\n",
        "pad_type = 'post'\n",
        "oov_token = '<OOV>'\n",
        "max_length = 50\n",
        "\n",
        "tokenizer = Tokenizer(num_words=vocab_size, oov_token = oov_token)\n",
        "tokenizer.fit_on_texts(train_sentences)\n",
        "word_index = tokenizer.word_index\n"
      ],
      "execution_count": null,
      "outputs": []
    },
    {
      "cell_type": "markdown",
      "metadata": {
        "id": "k_TkxLNwrUwe"
      },
      "source": [
        "### Lets define and pad the sequences now"
      ]
    },
    {
      "cell_type": "code",
      "metadata": {
        "id": "1iGLLpzMgRt-"
      },
      "source": [
        "train_sequences = tokenizer.texts_to_sequences(train_sentences)\n",
        "dev_sequences = tokenizer.texts_to_sequences(dev_sentences)\n",
        "\n",
        "train_padded = pad_sequences(train_sequences, max_length, padding = pad_type, truncating=trunc_type)\n",
        "dev_padded = pad_sequences(dev_sequences, max_length, padding = pad_type, truncating=trunc_type)\n",
        "\n",
        "training_labels_final = np.array(train_labels)\n",
        "dev_labels_final = np.array(dev_labels)"
      ],
      "execution_count": null,
      "outputs": []
    },
    {
      "cell_type": "markdown",
      "metadata": {
        "id": "tt4x-fNR7ZAJ"
      },
      "source": [
        "### Lets define some fake reviews to test our model's predictions ourselves.\n"
      ]
    },
    {
      "cell_type": "code",
      "metadata": {
        "id": "ebkimw8i7gyM"
      },
      "source": [
        "fake_reviews = [\"I love this phone\", \n",
        "                \"Everything was cold\",\n",
        "                \"Everything was hot exactly as I wanted\", \n",
        "                \"Everything was green\", \n",
        "                \"the host seated us immediately\",\n",
        "                \"they gave us free chocolate cake\", \n",
        "                \"we couldn't hear each other talk because of the shouting in the kitchen\"\n",
        "              ]\n"
      ],
      "execution_count": null,
      "outputs": []
    },
    {
      "cell_type": "markdown",
      "metadata": {
        "id": "vuQq8bXY7pa5"
      },
      "source": [
        "### Here, we will write some generic methods to look at the perfrmance of each of these models."
      ]
    },
    {
      "cell_type": "code",
      "metadata": {
        "id": "qA41sDXO7zyx"
      },
      "source": [
        "def plot_graph(history, string):\n",
        "  plt.plot(history.history[string])\n",
        "  plt.plot(history.history['val_' + string])\n",
        "  plt.xlabel= 'EPOCHS'\n",
        "  plt.ylabel= string \n",
        "  plt.legend([string, 'val_'+ string])\n",
        "  plt.show()\n"
      ],
      "execution_count": null,
      "outputs": []
    },
    {
      "cell_type": "code",
      "metadata": {
        "id": "_wAbeeOL-M_n"
      },
      "source": [
        "def predict_reviews(model, fake_reviews, show_padded_sequence = False):\n",
        "  \n",
        "  review_sequences = tokenizer.texts_to_sequences(fake_reviews)\n",
        "  review_sequences_padded = pad_sequences(review_sequences, maxlen = max_length, padding=pad_type, truncating=trunc_type)    \n",
        "  predictions =model.predict(review_sequences_padded)\n",
        "  for i in range(len(predictions)):\n",
        "    print(fake_reviews[i], predictions[i] )\n",
        "    if(show_padded_sequence):\n",
        "      print(review_sequences_padded[i], '\\n')"
      ],
      "execution_count": null,
      "outputs": []
    },
    {
      "cell_type": "code",
      "metadata": {
        "id": "URKSje4EC9xE"
      },
      "source": [
        "def fit_and_predict_model(model, num_epochs):\n",
        "  \n",
        "  \n",
        "  model.summary()\n",
        "  history = model.fit(train_padded, training_labels_final, epochs= num_epochs, validation_data=(dev_padded, dev_labels_final) )\n",
        "  plot_graph(history, 'loss')\n",
        "  plot_graph(history, 'accuracy')\n",
        "  predict_reviews(model, fake_reviews, show_padded_sequence = False)"
      ],
      "execution_count": null,
      "outputs": []
    },
    {
      "cell_type": "markdown",
      "metadata": {
        "id": "vYje-9RluTJz"
      },
      "source": [
        "### We got all the ingradients ready before we mix them up and cook our model.\n",
        "\n",
        "### Remember, we are going to try the following different models this time:\n",
        "\n",
        "\n",
        "\n",
        "*   Embeddings Only\n",
        "*   CNN\n",
        "*   GRU\n",
        "*   LSTM\n",
        "*   Stacked LSTM\n",
        "\n",
        "Lets start with creating an Embeddings only model and see how it performs.\n",
        "\n"
      ]
    },
    {
      "cell_type": "code",
      "metadata": {
        "id": "KVCkFJQQqeTv"
      },
      "source": [
        "model_embed = tf.keras.models.Sequential([\n",
        "                                          tf.keras.layers.Embedding(vocab_size, embedding_dim, input_length=max_length),\n",
        "                                          tf.keras.layers.GlobalAveragePooling1D(),\n",
        "                                          tf.keras.layers.Dense(1, activation='sigmoid')\n",
        "])\n",
        "\n",
        "model_embed.compile(loss = 'binary_crossentropy', optimizer = 'adam', metrics = ['accuracy'])"
      ],
      "execution_count": null,
      "outputs": []
    },
    {
      "cell_type": "code",
      "metadata": {
        "colab": {
          "base_uri": "https://localhost:8080/",
          "height": 1000
        },
        "id": "qn1kesDR0WGH",
        "outputId": "c14b68d7-0526-434b-f22f-14bfe653c68a"
      },
      "source": [
        "fit_and_predict_model(model_embed, 25)\n"
      ],
      "execution_count": null,
      "outputs": [
        {
          "output_type": "stream",
          "name": "stdout",
          "text": [
            "Model: \"sequential_7\"\n",
            "_________________________________________________________________\n",
            "Layer (type)                 Output Shape              Param #   \n",
            "=================================================================\n",
            "embedding_7 (Embedding)      (None, 50, 16)            80000     \n",
            "_________________________________________________________________\n",
            "global_average_pooling1d_5 ( (None, 16)                0         \n",
            "_________________________________________________________________\n",
            "dense_7 (Dense)              (None, 1)                 17        \n",
            "=================================================================\n",
            "Total params: 80,017\n",
            "Trainable params: 80,017\n",
            "Non-trainable params: 0\n",
            "_________________________________________________________________\n",
            "Epoch 1/25\n",
            "313/313 [==============================] - 1s 3ms/step - loss: 0.6900 - accuracy: 0.5528 - val_loss: 0.6926 - val_accuracy: 0.5092\n",
            "Epoch 2/25\n",
            "313/313 [==============================] - 1s 2ms/step - loss: 0.6874 - accuracy: 0.5529 - val_loss: 0.6926 - val_accuracy: 0.5092\n",
            "Epoch 3/25\n",
            "313/313 [==============================] - 1s 2ms/step - loss: 0.6859 - accuracy: 0.5529 - val_loss: 0.6925 - val_accuracy: 0.5092\n",
            "Epoch 4/25\n",
            "313/313 [==============================] - 1s 2ms/step - loss: 0.6848 - accuracy: 0.5529 - val_loss: 0.6922 - val_accuracy: 0.5092\n",
            "Epoch 5/25\n",
            "313/313 [==============================] - 1s 2ms/step - loss: 0.6839 - accuracy: 0.5529 - val_loss: 0.6915 - val_accuracy: 0.5092\n",
            "Epoch 6/25\n",
            "313/313 [==============================] - 1s 2ms/step - loss: 0.6830 - accuracy: 0.5529 - val_loss: 0.6906 - val_accuracy: 0.5092\n",
            "Epoch 7/25\n",
            "313/313 [==============================] - 1s 2ms/step - loss: 0.6821 - accuracy: 0.5530 - val_loss: 0.6897 - val_accuracy: 0.5092\n",
            "Epoch 8/25\n",
            "313/313 [==============================] - 1s 2ms/step - loss: 0.6811 - accuracy: 0.5531 - val_loss: 0.6887 - val_accuracy: 0.5092\n",
            "Epoch 9/25\n",
            "313/313 [==============================] - 1s 2ms/step - loss: 0.6801 - accuracy: 0.5539 - val_loss: 0.6875 - val_accuracy: 0.5103\n",
            "Epoch 10/25\n",
            "313/313 [==============================] - 1s 2ms/step - loss: 0.6789 - accuracy: 0.5545 - val_loss: 0.6859 - val_accuracy: 0.5126\n",
            "Epoch 11/25\n",
            "313/313 [==============================] - 1s 2ms/step - loss: 0.6777 - accuracy: 0.5550 - val_loss: 0.6844 - val_accuracy: 0.5183\n",
            "Epoch 12/25\n",
            "313/313 [==============================] - 1s 2ms/step - loss: 0.6764 - accuracy: 0.5560 - val_loss: 0.6830 - val_accuracy: 0.5229\n",
            "Epoch 13/25\n",
            "313/313 [==============================] - 1s 2ms/step - loss: 0.6750 - accuracy: 0.5570 - val_loss: 0.6812 - val_accuracy: 0.5264\n",
            "Epoch 14/25\n",
            "313/313 [==============================] - 1s 2ms/step - loss: 0.6735 - accuracy: 0.5586 - val_loss: 0.6793 - val_accuracy: 0.5333\n",
            "Epoch 15/25\n",
            "313/313 [==============================] - 1s 2ms/step - loss: 0.6719 - accuracy: 0.5611 - val_loss: 0.6776 - val_accuracy: 0.5367\n",
            "Epoch 16/25\n",
            "313/313 [==============================] - 1s 2ms/step - loss: 0.6702 - accuracy: 0.5630 - val_loss: 0.6754 - val_accuracy: 0.5539\n",
            "Epoch 17/25\n",
            "313/313 [==============================] - 1s 2ms/step - loss: 0.6685 - accuracy: 0.5664 - val_loss: 0.6734 - val_accuracy: 0.5608\n",
            "Epoch 18/25\n",
            "313/313 [==============================] - 1s 2ms/step - loss: 0.6666 - accuracy: 0.5699 - val_loss: 0.6714 - val_accuracy: 0.5722\n",
            "Epoch 19/25\n",
            "313/313 [==============================] - 1s 2ms/step - loss: 0.6647 - accuracy: 0.5720 - val_loss: 0.6690 - val_accuracy: 0.5906\n",
            "Epoch 20/25\n",
            "313/313 [==============================] - 1s 2ms/step - loss: 0.6626 - accuracy: 0.5760 - val_loss: 0.6667 - val_accuracy: 0.5940\n",
            "Epoch 21/25\n",
            "313/313 [==============================] - 1s 2ms/step - loss: 0.6605 - accuracy: 0.5796 - val_loss: 0.6641 - val_accuracy: 0.5998\n",
            "Epoch 22/25\n",
            "313/313 [==============================] - 1s 2ms/step - loss: 0.6583 - accuracy: 0.5877 - val_loss: 0.6616 - val_accuracy: 0.6044\n",
            "Epoch 23/25\n",
            "313/313 [==============================] - 1s 2ms/step - loss: 0.6560 - accuracy: 0.5941 - val_loss: 0.6592 - val_accuracy: 0.6147\n",
            "Epoch 24/25\n",
            "313/313 [==============================] - 1s 2ms/step - loss: 0.6536 - accuracy: 0.5998 - val_loss: 0.6565 - val_accuracy: 0.6227\n",
            "Epoch 25/25\n",
            "313/313 [==============================] - 1s 2ms/step - loss: 0.6511 - accuracy: 0.6045 - val_loss: 0.6538 - val_accuracy: 0.6319\n"
          ]
        },
        {
          "output_type": "display_data",
          "data": {
            "image/png": "[encoded data removed]",
            "text/plain": [
              "<Figure size 432x288 with 1 Axes>"
            ]
          },
          "metadata": {
            "needs_background": "light"
          }
        },
        {
          "output_type": "display_data",
          "data": {
            "image/png": "[encoded data removed]",
            "text/plain": [
              "<Figure size 432x288 with 1 Axes>"
            ]
          },
          "metadata": {
            "needs_background": "light"
          }
        },
        {
          "output_type": "stream",
          "name": "stdout",
          "text": [
            "WARNING:tensorflow:6 out of the last 14 calls to <function Model.make_predict_function.<locals>.predict_function at 0x7f6fad935170> triggered tf.function retracing. Tracing is expensive and the excessive number of tracings could be due to (1) creating @tf.function repeatedly in a loop, (2) passing tensors with different shapes, (3) passing Python objects instead of tensors. For (1), please define your @tf.function outside of the loop. For (2), @tf.function has experimental_relax_shapes=True option that relaxes argument shapes that can avoid unnecessary retracing. For (3), please refer to https://www.tensorflow.org/guide/function#controlling_retracing and https://www.tensorflow.org/api_docs/python/tf/function for  more details.\n",
            "I love this phone [0.56140137]\n",
            "Everything was cold [0.54590786]\n",
            "Everything was hot exactly as I wanted [0.5322434]\n",
            "Everything was green [0.55382675]\n",
            "the host seated us immediately [0.57033366]\n",
            "they gave us free chocolate cake [0.5323923]\n",
            "we couldn't hear each other talk because of the shouting in the kitchen [0.531145]\n"
          ]
        }
      ]
    },
    {
      "cell_type": "code",
      "metadata": {
        "id": "d4SYjEOE7-kx"
      },
      "source": [
        "model_cnn = tf.keras.models.Sequential([\n",
        "                          tf.keras.layers.Embedding(vocab_size, embedding_dim, input_length=max_length),\n",
        "                          tf.keras.layers.Conv1D(16, 5, activation = 'relu'),\n",
        "                          tf.keras.layers.GlobalMaxPooling1D(),\n",
        "                          tf.keras.layers.Dense(1, activation = 'sigmoid')              \n",
        "])\n",
        "\n",
        "learn_rate = 0.0001\n",
        "model_cnn.compile(loss = 'binary_crossentropy', optimizer = tf.keras.optimizers.Adam(learning_rate=learn_rate), metrics = ['accuracy'])\n"
      ],
      "execution_count": null,
      "outputs": []
    },
    {
      "cell_type": "code",
      "metadata": {
        "colab": {
          "base_uri": "https://localhost:8080/",
          "height": 1000
        },
        "id": "TxVBZaZeC1oP",
        "outputId": "423486bd-7858-497d-b1d9-1f1ee6321e47"
      },
      "source": [
        "fit_and_predict_model(model_cnn, 25)"
      ],
      "execution_count": null,
      "outputs": [
        {
          "output_type": "stream",
          "name": "stdout",
          "text": [
            "Model: \"sequential_9\"\n",
            "_________________________________________________________________\n",
            "Layer (type)                 Output Shape              Param #   \n",
            "=================================================================\n",
            "embedding_9 (Embedding)      (None, 50, 16)            80000     \n",
            "_________________________________________________________________\n",
            "conv1d_2 (Conv1D)            (None, 46, 16)            1296      \n",
            "_________________________________________________________________\n",
            "global_max_pooling1d_2 (Glob (None, 16)                0         \n",
            "_________________________________________________________________\n",
            "dense_9 (Dense)              (None, 1)                 17        \n",
            "=================================================================\n",
            "Total params: 81,313\n",
            "Trainable params: 81,313\n",
            "Non-trainable params: 0\n",
            "_________________________________________________________________\n",
            "Epoch 1/25\n",
            "313/313 [==============================] - 2s 4ms/step - loss: 0.6913 - accuracy: 0.5278 - val_loss: 0.6923 - val_accuracy: 0.5092\n",
            "Epoch 2/25\n",
            "313/313 [==============================] - 1s 4ms/step - loss: 0.6856 - accuracy: 0.5529 - val_loss: 0.6921 - val_accuracy: 0.5092\n",
            "Epoch 3/25\n",
            "313/313 [==============================] - 1s 4ms/step - loss: 0.6816 - accuracy: 0.5529 - val_loss: 0.6905 - val_accuracy: 0.5092\n",
            "Epoch 4/25\n",
            "313/313 [==============================] - 1s 4ms/step - loss: 0.6765 - accuracy: 0.5529 - val_loss: 0.6872 - val_accuracy: 0.5092\n",
            "Epoch 5/25\n",
            "313/313 [==============================] - 1s 4ms/step - loss: 0.6685 - accuracy: 0.5544 - val_loss: 0.6800 - val_accuracy: 0.5138\n",
            "Epoch 6/25\n",
            "313/313 [==============================] - 1s 4ms/step - loss: 0.6555 - accuracy: 0.5853 - val_loss: 0.6675 - val_accuracy: 0.6112\n",
            "Epoch 7/25\n",
            "313/313 [==============================] - 1s 4ms/step - loss: 0.6348 - accuracy: 0.6726 - val_loss: 0.6485 - val_accuracy: 0.6961\n",
            "Epoch 8/25\n",
            "313/313 [==============================] - 1s 4ms/step - loss: 0.6045 - accuracy: 0.7531 - val_loss: 0.6217 - val_accuracy: 0.7213\n",
            "Epoch 9/25\n",
            "313/313 [==============================] - 1s 4ms/step - loss: 0.5652 - accuracy: 0.8036 - val_loss: 0.5909 - val_accuracy: 0.7638\n",
            "Epoch 10/25\n",
            "313/313 [==============================] - 1s 4ms/step - loss: 0.5202 - accuracy: 0.8317 - val_loss: 0.5599 - val_accuracy: 0.7638\n",
            "Epoch 11/25\n",
            "313/313 [==============================] - 1s 4ms/step - loss: 0.4745 - accuracy: 0.8515 - val_loss: 0.5317 - val_accuracy: 0.7661\n",
            "Epoch 12/25\n",
            "313/313 [==============================] - 1s 4ms/step - loss: 0.4315 - accuracy: 0.8664 - val_loss: 0.5094 - val_accuracy: 0.7718\n",
            "Epoch 13/25\n",
            "313/313 [==============================] - 1s 4ms/step - loss: 0.3931 - accuracy: 0.8764 - val_loss: 0.4921 - val_accuracy: 0.7775\n",
            "Epoch 14/25\n",
            "313/313 [==============================] - 1s 4ms/step - loss: 0.3598 - accuracy: 0.8851 - val_loss: 0.4790 - val_accuracy: 0.7856\n",
            "Epoch 15/25\n",
            "313/313 [==============================] - 1s 4ms/step - loss: 0.3314 - accuracy: 0.8908 - val_loss: 0.4698 - val_accuracy: 0.7844\n",
            "Epoch 16/25\n",
            "313/313 [==============================] - 1s 4ms/step - loss: 0.3070 - accuracy: 0.8989 - val_loss: 0.4638 - val_accuracy: 0.7913\n",
            "Epoch 17/25\n",
            "313/313 [==============================] - 1s 4ms/step - loss: 0.2861 - accuracy: 0.9058 - val_loss: 0.4607 - val_accuracy: 0.7913\n",
            "Epoch 18/25\n",
            "313/313 [==============================] - 1s 4ms/step - loss: 0.2677 - accuracy: 0.9131 - val_loss: 0.4595 - val_accuracy: 0.7901\n",
            "Epoch 19/25\n",
            "313/313 [==============================] - 1s 4ms/step - loss: 0.2518 - accuracy: 0.9160 - val_loss: 0.4596 - val_accuracy: 0.7901\n",
            "Epoch 20/25\n",
            "313/313 [==============================] - 1s 4ms/step - loss: 0.2375 - accuracy: 0.9201 - val_loss: 0.4611 - val_accuracy: 0.7867\n",
            "Epoch 21/25\n",
            "313/313 [==============================] - 1s 4ms/step - loss: 0.2248 - accuracy: 0.9219 - val_loss: 0.4641 - val_accuracy: 0.7890\n",
            "Epoch 22/25\n",
            "313/313 [==============================] - 1s 4ms/step - loss: 0.2133 - accuracy: 0.9264 - val_loss: 0.4677 - val_accuracy: 0.7878\n",
            "Epoch 23/25\n",
            "313/313 [==============================] - 1s 4ms/step - loss: 0.2029 - accuracy: 0.9296 - val_loss: 0.4723 - val_accuracy: 0.7844\n",
            "Epoch 24/25\n",
            "313/313 [==============================] - 1s 4ms/step - loss: 0.1935 - accuracy: 0.9318 - val_loss: 0.4784 - val_accuracy: 0.7787\n",
            "Epoch 25/25\n",
            "313/313 [==============================] - 1s 4ms/step - loss: 0.1847 - accuracy: 0.9351 - val_loss: 0.4855 - val_accuracy: 0.7764\n"
          ]
        },
        {
          "output_type": "display_data",
          "data": {
            "image/png": "[encoded data removed]",
            "text/plain": [
              "<Figure size 432x288 with 1 Axes>"
            ]
          },
          "metadata": {
            "needs_background": "light"
          }
        },
        {
          "output_type": "display_data",
          "data": {
            "image/png": "[encoded data removed]",
            "text/plain": [
              "<Figure size 432x288 with 1 Axes>"
            ]
          },
          "metadata": {
            "needs_background": "light"
          }
        },
        {
          "output_type": "stream",
          "name": "stdout",
          "text": [
            "I love this phone [0.9607926]\n",
            "Everything was cold [0.03361651]\n",
            "Everything was hot exactly as I wanted [0.09880173]\n",
            "Everything was green [0.18949673]\n",
            "the host seated us immediately [0.92167175]\n",
            "they gave us free chocolate cake [0.74598527]\n",
            "we couldn't hear each other talk because of the shouting in the kitchen [0.82087255]\n"
          ]
        }
      ]
    },
    {
      "cell_type": "code",
      "metadata": {
        "id": "VHIFE3eOC0qE"
      },
      "source": [
        "model_gru = tf.keras.models.Sequential([\n",
        "                          tf.keras.layers.Embedding(vocab_size, embedding_dim, input_length=max_length),\n",
        "                          tf.keras.layers.Bidirectional(tf.keras.layers.GRU(32)),\n",
        "                          tf.keras.layers.Dense(1, activation = 'sigmoid')              \n",
        "])\n",
        "\n",
        "learn_rate = 0.00003\n",
        "model_gru.compile(loss = 'binary_crossentropy', optimizer = tf.keras.optimizers.Adam(learning_rate=learn_rate), metrics = ['accuracy'])\n"
      ],
      "execution_count": null,
      "outputs": []
    },
    {
      "cell_type": "code",
      "metadata": {
        "colab": {
          "base_uri": "https://localhost:8080/",
          "height": 1000
        },
        "id": "icAK4FEBELgU",
        "outputId": "6c97f2e0-bcf5-43ee-e8b7-55d05f6a0c40"
      },
      "source": [
        "fit_and_predict_model(model_gru, 25)"
      ],
      "execution_count": null,
      "outputs": [
        {
          "output_type": "stream",
          "name": "stdout",
          "text": [
            "Model: \"sequential_10\"\n",
            "_________________________________________________________________\n",
            "Layer (type)                 Output Shape              Param #   \n",
            "=================================================================\n",
            "embedding_10 (Embedding)     (None, 50, 16)            80000     \n",
            "_________________________________________________________________\n",
            "bidirectional_1 (Bidirection (None, 64)                9600      \n",
            "_________________________________________________________________\n",
            "dense_10 (Dense)             (None, 1)                 65        \n",
            "=================================================================\n",
            "Total params: 89,665\n",
            "Trainable params: 89,665\n",
            "Non-trainable params: 0\n",
            "_________________________________________________________________\n",
            "Epoch 1/25\n",
            "313/313 [==============================] - 15s 38ms/step - loss: 0.6904 - accuracy: 0.5519 - val_loss: 0.6932 - val_accuracy: 0.5092\n",
            "Epoch 2/25\n",
            "313/313 [==============================] - 11s 36ms/step - loss: 0.6878 - accuracy: 0.5529 - val_loss: 0.6939 - val_accuracy: 0.5092\n",
            "Epoch 3/25\n",
            "313/313 [==============================] - 11s 36ms/step - loss: 0.6864 - accuracy: 0.5529 - val_loss: 0.6943 - val_accuracy: 0.5092\n",
            "Epoch 4/25\n",
            "313/313 [==============================] - 11s 36ms/step - loss: 0.6852 - accuracy: 0.5529 - val_loss: 0.6939 - val_accuracy: 0.5092\n",
            "Epoch 5/25\n",
            "313/313 [==============================] - 11s 36ms/step - loss: 0.6836 - accuracy: 0.5529 - val_loss: 0.6928 - val_accuracy: 0.5092\n",
            "Epoch 6/25\n",
            "313/313 [==============================] - 11s 36ms/step - loss: 0.6813 - accuracy: 0.5529 - val_loss: 0.6908 - val_accuracy: 0.5092\n",
            "Epoch 7/25\n",
            "313/313 [==============================] - 11s 36ms/step - loss: 0.6776 - accuracy: 0.5529 - val_loss: 0.6871 - val_accuracy: 0.5092\n",
            "Epoch 8/25\n",
            "313/313 [==============================] - 11s 36ms/step - loss: 0.6716 - accuracy: 0.5535 - val_loss: 0.6806 - val_accuracy: 0.5103\n",
            "Epoch 9/25\n",
            "313/313 [==============================] - 11s 36ms/step - loss: 0.6616 - accuracy: 0.5579 - val_loss: 0.6682 - val_accuracy: 0.5619\n",
            "Epoch 10/25\n",
            "313/313 [==============================] - 11s 36ms/step - loss: 0.6448 - accuracy: 0.5923 - val_loss: 0.6449 - val_accuracy: 0.6319\n",
            "Epoch 11/25\n",
            "313/313 [==============================] - 11s 36ms/step - loss: 0.6172 - accuracy: 0.6392 - val_loss: 0.5984 - val_accuracy: 0.6823\n",
            "Epoch 12/25\n",
            "313/313 [==============================] - 11s 36ms/step - loss: 0.5826 - accuracy: 0.6876 - val_loss: 0.5629 - val_accuracy: 0.7271\n",
            "Epoch 13/25\n",
            "313/313 [==============================] - 11s 36ms/step - loss: 0.5587 - accuracy: 0.7316 - val_loss: 0.5477 - val_accuracy: 0.7385\n",
            "Epoch 14/25\n",
            "313/313 [==============================] - 11s 37ms/step - loss: 0.5366 - accuracy: 0.7451 - val_loss: 0.5316 - val_accuracy: 0.7443\n",
            "Epoch 15/25\n",
            "313/313 [==============================] - 11s 36ms/step - loss: 0.5127 - accuracy: 0.7670 - val_loss: 0.5188 - val_accuracy: 0.7489\n",
            "Epoch 16/25\n",
            "313/313 [==============================] - 11s 36ms/step - loss: 0.4886 - accuracy: 0.7835 - val_loss: 0.5156 - val_accuracy: 0.7649\n",
            "Epoch 17/25\n",
            "313/313 [==============================] - 11s 36ms/step - loss: 0.4661 - accuracy: 0.7995 - val_loss: 0.5186 - val_accuracy: 0.7718\n",
            "Epoch 18/25\n",
            "313/313 [==============================] - 11s 36ms/step - loss: 0.4500 - accuracy: 0.8112 - val_loss: 0.5130 - val_accuracy: 0.7787\n",
            "Epoch 19/25\n",
            "313/313 [==============================] - 11s 36ms/step - loss: 0.4411 - accuracy: 0.8156 - val_loss: 0.5077 - val_accuracy: 0.7764\n",
            "Epoch 20/25\n",
            "313/313 [==============================] - 11s 36ms/step - loss: 0.4274 - accuracy: 0.8285 - val_loss: 0.5184 - val_accuracy: 0.7752\n",
            "Epoch 21/25\n",
            "313/313 [==============================] - 11s 35ms/step - loss: 0.4153 - accuracy: 0.8372 - val_loss: 0.5172 - val_accuracy: 0.7787\n",
            "Epoch 22/25\n",
            "313/313 [==============================] - 11s 36ms/step - loss: 0.4043 - accuracy: 0.8400 - val_loss: 0.5277 - val_accuracy: 0.7833\n",
            "Epoch 23/25\n",
            "313/313 [==============================] - 11s 36ms/step - loss: 0.3999 - accuracy: 0.8442 - val_loss: 0.5207 - val_accuracy: 0.7856\n",
            "Epoch 24/25\n",
            "313/313 [==============================] - 11s 36ms/step - loss: 0.3905 - accuracy: 0.8489 - val_loss: 0.5196 - val_accuracy: 0.7752\n",
            "Epoch 25/25\n",
            "313/313 [==============================] - 11s 36ms/step - loss: 0.3820 - accuracy: 0.8532 - val_loss: 0.5386 - val_accuracy: 0.7821\n"
          ]
        },
        {
          "output_type": "display_data",
          "data": {
            "image/png": "[encoded data removed]",
            "text/plain": [
              "<Figure size 432x288 with 1 Axes>"
            ]
          },
          "metadata": {
            "needs_background": "light"
          }
        },
        {
          "output_type": "display_data",
          "data": {
            "image/png": "[encoded data removed]",
            "text/plain": [
              "<Figure size 432x288 with 1 Axes>"
            ]
          },
          "metadata": {
            "needs_background": "light"
          }
        },
        {
          "output_type": "stream",
          "name": "stdout",
          "text": [
            "I love this phone [0.680375]\n",
            "Everything was cold [0.30149537]\n",
            "Everything was hot exactly as I wanted [0.16721022]\n",
            "Everything was green [0.41892827]\n",
            "the host seated us immediately [0.7401765]\n",
            "they gave us free chocolate cake [0.5826027]\n",
            "we couldn't hear each other talk because of the shouting in the kitchen [0.39594448]\n"
          ]
        }
      ]
    },
    {
      "cell_type": "code",
      "metadata": {
        "id": "23LjgB_OGbRt"
      },
      "source": [
        "model_bidi_lstm = tf.keras.models.Sequential([\n",
        "                          tf.keras.layers.Embedding(vocab_size, embedding_dim, input_length=max_length),\n",
        "                          tf.keras.layers.Bidirectional(tf.keras.layers.LSTM(embedding_dim)),\n",
        "                          tf.keras.layers.Dense(1, activation = 'sigmoid')              \n",
        "])\n",
        "\n",
        "learn_rate = 0.00003\n",
        "model_bidi_lstm.compile(loss = 'binary_crossentropy', optimizer = tf.keras.optimizers.Adam(learning_rate=learn_rate), metrics = ['accuracy'])\n"
      ],
      "execution_count": null,
      "outputs": []
    },
    {
      "cell_type": "code",
      "metadata": {
        "colab": {
          "base_uri": "https://localhost:8080/",
          "height": 1000
        },
        "id": "R-iv6RndIAoy",
        "outputId": "93b36e4c-44bd-4ae7-a5da-31035965376a"
      },
      "source": [
        "fit_and_predict_model(model_bidi_lstm, 25)"
      ],
      "execution_count": null,
      "outputs": [
        {
          "output_type": "stream",
          "name": "stdout",
          "text": [
            "Model: \"sequential_12\"\n",
            "_________________________________________________________________\n",
            "Layer (type)                 Output Shape              Param #   \n",
            "=================================================================\n",
            "embedding_12 (Embedding)     (None, 50, 16)            80000     \n",
            "_________________________________________________________________\n",
            "bidirectional_3 (Bidirection (None, 32)                4224      \n",
            "_________________________________________________________________\n",
            "dense_12 (Dense)             (None, 1)                 33        \n",
            "=================================================================\n",
            "Total params: 84,257\n",
            "Trainable params: 84,257\n",
            "Non-trainable params: 0\n",
            "_________________________________________________________________\n",
            "Epoch 1/25\n",
            "313/313 [==============================] - 13s 32ms/step - loss: 0.6922 - accuracy: 0.5360 - val_loss: 0.6930 - val_accuracy: 0.5092\n",
            "Epoch 2/25\n",
            "313/313 [==============================] - 9s 29ms/step - loss: 0.6895 - accuracy: 0.5529 - val_loss: 0.6932 - val_accuracy: 0.5092\n",
            "Epoch 3/25\n",
            "313/313 [==============================] - 9s 30ms/step - loss: 0.6876 - accuracy: 0.5529 - val_loss: 0.6937 - val_accuracy: 0.5092\n",
            "Epoch 4/25\n",
            "313/313 [==============================] - 9s 29ms/step - loss: 0.6863 - accuracy: 0.5529 - val_loss: 0.6941 - val_accuracy: 0.5092\n",
            "Epoch 5/25\n",
            "313/313 [==============================] - 9s 29ms/step - loss: 0.6851 - accuracy: 0.5529 - val_loss: 0.6939 - val_accuracy: 0.5092\n",
            "Epoch 6/25\n",
            "313/313 [==============================] - 9s 29ms/step - loss: 0.6838 - accuracy: 0.5529 - val_loss: 0.6932 - val_accuracy: 0.5092\n",
            "Epoch 7/25\n",
            "313/313 [==============================] - 9s 29ms/step - loss: 0.6820 - accuracy: 0.5529 - val_loss: 0.6918 - val_accuracy: 0.5092\n",
            "Epoch 8/25\n",
            "313/313 [==============================] - 9s 29ms/step - loss: 0.6795 - accuracy: 0.5529 - val_loss: 0.6894 - val_accuracy: 0.5092\n",
            "Epoch 9/25\n",
            "313/313 [==============================] - 9s 29ms/step - loss: 0.6760 - accuracy: 0.5529 - val_loss: 0.6863 - val_accuracy: 0.5092\n",
            "Epoch 10/25\n",
            "313/313 [==============================] - 9s 30ms/step - loss: 0.6711 - accuracy: 0.5530 - val_loss: 0.6814 - val_accuracy: 0.5149\n",
            "Epoch 11/25\n",
            "313/313 [==============================] - 9s 29ms/step - loss: 0.6641 - accuracy: 0.5555 - val_loss: 0.6744 - val_accuracy: 0.5401\n",
            "Epoch 12/25\n",
            "313/313 [==============================] - 9s 30ms/step - loss: 0.6545 - accuracy: 0.5703 - val_loss: 0.6644 - val_accuracy: 0.5837\n",
            "Epoch 13/25\n",
            "313/313 [==============================] - 9s 30ms/step - loss: 0.6415 - accuracy: 0.5933 - val_loss: 0.6496 - val_accuracy: 0.6296\n",
            "Epoch 14/25\n",
            "313/313 [==============================] - 9s 29ms/step - loss: 0.6236 - accuracy: 0.6166 - val_loss: 0.6287 - val_accuracy: 0.6778\n",
            "Epoch 15/25\n",
            "313/313 [==============================] - 9s 29ms/step - loss: 0.5990 - accuracy: 0.6578 - val_loss: 0.5988 - val_accuracy: 0.7076\n",
            "Epoch 16/25\n",
            "313/313 [==============================] - 9s 30ms/step - loss: 0.5725 - accuracy: 0.7045 - val_loss: 0.5745 - val_accuracy: 0.7133\n",
            "Epoch 17/25\n",
            "313/313 [==============================] - 9s 30ms/step - loss: 0.5522 - accuracy: 0.7348 - val_loss: 0.5619 - val_accuracy: 0.7362\n",
            "Epoch 18/25\n",
            "313/313 [==============================] - 9s 30ms/step - loss: 0.5340 - accuracy: 0.7626 - val_loss: 0.5466 - val_accuracy: 0.7477\n",
            "Epoch 19/25\n",
            "313/313 [==============================] - 9s 29ms/step - loss: 0.5193 - accuracy: 0.7818 - val_loss: 0.5362 - val_accuracy: 0.7431\n",
            "Epoch 20/25\n",
            "313/313 [==============================] - 9s 30ms/step - loss: 0.5056 - accuracy: 0.7952 - val_loss: 0.5306 - val_accuracy: 0.7408\n",
            "Epoch 21/25\n",
            "313/313 [==============================] - 9s 30ms/step - loss: 0.4941 - accuracy: 0.8057 - val_loss: 0.5236 - val_accuracy: 0.7569\n",
            "Epoch 22/25\n",
            "313/313 [==============================] - 9s 30ms/step - loss: 0.4829 - accuracy: 0.8141 - val_loss: 0.5196 - val_accuracy: 0.7569\n",
            "Epoch 23/25\n",
            "313/313 [==============================] - 9s 30ms/step - loss: 0.4731 - accuracy: 0.8199 - val_loss: 0.5130 - val_accuracy: 0.7615\n",
            "Epoch 24/25\n",
            "313/313 [==============================] - 9s 30ms/step - loss: 0.4634 - accuracy: 0.8291 - val_loss: 0.5101 - val_accuracy: 0.7661\n",
            "Epoch 25/25\n",
            "313/313 [==============================] - 9s 29ms/step - loss: 0.4540 - accuracy: 0.8384 - val_loss: 0.5068 - val_accuracy: 0.7661\n"
          ]
        },
        {
          "output_type": "display_data",
          "data": {
            "image/png": "[encoded data removed]",
            "text/plain": [
              "<Figure size 432x288 with 1 Axes>"
            ]
          },
          "metadata": {
            "needs_background": "light"
          }
        },
        {
          "output_type": "display_data",
          "data": {
            "image/png": "[encoded data removed]",
            "text/plain": [
              "<Figure size 432x288 with 1 Axes>"
            ]
          },
          "metadata": {
            "needs_background": "light"
          }
        },
        {
          "output_type": "stream",
          "name": "stdout",
          "text": [
            "I love this phone [0.58895123]\n",
            "Everything was cold [0.3430191]\n",
            "Everything was hot exactly as I wanted [0.29488957]\n",
            "Everything was green [0.39923894]\n",
            "the host seated us immediately [0.67099065]\n",
            "they gave us free chocolate cake [0.41831902]\n",
            "we couldn't hear each other talk because of the shouting in the kitchen [0.43437618]\n"
          ]
        }
      ]
    },
    {
      "cell_type": "code",
      "metadata": {
        "id": "uxKCghUTICxC"
      },
      "source": [
        "model_multi_bidi_lstm = tf.keras.models.Sequential([\n",
        "                          tf.keras.layers.Embedding(vocab_size, embedding_dim, input_length=max_length),\n",
        "                          tf.keras.layers.Bidirectional(tf.keras.layers.LSTM(embedding_dim, return_sequences = True)),\n",
        "                          tf.keras.layers.Bidirectional(tf.keras.layers.LSTM(embedding_dim, return_sequences = False)),\n",
        "                          tf.keras.layers.Dense(1, activation = 'sigmoid')              \n",
        "])\n",
        "\n",
        "learn_rate = 0.0003\n",
        "model_multi_bidi_lstm.compile(loss = 'binary_crossentropy', optimizer = tf.keras.optimizers.Adam(learning_rate=learn_rate), metrics = ['accuracy'])\n"
      ],
      "execution_count": null,
      "outputs": []
    },
    {
      "cell_type": "code",
      "metadata": {
        "colab": {
          "base_uri": "https://localhost:8080/",
          "height": 1000
        },
        "id": "rPp0J8v3JhVT",
        "outputId": "aaa0ee07-35b9-47ff-9c70-f30fe5d9c06c"
      },
      "source": [
        "fit_and_predict_model(model_multi_bidi_lstm, 30)"
      ],
      "execution_count": null,
      "outputs": [
        {
          "output_type": "stream",
          "name": "stdout",
          "text": [
            "Model: \"sequential_13\"\n",
            "_________________________________________________________________\n",
            "Layer (type)                 Output Shape              Param #   \n",
            "=================================================================\n",
            "embedding_13 (Embedding)     (None, 50, 16)            80000     \n",
            "_________________________________________________________________\n",
            "bidirectional_4 (Bidirection (None, 50, 32)            4224      \n",
            "_________________________________________________________________\n",
            "bidirectional_5 (Bidirection (None, 32)                6272      \n",
            "_________________________________________________________________\n",
            "dense_13 (Dense)             (None, 1)                 33        \n",
            "=================================================================\n",
            "Total params: 90,529\n",
            "Trainable params: 90,529\n",
            "Non-trainable params: 0\n",
            "_________________________________________________________________\n",
            "Epoch 1/30\n",
            "313/313 [==============================] - 26s 63ms/step - loss: 0.6844 - accuracy: 0.5543 - val_loss: 0.6696 - val_accuracy: 0.6158\n",
            "Epoch 2/30\n",
            "313/313 [==============================] - 18s 58ms/step - loss: 0.4709 - accuracy: 0.7772 - val_loss: 0.5397 - val_accuracy: 0.7672\n",
            "Epoch 3/30\n",
            "313/313 [==============================] - 18s 58ms/step - loss: 0.3033 - accuracy: 0.8714 - val_loss: 0.5470 - val_accuracy: 0.7787\n",
            "Epoch 4/30\n",
            "313/313 [==============================] - 18s 58ms/step - loss: 0.2430 - accuracy: 0.9027 - val_loss: 0.5638 - val_accuracy: 0.7706\n",
            "Epoch 5/30\n",
            "313/313 [==============================] - 18s 58ms/step - loss: 0.2038 - accuracy: 0.9194 - val_loss: 0.6191 - val_accuracy: 0.7661\n",
            "Epoch 6/30\n",
            "313/313 [==============================] - 18s 58ms/step - loss: 0.1833 - accuracy: 0.9291 - val_loss: 0.6595 - val_accuracy: 0.7706\n",
            "Epoch 7/30\n",
            "313/313 [==============================] - 18s 58ms/step - loss: 0.1570 - accuracy: 0.9413 - val_loss: 0.7630 - val_accuracy: 0.7615\n",
            "Epoch 8/30\n",
            "313/313 [==============================] - 18s 58ms/step - loss: 0.1448 - accuracy: 0.9439 - val_loss: 0.7605 - val_accuracy: 0.7569\n",
            "Epoch 9/30\n",
            "313/313 [==============================] - 18s 57ms/step - loss: 0.1326 - accuracy: 0.9505 - val_loss: 0.8466 - val_accuracy: 0.7534\n",
            "Epoch 10/30\n",
            "313/313 [==============================] - 18s 58ms/step - loss: 0.1317 - accuracy: 0.9520 - val_loss: 0.7438 - val_accuracy: 0.7603\n",
            "Epoch 11/30\n",
            "313/313 [==============================] - 18s 58ms/step - loss: 0.1251 - accuracy: 0.9552 - val_loss: 0.8821 - val_accuracy: 0.7466\n",
            "Epoch 12/30\n",
            "313/313 [==============================] - 18s 57ms/step - loss: 0.1156 - accuracy: 0.9559 - val_loss: 0.9097 - val_accuracy: 0.7443\n",
            "Epoch 13/30\n",
            "313/313 [==============================] - 18s 57ms/step - loss: 0.1062 - accuracy: 0.9612 - val_loss: 0.9548 - val_accuracy: 0.7454\n",
            "Epoch 14/30\n",
            "313/313 [==============================] - 18s 58ms/step - loss: 0.1058 - accuracy: 0.9589 - val_loss: 0.9357 - val_accuracy: 0.7454\n",
            "Epoch 15/30\n",
            "313/313 [==============================] - 18s 58ms/step - loss: 0.1018 - accuracy: 0.9619 - val_loss: 0.9764 - val_accuracy: 0.7443\n",
            "Epoch 16/30\n",
            "313/313 [==============================] - 18s 58ms/step - loss: 0.0981 - accuracy: 0.9629 - val_loss: 1.0222 - val_accuracy: 0.7443\n",
            "Epoch 17/30\n",
            "313/313 [==============================] - 18s 59ms/step - loss: 0.0980 - accuracy: 0.9617 - val_loss: 1.0874 - val_accuracy: 0.7248\n",
            "Epoch 18/30\n",
            "313/313 [==============================] - 18s 59ms/step - loss: 0.0960 - accuracy: 0.9627 - val_loss: 0.9325 - val_accuracy: 0.7626\n",
            "Epoch 19/30\n",
            "313/313 [==============================] - 19s 59ms/step - loss: 0.0926 - accuracy: 0.9660 - val_loss: 0.9929 - val_accuracy: 0.7638\n",
            "Epoch 20/30\n",
            "313/313 [==============================] - 18s 59ms/step - loss: 0.0929 - accuracy: 0.9662 - val_loss: 1.0443 - val_accuracy: 0.7477\n",
            "Epoch 21/30\n",
            "313/313 [==============================] - 18s 59ms/step - loss: 0.0903 - accuracy: 0.9640 - val_loss: 1.0030 - val_accuracy: 0.7603\n",
            "Epoch 22/30\n",
            "313/313 [==============================] - 18s 59ms/step - loss: 0.0886 - accuracy: 0.9667 - val_loss: 1.1232 - val_accuracy: 0.7443\n",
            "Epoch 23/30\n",
            "313/313 [==============================] - 18s 59ms/step - loss: 0.0871 - accuracy: 0.9680 - val_loss: 1.0331 - val_accuracy: 0.7385\n",
            "Epoch 24/30\n",
            "313/313 [==============================] - 19s 59ms/step - loss: 0.0853 - accuracy: 0.9674 - val_loss: 1.1106 - val_accuracy: 0.7420\n",
            "Epoch 25/30\n",
            "313/313 [==============================] - 19s 59ms/step - loss: 0.0857 - accuracy: 0.9655 - val_loss: 1.0157 - val_accuracy: 0.7534\n",
            "Epoch 26/30\n",
            "313/313 [==============================] - 19s 59ms/step - loss: 0.0866 - accuracy: 0.9657 - val_loss: 1.0692 - val_accuracy: 0.7351\n",
            "Epoch 27/30\n",
            "313/313 [==============================] - 19s 60ms/step - loss: 0.0832 - accuracy: 0.9699 - val_loss: 1.0415 - val_accuracy: 0.7523\n",
            "Epoch 28/30\n",
            "313/313 [==============================] - 19s 59ms/step - loss: 0.0839 - accuracy: 0.9677 - val_loss: 1.0971 - val_accuracy: 0.7351\n",
            "Epoch 29/30\n",
            "313/313 [==============================] - 19s 60ms/step - loss: 0.0806 - accuracy: 0.9683 - val_loss: 1.0514 - val_accuracy: 0.7523\n",
            "Epoch 30/30\n",
            "313/313 [==============================] - 19s 60ms/step - loss: 0.0805 - accuracy: 0.9680 - val_loss: 1.0975 - val_accuracy: 0.7443\n"
          ]
        },
        {
          "output_type": "display_data",
          "data": {
            "image/png": "[encoded data removed]",
            "text/plain": [
              "<Figure size 432x288 with 1 Axes>"
            ]
          },
          "metadata": {
            "needs_background": "light"
          }
        },
        {
          "output_type": "display_data",
          "data": {
            "image/png": "[encoded data removed]",
            "text/plain": [
              "<Figure size 432x288 with 1 Axes>"
            ]
          },
          "metadata": {
            "needs_background": "light"
          }
        },
        {
          "output_type": "stream",
          "name": "stdout",
          "text": [
            "I love this phone [0.99542814]\n",
            "Everything was cold [0.00801039]\n",
            "Everything was hot exactly as I wanted [0.00717714]\n",
            "Everything was green [0.00749823]\n",
            "the host seated us immediately [0.99663943]\n",
            "they gave us free chocolate cake [0.99456394]\n",
            "we couldn't hear each other talk because of the shouting in the kitchen [0.98710275]\n"
          ]
        }
      ]
    },
    {
      "cell_type": "code",
      "metadata": {
        "id": "2BdMPyZAJkDD"
      },
      "source": [
        "more_reviews = ['''woo''s fights have a distinct flair .''', '''\n",
        "he has not learned that storytelling is what the movies are about .''','''\n",
        "if you liked the 1982 film then , you ''ll still like it now .''','''\n",
        "despite some gulps the film is a fuzzy huggy .''','''\n",
        "the film is painfully authentic, and the performances of the young players are utterly convincing .''','''\n",
        "there are just enough twists in the tale to make it far more satisfying than almost any horror film in recent memory .''','''\n",
        "this is n''t just the cliffsnotes version of nicholas nickleby , it ''s the cliffsnotes with pages missing .''','''\n",
        "an entire film about researchers quietly reading dusty old letters . ''','''\n",
        "nothing more than a mediocre trifle .''','''\n",
        "a model of what films like this should be like .''','''\n",
        "showtime is closer to slowtime .''',\"\"\"that was the worst movie I've ever seen\"\"\", \"\"\"too much violence even for a Bond film\"\"\", \"\"\"I saw this movie yesterday and I was feeling low to start with,\n",
        " but it was such a wonderful movie that it lifted my spirits and brightened \n",
        " my day, you can\\'t go wrong with a movie with Whoopi Goldberg in it.\"\"\", \"\"\"I don\\'t understand why it received an oscar recommendation\n",
        " for best movie, it was long and boring\"\"\", \"\"\"the scenery was magnificent, the CGI of the dogs was so realistic I\n",
        " thought they were played by real dogs even though they talked!\"\"\", \"I wish I could watch this movie every day for the rest of my life\",]"
      ],
      "execution_count": null,
      "outputs": []
    },
    {
      "cell_type": "code",
      "metadata": {
        "colab": {
          "base_uri": "https://localhost:8080/"
        },
        "id": "FjWoVD9MMpDH",
        "outputId": "ce8553a7-89f2-4d6a-ac06-ffbf16bc8b71"
      },
      "source": [
        "for review in more_reviews:\n",
        "  print('\\n', review)"
      ],
      "execution_count": null,
      "outputs": [
        {
          "output_type": "stream",
          "name": "stdout",
          "text": [
            "\n",
            " woo''s fights have a distinct flair .\n",
            "\n",
            " \n",
            "he has not learned that storytelling is what the movies are about .\n",
            "\n",
            " \n",
            "if you liked the 1982 film then , you ''ll still like it now .\n",
            "\n",
            " \n",
            "despite some gulps the film is a fuzzy huggy .\n",
            "\n",
            " \n",
            "the film is painfully authentic, and the performances of the young players are utterly convincing .\n",
            "\n",
            " \n",
            "there are just enough twists in the tale to make it far more satisfying than almost any horror film in recent memory .\n",
            "\n",
            " \n",
            "this is n''t just the cliffsnotes version of nicholas nickleby , it ''s the cliffsnotes with pages missing .\n",
            "\n",
            " \n",
            "an entire film about researchers quietly reading dusty old letters . \n",
            "\n",
            " \n",
            "nothing more than a mediocre trifle .\n",
            "\n",
            " \n",
            "a model of what films like this should be like .\n",
            "\n",
            " \n",
            "showtime is closer to slowtime .\n",
            "\n",
            " that was the worst movie I've ever seen\n",
            "\n",
            " too much violence even for a Bond film\n",
            "\n",
            " I saw this movie yesterday and I was feeling low to start with,\n",
            " but it was such a wonderful movie that it lifted my spirits and brightened \n",
            " my day, you can't go wrong with a movie with Whoopi Goldberg in it.\n",
            "\n",
            " I don't understand why it received an oscar recommendation\n",
            " for best movie, it was long and boring\n",
            "\n",
            " the scenery was magnificent, the CGI of the dogs was so realistic I\n",
            " thought they were played by real dogs even though they talked!\n",
            "\n",
            " I wish I could watch this movie every day for the rest of my life\n"
          ]
        }
      ]
    },
    {
      "cell_type": "code",
      "metadata": {
        "colab": {
          "base_uri": "https://localhost:8080/"
        },
        "id": "ZxHMW9NiM1bp",
        "outputId": "e38394c0-7ada-472a-aedb-3d305de5b0ad"
      },
      "source": [
        "print(\"============================\\n\",\"Embeddings only:\\n\", \"============================\")\n",
        "predict_reviews(model_embed, more_reviews, show_padded_sequence = False)\n",
        "\n",
        "print(\"============================\\n\",\"with CNN:\\n\", \"============================\")\n",
        "predict_reviews(model_cnn, more_reviews, show_padded_sequence = False)\n",
        "\n",
        "print(\"============================\\n\",\"with Bidirection GRU:\\n\", \"============================\")\n",
        "predict_reviews(model_gru, more_reviews, show_padded_sequence = False)\n",
        "\n",
        "print(\"============================\\n\",\"with BiDi LSTM:\\n\", \"============================\")\n",
        "predict_reviews(model_bidi_lstm, more_reviews, show_padded_sequence = False)\n",
        "\n",
        "print(\"============================\\n\",\"with Multi LSTM:\\n\", \"============================\")\n",
        "predict_reviews(model_multi_bidi_lstm, more_reviews, show_padded_sequence = False)\n"
      ],
      "execution_count": null,
      "outputs": [
        {
          "output_type": "stream",
          "name": "stdout",
          "text": [
            "============================\n",
            " Embeddings only:\n",
            " ============================\n",
            "woo''s fights have a distinct flair . [0.5572045]\n",
            "\n",
            "he has not learned that storytelling is what the movies are about . [0.54157495]\n",
            "\n",
            "if you liked the 1982 film then , you ''ll still like it now . [0.54049397]\n",
            "\n",
            "despite some gulps the film is a fuzzy huggy . [0.54526025]\n",
            "\n",
            "the film is painfully authentic, and the performances of the young players are utterly convincing . [0.6090355]\n",
            "\n",
            "there are just enough twists in the tale to make it far more satisfying than almost any horror film in recent memory . [0.5022662]\n",
            "\n",
            "this is n''t just the cliffsnotes version of nicholas nickleby , it ''s the cliffsnotes with pages missing . [0.4835162]\n",
            "\n",
            "an entire film about researchers quietly reading dusty old letters .  [0.55166715]\n",
            "\n",
            "nothing more than a mediocre trifle . [0.52896553]\n",
            "\n",
            "a model of what films like this should be like . [0.52565205]\n",
            "\n",
            "showtime is closer to slowtime . [0.5224478]\n",
            "that was the worst movie I've ever seen [0.5166635]\n",
            "too much violence even for a Bond film [0.5291387]\n",
            "I saw this movie yesterday and I was feeling low to start with,\n",
            " but it was such a wonderful movie that it lifted my spirits and brightened \n",
            " my day, you can't go wrong with a movie with Whoopi Goldberg in it. [0.48917973]\n",
            "I don't understand why it received an oscar recommendation\n",
            " for best movie, it was long and boring [0.5170761]\n",
            "the scenery was magnificent, the CGI of the dogs was so realistic I\n",
            " thought they were played by real dogs even though they talked! [0.51139426]\n",
            "I wish I could watch this movie every day for the rest of my life [0.5236295]\n",
            "============================\n",
            " with CNN:\n",
            " ============================\n",
            "woo''s fights have a distinct flair . [0.96740353]\n",
            "\n",
            "he has not learned that storytelling is what the movies are about . [0.3011557]\n",
            "\n",
            "if you liked the 1982 film then , you ''ll still like it now . [0.90927213]\n",
            "\n",
            "despite some gulps the film is a fuzzy huggy . [0.49853656]\n",
            "\n",
            "the film is painfully authentic, and the performances of the young players are utterly convincing . [0.9178524]\n",
            "\n",
            "there are just enough twists in the tale to make it far more satisfying than almost any horror film in recent memory . [0.567074]\n",
            "\n",
            "this is n''t just the cliffsnotes version of nicholas nickleby , it ''s the cliffsnotes with pages missing . [0.23715484]\n",
            "\n",
            "an entire film about researchers quietly reading dusty old letters .  [0.4904684]\n",
            "\n",
            "nothing more than a mediocre trifle . [0.0046238]\n",
            "\n",
            "a model of what films like this should be like . [0.32049155]\n",
            "\n",
            "showtime is closer to slowtime . [0.37197417]\n",
            "that was the worst movie I've ever seen [0.00760153]\n",
            "too much violence even for a Bond film [0.02393979]\n",
            "I saw this movie yesterday and I was feeling low to start with,\n",
            " but it was such a wonderful movie that it lifted my spirits and brightened \n",
            " my day, you can't go wrong with a movie with Whoopi Goldberg in it. [0.6479697]\n",
            "I don't understand why it received an oscar recommendation\n",
            " for best movie, it was long and boring [0.59408337]\n",
            "the scenery was magnificent, the CGI of the dogs was so realistic I\n",
            " thought they were played by real dogs even though they talked! [0.46500736]\n",
            "I wish I could watch this movie every day for the rest of my life [0.24643633]\n",
            "============================\n",
            " with Bidirection GRU:\n",
            " ============================\n",
            "woo''s fights have a distinct flair . [0.8364293]\n",
            "\n",
            "he has not learned that storytelling is what the movies are about . [0.83017606]\n",
            "\n",
            "if you liked the 1982 film then , you ''ll still like it now . [0.81209254]\n",
            "\n",
            "despite some gulps the film is a fuzzy huggy . [0.53734237]\n",
            "\n",
            "the film is painfully authentic, and the performances of the young players are utterly convincing . [0.9901499]\n",
            "\n",
            "there are just enough twists in the tale to make it far more satisfying than almost any horror film in recent memory . [0.24518049]\n",
            "\n",
            "this is n''t just the cliffsnotes version of nicholas nickleby , it ''s the cliffsnotes with pages missing . [0.10122982]\n",
            "\n",
            "an entire film about researchers quietly reading dusty old letters .  [0.7324941]\n",
            "\n",
            "nothing more than a mediocre trifle . [0.15371189]\n",
            "\n",
            "a model of what films like this should be like . [0.17999777]\n",
            "\n",
            "showtime is closer to slowtime . [0.5018349]\n",
            "that was the worst movie I've ever seen [0.21778479]\n",
            "too much violence even for a Bond film [0.46297398]\n",
            "I saw this movie yesterday and I was feeling low to start with,\n",
            " but it was such a wonderful movie that it lifted my spirits and brightened \n",
            " my day, you can't go wrong with a movie with Whoopi Goldberg in it. [0.71387774]\n",
            "I don't understand why it received an oscar recommendation\n",
            " for best movie, it was long and boring [0.1449683]\n",
            "the scenery was magnificent, the CGI of the dogs was so realistic I\n",
            " thought they were played by real dogs even though they talked! [0.1537664]\n",
            "I wish I could watch this movie every day for the rest of my life [0.22223559]\n",
            "============================\n",
            " with BiDi LSTM:\n",
            " ============================\n",
            "woo''s fights have a distinct flair . [0.68009216]\n",
            "\n",
            "he has not learned that storytelling is what the movies are about . [0.6678116]\n",
            "\n",
            "if you liked the 1982 film then , you ''ll still like it now . [0.6661164]\n",
            "\n",
            "despite some gulps the film is a fuzzy huggy . [0.48719805]\n",
            "\n",
            "the film is painfully authentic, and the performances of the young players are utterly convincing . [0.92225385]\n",
            "\n",
            "there are just enough twists in the tale to make it far more satisfying than almost any horror film in recent memory . [0.27690828]\n",
            "\n",
            "this is n''t just the cliffsnotes version of nicholas nickleby , it ''s the cliffsnotes with pages missing . [0.18569845]\n",
            "\n",
            "an entire film about researchers quietly reading dusty old letters .  [0.5566251]\n",
            "\n",
            "nothing more than a mediocre trifle . [0.23176143]\n",
            "\n",
            "a model of what films like this should be like . [0.23528835]\n",
            "\n",
            "showtime is closer to slowtime . [0.38472578]\n",
            "that was the worst movie I've ever seen [0.26515958]\n",
            "too much violence even for a Bond film [0.42279482]\n",
            "I saw this movie yesterday and I was feeling low to start with,\n",
            " but it was such a wonderful movie that it lifted my spirits and brightened \n",
            " my day, you can't go wrong with a movie with Whoopi Goldberg in it. [0.44068468]\n",
            "I don't understand why it received an oscar recommendation\n",
            " for best movie, it was long and boring [0.45029533]\n",
            "the scenery was magnificent, the CGI of the dogs was so realistic I\n",
            " thought they were played by real dogs even though they talked! [0.3049726]\n",
            "I wish I could watch this movie every day for the rest of my life [0.43850264]\n",
            "============================\n",
            " with Multi LSTM:\n",
            " ============================\n",
            "woo''s fights have a distinct flair . [0.99589115]\n",
            "\n",
            "he has not learned that storytelling is what the movies are about . [0.01345852]\n",
            "\n",
            "if you liked the 1982 film then , you ''ll still like it now . [0.99657977]\n",
            "\n",
            "despite some gulps the film is a fuzzy huggy . [0.01304278]\n",
            "\n",
            "the film is painfully authentic, and the performances of the young players are utterly convincing . [0.9968028]\n",
            "\n",
            "there are just enough twists in the tale to make it far more satisfying than almost any horror film in recent memory . [0.6750203]\n",
            "\n",
            "this is n''t just the cliffsnotes version of nicholas nickleby , it ''s the cliffsnotes with pages missing . [0.02598345]\n",
            "\n",
            "an entire film about researchers quietly reading dusty old letters .  [0.00988883]\n",
            "\n",
            "nothing more than a mediocre trifle . [0.00726438]\n",
            "\n",
            "a model of what films like this should be like . [0.48506308]\n",
            "\n",
            "showtime is closer to slowtime . [0.41726938]\n",
            "that was the worst movie I've ever seen [0.01043808]\n",
            "too much violence even for a Bond film [0.00726512]\n",
            "I saw this movie yesterday and I was feeling low to start with,\n",
            " but it was such a wonderful movie that it lifted my spirits and brightened \n",
            " my day, you can't go wrong with a movie with Whoopi Goldberg in it. [0.99804604]\n",
            "I don't understand why it received an oscar recommendation\n",
            " for best movie, it was long and boring [0.995662]\n",
            "the scenery was magnificent, the CGI of the dogs was so realistic I\n",
            " thought they were played by real dogs even though they talked! [0.9899286]\n",
            "I wish I could watch this movie every day for the rest of my life [0.02177241]\n"
          ]
        }
      ]
    },
    {
      "cell_type": "code",
      "metadata": {
        "id": "z15V-nsTNnG1"
      },
      "source": [
        ""
      ],
      "execution_count": null,
      "outputs": []
    }
  ]
}