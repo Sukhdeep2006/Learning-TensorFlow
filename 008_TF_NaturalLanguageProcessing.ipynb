{
  "nbformat": 4,
  "nbformat_minor": 0,
  "metadata": {
    "colab": {
      "name": "008-TF-NaturalLanguageProcessing.ipynb",
      "provenance": [],
      "collapsed_sections": [],
      "authorship_tag": "ABX9TyMZsemry9JRMnoiu6X/LU8t",
      "include_colab_link": true
    },
    "kernelspec": {
      "name": "python3",
      "display_name": "Python 3"
    },
    "language_info": {
      "name": "python"
    }
  },
  "cells": [
    {
      "cell_type": "markdown",
      "metadata": {
        "id": "view-in-github",
        "colab_type": "text"
      },
      "source": [
        "<a href=\"https://colab.research.google.com/github/Sukhdeep2006/Learning-TensorFlow/blob/main/008_TF_NaturalLanguageProcessing.ipynb\" target=\"_parent\"><img src=\"https://colab.research.google.com/assets/colab-badge.svg\" alt=\"Open In Colab\"/></a>"
      ]
    },
    {
      "cell_type": "markdown",
      "metadata": {
        "id": "lx4mnm4BTQqZ"
      },
      "source": [
        "# Natural Language Processing\n",
        "\n",
        "### Tokenisation is a key aspect the Natural Language Processing using the machine learning algorithms.\n",
        "\n",
        "For more on Tokenisation in NLP refer to the link:\n",
        "\n",
        "https://www.analyticsvidhya.com/blog/2020/05/what-is-tokenization-nlp/"
      ]
    },
    {
      "cell_type": "markdown",
      "metadata": {
        "id": "bUlDUg7TOiMs"
      },
      "source": [
        "### Import the tokenizer"
      ]
    },
    {
      "cell_type": "code",
      "metadata": {
        "id": "9-4HTKrQOgoO"
      },
      "source": [
        "import tensorflow as tf\n",
        "from tensorflow.keras.preprocessing.text import Tokenizer\n",
        "from tensorflow.keras.preprocessing.sequence import pad_sequences\n",
        "\n",
        "import numpy as np\n",
        "import pandas as pd"
      ],
      "execution_count": null,
      "outputs": []
    },
    {
      "cell_type": "markdown",
      "metadata": {
        "id": "zQ1Yb3kHOzQu"
      },
      "source": [
        "Lets write some sample text"
      ]
    },
    {
      "cell_type": "code",
      "metadata": {
        "id": "BY04LCtJTJ4Q"
      },
      "source": [
        "sentences = [\n",
        "    'My favorite food is ice cream',\n",
        "    'do you like ice cream too?',\n",
        "    'My dog likes ice cream!',\n",
        "    \"your favorite flavor of icecream is chocolate\",\n",
        "    \"chocolate isn't good for dogs\",\n",
        "    \"your dog, your cat, and your parrot prefer broccoli\"\n",
        "]"
      ],
      "execution_count": null,
      "outputs": []
    },
    {
      "cell_type": "markdown",
      "metadata": {
        "id": "aQR2bdFTPBi4"
      },
      "source": [
        "### Tokenize the words:\n",
        "\n",
        "The first step to preparing text to be used in a machine learning model is to tokenize the text, in other words, to generate numbers for the words.\n",
        "\n",
        "The following peice of code will define our dictionary and assign a unique number to all the words we are expected to work with, in our model."
      ]
    },
    {
      "cell_type": "code",
      "metadata": {
        "colab": {
          "base_uri": "https://localhost:8080/"
        },
        "id": "BHQBh_nYO-ux",
        "outputId": "b907a9d4-d6a2-470e-ee7c-92a4cfe7c5e7"
      },
      "source": [
        "tokenizer = Tokenizer(num_words = 100, oov_token = '<oov>')\n",
        "tokenizer.fit_on_texts(sentences)\n",
        "my_dictionary = tokenizer.word_index\n",
        "print(my_dictionary)\n",
        "\n",
        "print('\\n The number assigned to the word FAVORITE is {}'.format(my_dictionary['favorite']))"
      ],
      "execution_count": null,
      "outputs": [
        {
          "output_type": "stream",
          "text": [
            "{'<oov>': 1, 'your': 2, 'ice': 3, 'cream': 4, 'my': 5, 'favorite': 6, 'is': 7, 'dog': 8, 'chocolate': 9, 'food': 10, 'do': 11, 'you': 12, 'like': 13, 'too': 14, 'likes': 15, 'flavor': 16, 'of': 17, 'icecream': 18, \"isn't\": 19, 'good': 20, 'for': 21, 'dogs': 22, 'cat': 23, 'and': 24, 'parrot': 25, 'prefer': 26, 'broccoli': 27}\n",
            "\n",
            " The number assigned to the word FAVORITE is 6\n"
          ],
          "name": "stdout"
        }
      ]
    },
    {
      "cell_type": "markdown",
      "metadata": {
        "id": "BQT1d25qQDKx"
      },
      "source": [
        "### The next step is to generate the sequences, so that we can work with the numbers instead of actual text while defining our machine learning algorithms"
      ]
    },
    {
      "cell_type": "code",
      "metadata": {
        "colab": {
          "base_uri": "https://localhost:8080/"
        },
        "id": "yoVdvcsFPbIv",
        "outputId": "3c3a72ad-d4ce-4930-8e60-e0bb8ec7582b"
      },
      "source": [
        "sequences = tokenizer.texts_to_sequences(sentences)\n",
        "sequences_padded = pad_sequences(sequences, maxlen = 15, padding='post', truncating='post')\n",
        "\n",
        "print(sequences)\n",
        "print('\\n', sequences_padded)"
      ],
      "execution_count": null,
      "outputs": [
        {
          "output_type": "stream",
          "text": [
            "[[5, 6, 10, 7, 3, 4], [11, 12, 13, 3, 4, 14], [5, 8, 15, 3, 4], [2, 6, 16, 17, 18, 7, 9], [9, 19, 20, 21, 22], [2, 8, 2, 23, 24, 2, 25, 26, 27]]\n",
            "\n",
            " [[ 5  6 10  7  3  4  0  0  0  0  0  0  0  0  0]\n",
            " [11 12 13  3  4 14  0  0  0  0  0  0  0  0  0]\n",
            " [ 5  8 15  3  4  0  0  0  0  0  0  0  0  0  0]\n",
            " [ 2  6 16 17 18  7  9  0  0  0  0  0  0  0  0]\n",
            " [ 9 19 20 21 22  0  0  0  0  0  0  0  0  0  0]\n",
            " [ 2  8  2 23 24  2 25 26 27  0  0  0  0  0  0]]\n"
          ],
          "name": "stdout"
        }
      ]
    },
    {
      "cell_type": "markdown",
      "metadata": {
        "id": "w4q3BrAkQqTE"
      },
      "source": [
        "### Lets create some sentences using the words whihc are not defined in our dictionary/tokenization. You would notice that all these words are represented by the number 1 whihc is a token for \"out of the vocabulary\" words."
      ]
    },
    {
      "cell_type": "code",
      "metadata": {
        "colab": {
          "base_uri": "https://localhost:8080/"
        },
        "id": "4GucfVmvQaSL",
        "outputId": "7c5de084-1936-45c2-ccbb-1a4c02141d82"
      },
      "source": [
        "sentences2 = [\"I like hot chocolate\", \"My dogs and my hedgehog like kibble but my squirrel prefers grapes and my chickens like ice cream, preferably vanilla\"]\n",
        "\n",
        "sequences2 = tokenizer.texts_to_sequences(sentences2)\n",
        "sequences2_padded = pad_sequences(sequences2, maxlen = 15, padding='post', truncating='post')\n",
        "\n",
        "print(sequences2)\n",
        "print(sequences2_padded)"
      ],
      "execution_count": null,
      "outputs": [
        {
          "output_type": "stream",
          "text": [
            "[[1, 13, 1, 9], [5, 22, 24, 5, 1, 13, 1, 1, 5, 1, 1, 1, 24, 5, 1, 13, 3, 4, 1, 1]]\n",
            "[[ 1 13  1  9  0  0  0  0  0  0  0  0  0  0  0]\n",
            " [ 5 22 24  5  1 13  1  1  5  1  1  1 24  5  1]]\n"
          ],
          "name": "stdout"
        }
      ]
    },
    {
      "cell_type": "markdown",
      "metadata": {
        "id": "qg3ACia5RQzz"
      },
      "source": [
        "# Its now time to work with the a larger dataset of text to explore Word Embeddings and Sentiments Analysis"
      ]
    },
    {
      "cell_type": "markdown",
      "metadata": {
        "id": "q8l-ormNTdQO"
      },
      "source": [
        "## Tokenize the text\n",
        "\n",
        "Create the tokenizer, specify the OOV token, tokenize the text, then inspect the word index."
      ]
    },
    {
      "cell_type": "markdown",
      "metadata": {
        "id": "2xAzMVkZRXD5"
      },
      "source": [
        "### Import the required functions and libraries"
      ]
    },
    {
      "cell_type": "code",
      "metadata": {
        "id": "XJq8QS8gT5E5"
      },
      "source": [
        "import tensorflow as tf\n",
        "from tensorflow.keras.preprocessing.text import Tokenizer\n",
        "from tensorflow.keras.preprocessing.sequence import pad_sequences\n",
        "\n",
        "import numpy as np\n",
        "import pandas as pd"
      ],
      "execution_count": null,
      "outputs": []
    },
    {
      "cell_type": "markdown",
      "metadata": {
        "id": "CKGwE8LspGZM"
      },
      "source": [
        "### Get the data and create a dataset out of it."
      ]
    },
    {
      "cell_type": "code",
      "metadata": {
        "colab": {
          "base_uri": "https://localhost:8080/"
        },
        "id": "hlbkXzNUVwOM",
        "outputId": "a848a143-3a1f-4fef-8ec9-baf781a93b53"
      },
      "source": [
        "path = tf.keras.utils.get_file('sentiments.csv', 'https://drive.google.com/uc?id=13ySLC_ue6Umt9RJYSeM2t-V0kCv-4C-P')"
      ],
      "execution_count": null,
      "outputs": [
        {
          "output_type": "stream",
          "text": [
            "Downloading data from https://drive.google.com/uc?id=13ySLC_ue6Umt9RJYSeM2t-V0kCv-4C-P\n",
            "131072/127831 [==============================] - 0s 0us/step\n",
            "139264/127831 [================================] - 0s 0us/step\n"
          ],
          "name": "stdout"
        }
      ]
    },
    {
      "cell_type": "code",
      "metadata": {
        "id": "MTbuIRL4WKyl"
      },
      "source": [
        "dataset = pd.read_csv(path)\n",
        "sentences = dataset['text'].tolist()\n",
        "labels = dataset['sentiment'].tolist()\n",
        "\n",
        "training_size = int(len(sentences)* 0.8)\n",
        "\n",
        "training_sentences  = np.array(sentences[0:training_size])\n",
        "testing_sentences  = np.array(sentences[training_size:])\n",
        "\n",
        "training_labels  = np.array(labels[0:training_size])\n",
        "testing_labels  = np.array(labels[training_size:])\n",
        "\n",
        "#print(type(testing_labels))"
      ],
      "execution_count": null,
      "outputs": []
    },
    {
      "cell_type": "markdown",
      "metadata": {
        "id": "HkQMeN0RpNXE"
      },
      "source": [
        "### Tokenize the dataset"
      ]
    },
    {
      "cell_type": "code",
      "metadata": {
        "id": "wfoV1jpRWPGm"
      },
      "source": [
        "vocab_size = 1000\n",
        "pad_type = 'post'\n",
        "trunc_type = 'post'\n",
        "oov_tok = '<OOV>'\n",
        "embedding_dim = 16\n",
        "max_length = 100\n",
        "\n",
        "tokenizer =  Tokenizer(num_words= vocab_size , oov_token= oov_tok)\n",
        "tokenizer.fit_on_texts(training_sentences)\n",
        "word_index = tokenizer.word_index\n",
        "\n",
        "sequences = tokenizer.texts_to_sequences(training_sentences)\n",
        "\n",
        "training_sequences = tokenizer.texts_to_sequences(training_sentences)\n",
        "training_padded = pad_sequences(training_sequences, maxlen = max_length, padding=pad_type, truncating=trunc_type)\n",
        "\n",
        "testing_sequences = tokenizer.texts_to_sequences(testing_sentences)\n",
        "testing_padded = pad_sequences(testing_sequences, maxlen = max_length, padding=pad_type, truncating=trunc_type)\n"
      ],
      "execution_count": null,
      "outputs": []
    },
    {
      "cell_type": "markdown",
      "metadata": {
        "id": "LVt7byJOpViI"
      },
      "source": [
        "### Lets review the sequences once..."
      ]
    },
    {
      "cell_type": "code",
      "metadata": {
        "colab": {
          "base_uri": "https://localhost:8080/"
        },
        "id": "S3BEK1k7WRuY",
        "outputId": "faf7bddd-412c-4777-feee-d090bb7409c1"
      },
      "source": [
        "print(training_sentences[0])\n",
        "print(training_padded[0])"
      ],
      "execution_count": null,
      "outputs": [
        {
          "output_type": "stream",
          "text": [
            "So there is no way for me to plug it in here in the US unless I go by a converter.\n",
            "[ 26  68   7  63 173  13  67   8 218   5  16  82  16   2 197 363   4  75\n",
            " 109   6   1   0   0   0   0   0   0   0   0   0   0   0   0   0   0   0\n",
            "   0   0   0   0   0   0   0   0   0   0   0   0   0   0   0   0   0   0\n",
            "   0   0   0   0   0   0   0   0   0   0   0   0   0   0   0   0   0   0\n",
            "   0   0   0   0   0   0   0   0   0   0   0   0   0   0   0   0   0   0\n",
            "   0   0   0   0   0   0   0   0   0   0]\n"
          ],
          "name": "stdout"
        }
      ]
    },
    {
      "cell_type": "code",
      "metadata": {
        "colab": {
          "base_uri": "https://localhost:8080/"
        },
        "id": "bp8nNxChZ1eS",
        "outputId": "997deb98-2132-4d8d-be29-8955c7b10562"
      },
      "source": [
        "reverse_word_index = dict([(value, key) for (key, value) in word_index.items()])\n",
        "\n",
        "print(word_index['phone'])\n",
        "print(reverse_word_index[15])\n",
        "\n",
        "def decode_review(text):\n",
        "    return ' '.join([reverse_word_index.get(i, '?') for i in text])\n",
        "\n",
        "print(decode_review(training_padded[1]))\n",
        "print(training_sentences[1])"
      ],
      "execution_count": null,
      "outputs": [
        {
          "output_type": "stream",
          "text": [
            "15\n",
            "phone\n",
            "good case excellent value ? ? ? ? ? ? ? ? ? ? ? ? ? ? ? ? ? ? ? ? ? ? ? ? ? ? ? ? ? ? ? ? ? ? ? ? ? ? ? ? ? ? ? ? ? ? ? ? ? ? ? ? ? ? ? ? ? ? ? ? ? ? ? ? ? ? ? ? ? ? ? ? ? ? ? ? ? ? ? ? ? ? ? ? ? ? ? ? ? ? ? ? ? ? ? ?\n",
            "Good case Excellent value.\n"
          ],
          "name": "stdout"
        }
      ]
    },
    {
      "cell_type": "markdown",
      "metadata": {
        "id": "jBWEIAc6pj2u"
      },
      "source": [
        "### Now is the time to train a basic sentiment model with embeddings."
      ]
    },
    {
      "cell_type": "code",
      "metadata": {
        "id": "vivbpho0aHjf",
        "colab": {
          "base_uri": "https://localhost:8080/"
        },
        "outputId": "2e7791a1-e61c-40ff-952f-90789a168275"
      },
      "source": [
        "model = tf.keras.models.Sequential([\n",
        "                                    tf.keras.layers.Embedding(vocab_size,embedding_dim, input_length = max_length),\n",
        "                                    tf.keras.layers.Flatten(),\n",
        "                                    tf.keras.layers.Dense(6, activation='relu'),\n",
        "                                    tf.keras.layers.Dense(1, activation = 'sigmoid')\n",
        "])\n",
        "model.compile(loss = 'binary_crossentropy', optimizer = 'adam', metrics = ['accuracy'])\n",
        "model.summary()"
      ],
      "execution_count": null,
      "outputs": [
        {
          "output_type": "stream",
          "text": [
            "Model: \"sequential\"\n",
            "_________________________________________________________________\n",
            "Layer (type)                 Output Shape              Param #   \n",
            "=================================================================\n",
            "embedding (Embedding)        (None, 100, 16)           16000     \n",
            "_________________________________________________________________\n",
            "flatten (Flatten)            (None, 1600)              0         \n",
            "_________________________________________________________________\n",
            "dense (Dense)                (None, 6)                 9606      \n",
            "_________________________________________________________________\n",
            "dense_1 (Dense)              (None, 1)                 7         \n",
            "=================================================================\n",
            "Total params: 25,613\n",
            "Trainable params: 25,613\n",
            "Non-trainable params: 0\n",
            "_________________________________________________________________\n"
          ],
          "name": "stdout"
        }
      ]
    },
    {
      "cell_type": "code",
      "metadata": {
        "colab": {
          "base_uri": "https://localhost:8080/"
        },
        "id": "JG6vxyQFvDIW",
        "outputId": "aa1b0ef9-f36b-487a-af12-21099c01dc91"
      },
      "source": [
        "num_epochs = 50\n",
        "history = model.fit(training_padded,training_labels, epochs= num_epochs, validation_data=(testing_padded, testing_labels))"
      ],
      "execution_count": null,
      "outputs": [
        {
          "output_type": "stream",
          "text": [
            "Epoch 1/50\n",
            "50/50 [==============================] - 4s 11ms/step - loss: 0.6925 - accuracy: 0.5223 - val_loss: 0.7017 - val_accuracy: 0.4110\n",
            "Epoch 2/50\n",
            "50/50 [==============================] - 0s 7ms/step - loss: 0.6813 - accuracy: 0.5474 - val_loss: 0.6947 - val_accuracy: 0.4461\n",
            "Epoch 3/50\n",
            "50/50 [==============================] - 0s 7ms/step - loss: 0.6461 - accuracy: 0.7037 - val_loss: 0.6773 - val_accuracy: 0.5188\n",
            "Epoch 4/50\n",
            "50/50 [==============================] - 0s 7ms/step - loss: 0.5506 - accuracy: 0.8154 - val_loss: 0.5847 - val_accuracy: 0.7293\n",
            "Epoch 5/50\n",
            "50/50 [==============================] - 0s 7ms/step - loss: 0.4145 - accuracy: 0.8920 - val_loss: 0.5200 - val_accuracy: 0.7469\n",
            "Epoch 6/50\n",
            "50/50 [==============================] - 0s 7ms/step - loss: 0.3009 - accuracy: 0.9272 - val_loss: 0.5281 - val_accuracy: 0.7393\n",
            "Epoch 7/50\n",
            "50/50 [==============================] - 0s 7ms/step - loss: 0.2207 - accuracy: 0.9422 - val_loss: 0.5186 - val_accuracy: 0.7393\n",
            "Epoch 8/50\n",
            "50/50 [==============================] - 0s 7ms/step - loss: 0.1666 - accuracy: 0.9699 - val_loss: 0.5111 - val_accuracy: 0.7444\n",
            "Epoch 9/50\n",
            "50/50 [==============================] - 0s 6ms/step - loss: 0.1282 - accuracy: 0.9743 - val_loss: 0.4907 - val_accuracy: 0.7419\n",
            "Epoch 10/50\n",
            "50/50 [==============================] - 0s 6ms/step - loss: 0.0990 - accuracy: 0.9849 - val_loss: 0.5065 - val_accuracy: 0.7368\n",
            "Epoch 11/50\n",
            "50/50 [==============================] - 0s 7ms/step - loss: 0.0787 - accuracy: 0.9881 - val_loss: 0.4979 - val_accuracy: 0.7519\n",
            "Epoch 12/50\n",
            "50/50 [==============================] - 0s 7ms/step - loss: 0.0628 - accuracy: 0.9931 - val_loss: 0.5114 - val_accuracy: 0.7444\n",
            "Epoch 13/50\n",
            "50/50 [==============================] - 0s 7ms/step - loss: 0.0560 - accuracy: 0.9900 - val_loss: 0.5252 - val_accuracy: 0.7368\n",
            "Epoch 14/50\n",
            "50/50 [==============================] - 0s 7ms/step - loss: 0.0432 - accuracy: 0.9937 - val_loss: 0.5629 - val_accuracy: 0.7444\n",
            "Epoch 15/50\n",
            "50/50 [==============================] - 0s 6ms/step - loss: 0.0356 - accuracy: 0.9956 - val_loss: 0.5735 - val_accuracy: 0.7393\n",
            "Epoch 16/50\n",
            "50/50 [==============================] - 0s 7ms/step - loss: 0.0303 - accuracy: 0.9962 - val_loss: 0.5984 - val_accuracy: 0.7444\n",
            "Epoch 17/50\n",
            "50/50 [==============================] - 0s 7ms/step - loss: 0.0272 - accuracy: 0.9969 - val_loss: 0.6435 - val_accuracy: 0.7494\n",
            "Epoch 18/50\n",
            "50/50 [==============================] - 0s 7ms/step - loss: 0.0227 - accuracy: 0.9969 - val_loss: 0.6098 - val_accuracy: 0.7368\n",
            "Epoch 19/50\n",
            "50/50 [==============================] - 0s 6ms/step - loss: 0.0195 - accuracy: 0.9975 - val_loss: 0.6333 - val_accuracy: 0.7419\n",
            "Epoch 20/50\n",
            "50/50 [==============================] - 0s 7ms/step - loss: 0.0173 - accuracy: 0.9975 - val_loss: 0.6631 - val_accuracy: 0.7469\n",
            "Epoch 21/50\n",
            "50/50 [==============================] - 0s 6ms/step - loss: 0.0152 - accuracy: 0.9994 - val_loss: 0.6956 - val_accuracy: 0.7368\n",
            "Epoch 22/50\n",
            "50/50 [==============================] - 0s 6ms/step - loss: 0.0144 - accuracy: 0.9987 - val_loss: 0.6785 - val_accuracy: 0.7444\n",
            "Epoch 23/50\n",
            "50/50 [==============================] - 0s 7ms/step - loss: 0.0121 - accuracy: 0.9994 - val_loss: 0.7129 - val_accuracy: 0.7444\n",
            "Epoch 24/50\n",
            "50/50 [==============================] - 0s 7ms/step - loss: 0.0111 - accuracy: 0.9987 - val_loss: 0.7387 - val_accuracy: 0.7419\n",
            "Epoch 25/50\n",
            "50/50 [==============================] - 0s 7ms/step - loss: 0.0105 - accuracy: 0.9987 - val_loss: 0.7063 - val_accuracy: 0.7469\n",
            "Epoch 26/50\n",
            "50/50 [==============================] - 0s 7ms/step - loss: 0.0099 - accuracy: 0.9994 - val_loss: 0.7326 - val_accuracy: 0.7494\n",
            "Epoch 27/50\n",
            "50/50 [==============================] - 0s 6ms/step - loss: 0.0084 - accuracy: 0.9994 - val_loss: 0.7294 - val_accuracy: 0.7469\n",
            "Epoch 28/50\n",
            "50/50 [==============================] - 0s 7ms/step - loss: 0.0079 - accuracy: 0.9987 - val_loss: 0.7390 - val_accuracy: 0.7469\n",
            "Epoch 29/50\n",
            "50/50 [==============================] - 0s 7ms/step - loss: 0.0072 - accuracy: 0.9987 - val_loss: 0.7501 - val_accuracy: 0.7444\n",
            "Epoch 30/50\n",
            "50/50 [==============================] - 0s 6ms/step - loss: 0.0066 - accuracy: 0.9994 - val_loss: 0.8329 - val_accuracy: 0.7368\n",
            "Epoch 31/50\n",
            "50/50 [==============================] - 0s 6ms/step - loss: 0.0062 - accuracy: 0.9987 - val_loss: 0.7752 - val_accuracy: 0.7469\n",
            "Epoch 32/50\n",
            "50/50 [==============================] - 0s 6ms/step - loss: 0.0060 - accuracy: 0.9994 - val_loss: 0.8274 - val_accuracy: 0.7419\n",
            "Epoch 33/50\n",
            "50/50 [==============================] - 0s 7ms/step - loss: 0.0054 - accuracy: 0.9994 - val_loss: 0.7882 - val_accuracy: 0.7469\n",
            "Epoch 34/50\n",
            "50/50 [==============================] - 0s 7ms/step - loss: 0.0058 - accuracy: 0.9987 - val_loss: 0.8023 - val_accuracy: 0.7444\n",
            "Epoch 35/50\n",
            "50/50 [==============================] - 0s 7ms/step - loss: 0.0050 - accuracy: 0.9994 - val_loss: 0.8081 - val_accuracy: 0.7469\n",
            "Epoch 36/50\n",
            "50/50 [==============================] - 0s 7ms/step - loss: 0.0046 - accuracy: 0.9994 - val_loss: 0.8422 - val_accuracy: 0.7444\n",
            "Epoch 37/50\n",
            "50/50 [==============================] - 0s 7ms/step - loss: 0.0042 - accuracy: 0.9994 - val_loss: 0.8266 - val_accuracy: 0.7469\n",
            "Epoch 38/50\n",
            "50/50 [==============================] - 0s 6ms/step - loss: 0.0043 - accuracy: 0.9994 - val_loss: 0.8588 - val_accuracy: 0.7393\n",
            "Epoch 39/50\n",
            "50/50 [==============================] - 0s 7ms/step - loss: 0.0037 - accuracy: 0.9994 - val_loss: 0.9035 - val_accuracy: 0.7469\n",
            "Epoch 40/50\n",
            "50/50 [==============================] - 0s 7ms/step - loss: 0.0037 - accuracy: 0.9994 - val_loss: 0.8708 - val_accuracy: 0.7444\n",
            "Epoch 41/50\n",
            "50/50 [==============================] - 0s 7ms/step - loss: 0.0039 - accuracy: 0.9987 - val_loss: 0.8591 - val_accuracy: 0.7444\n",
            "Epoch 42/50\n",
            "50/50 [==============================] - 0s 7ms/step - loss: 0.0033 - accuracy: 0.9994 - val_loss: 0.9485 - val_accuracy: 0.7419\n",
            "Epoch 43/50\n",
            "50/50 [==============================] - 0s 6ms/step - loss: 0.0033 - accuracy: 0.9987 - val_loss: 0.9489 - val_accuracy: 0.7419\n",
            "Epoch 44/50\n",
            "50/50 [==============================] - 0s 6ms/step - loss: 0.0032 - accuracy: 0.9987 - val_loss: 0.9623 - val_accuracy: 0.7444\n",
            "Epoch 45/50\n",
            "50/50 [==============================] - 0s 6ms/step - loss: 0.0029 - accuracy: 0.9994 - val_loss: 0.9157 - val_accuracy: 0.7444\n",
            "Epoch 46/50\n",
            "50/50 [==============================] - 0s 7ms/step - loss: 0.0028 - accuracy: 0.9994 - val_loss: 0.8969 - val_accuracy: 0.7494\n",
            "Epoch 47/50\n",
            "50/50 [==============================] - 0s 7ms/step - loss: 0.0027 - accuracy: 0.9994 - val_loss: 1.0301 - val_accuracy: 0.7343\n",
            "Epoch 48/50\n",
            "50/50 [==============================] - 0s 7ms/step - loss: 0.0025 - accuracy: 0.9994 - val_loss: 0.9657 - val_accuracy: 0.7393\n",
            "Epoch 49/50\n",
            "50/50 [==============================] - 0s 7ms/step - loss: 0.0026 - accuracy: 0.9994 - val_loss: 0.9907 - val_accuracy: 0.7368\n",
            "Epoch 50/50\n",
            "50/50 [==============================] - 0s 7ms/step - loss: 0.0024 - accuracy: 0.9994 - val_loss: 1.1094 - val_accuracy: 0.7268\n"
          ],
          "name": "stdout"
        }
      ]
    },
    {
      "cell_type": "code",
      "metadata": {
        "colab": {
          "base_uri": "https://localhost:8080/",
          "height": 541
        },
        "id": "kHYNeOmn9euh",
        "outputId": "e7f7601b-a14b-49a0-e266-e48e89907f5b"
      },
      "source": [
        "import matplotlib.pyplot as plt\n",
        "\n",
        "\n",
        "def plot_graphs(history, string):\n",
        "  plt.plot(history.history[string])\n",
        "  plt.plot(history.history['val_'+string])\n",
        "  plt.xlabel(\"Epochs\")\n",
        "  plt.ylabel(string)\n",
        "  plt.legend([string, 'val_'+string])\n",
        "  plt.show()\n",
        "  \n",
        "plot_graphs(history, \"accuracy\")\n",
        "plot_graphs(history, \"loss\")"
      ],
      "execution_count": null,
      "outputs": [
        {
          "output_type": "display_data",
          "data": {
            "image/png": "[encoded data removed]",
            "text/plain": [
              "<Figure size 432x288 with 1 Axes>"
            ]
          },
          "metadata": {
            "needs_background": "light"
          }
        },
        {
          "output_type": "display_data",
          "data": {
            "image/png": "[encoded data removed]",
            "text/plain": [
              "<Figure size 432x288 with 1 Axes>"
            ]
          },
          "metadata": {
            "needs_background": "light"
          }
        }
      ]
    },
    {
      "cell_type": "markdown",
      "metadata": {
        "id": "gEqUR-Sr0v-T"
      },
      "source": [
        "## Get files for visualizing the network  \n",
        "The code below will download two files for visualizing how your network \"sees\" the sentiment related to each word. Head to http://projector.tensorflow.org/ and load these files, then click the \"Sphereize\" checkbox."
      ]
    },
    {
      "cell_type": "code",
      "metadata": {
        "colab": {
          "base_uri": "https://localhost:8080/"
        },
        "id": "Q0FCnmaGwh54",
        "outputId": "fa02809e-ea21-4b7d-e5ab-ca165132f008"
      },
      "source": [
        "# First get the weights of the embedding layer\n",
        "e = model.layers[0]\n",
        "weights = e.get_weights()[0]\n",
        "print(weights.shape) # shape: (vocab_size, embedding_dim)"
      ],
      "execution_count": null,
      "outputs": [
        {
          "output_type": "stream",
          "text": [
            "(1000, 16)\n"
          ],
          "name": "stdout"
        }
      ]
    },
    {
      "cell_type": "code",
      "metadata": {
        "id": "Uh9DeQ9S02dQ"
      },
      "source": [
        "import io\n",
        "\n",
        "# Write out the embedding vectors and metadata\n",
        "out_v = io.open('vecs1.tsv', 'w', encoding='utf-8')\n",
        "out_m = io.open('meta1.tsv', 'w', encoding='utf-8')\n",
        "for word_num in range(1, vocab_size):\n",
        "  word = reverse_word_index[word_num]\n",
        "  embeddings = weights[word_num]\n",
        "  out_m.write(word + \"\\n\")\n",
        "  out_v.write('\\t'.join([str(x) for x in embeddings]) + \"\\n\")\n",
        "out_v.close()\n",
        "out_m.close()"
      ],
      "execution_count": null,
      "outputs": []
    },
    {
      "cell_type": "code",
      "metadata": {
        "colab": {
          "base_uri": "https://localhost:8080/",
          "height": 17
        },
        "id": "FtYgLFcg04s9",
        "outputId": "eb2f12f2-8964-46e6-c5f2-163ee482b79d"
      },
      "source": [
        "# Download the files\n",
        "try:\n",
        "  from google.colab import files\n",
        "except ImportError:\n",
        "  pass\n",
        "else:\n",
        "  files.download('vecs1.tsv')\n",
        "  files.download('meta1.tsv')"
      ],
      "execution_count": null,
      "outputs": [
        {
          "output_type": "display_data",
          "data": {
            "application/javascript": [
              "\n",
              "    async function download(id, filename, size) {\n",
              "      if (!google.colab.kernel.accessAllowed) {\n",
              "        return;\n",
              "      }\n",
              "      const div = document.createElement('div');\n",
              "      const label = document.createElement('label');\n",
              "      label.textContent = `Downloading \"${filename}\": `;\n",
              "      div.appendChild(label);\n",
              "      const progress = document.createElement('progress');\n",
              "      progress.max = size;\n",
              "      div.appendChild(progress);\n",
              "      document.body.appendChild(div);\n",
              "\n",
              "      const buffers = [];\n",
              "      let downloaded = 0;\n",
              "\n",
              "      const channel = await google.colab.kernel.comms.open(id);\n",
              "      // Send a message to notify the kernel that we're ready.\n",
              "      channel.send({})\n",
              "\n",
              "      for await (const message of channel.messages) {\n",
              "        // Send a message to notify the kernel that we're ready.\n",
              "        channel.send({})\n",
              "        if (message.buffers) {\n",
              "          for (const buffer of message.buffers) {\n",
              "            buffers.push(buffer);\n",
              "            downloaded += buffer.byteLength;\n",
              "            progress.value = downloaded;\n",
              "          }\n",
              "        }\n",
              "      }\n",
              "      const blob = new Blob(buffers, {type: 'application/binary'});\n",
              "      const a = document.createElement('a');\n",
              "      a.href = window.URL.createObjectURL(blob);\n",
              "      a.download = filename;\n",
              "      div.appendChild(a);\n",
              "      a.click();\n",
              "      div.remove();\n",
              "    }\n",
              "  "
            ],
            "text/plain": [
              "<IPython.core.display.Javascript object>"
            ]
          },
          "metadata": {}
        },
        {
          "output_type": "display_data",
          "data": {
            "application/javascript": [
              "download(\"download_a590194d-06da-48b1-b4e8-3be5fe6156f9\", \"vecs1.tsv\", 188021)"
            ],
            "text/plain": [
              "<IPython.core.display.Javascript object>"
            ]
          },
          "metadata": {}
        },
        {
          "output_type": "display_data",
          "data": {
            "application/javascript": [
              "\n",
              "    async function download(id, filename, size) {\n",
              "      if (!google.colab.kernel.accessAllowed) {\n",
              "        return;\n",
              "      }\n",
              "      const div = document.createElement('div');\n",
              "      const label = document.createElement('label');\n",
              "      label.textContent = `Downloading \"${filename}\": `;\n",
              "      div.appendChild(label);\n",
              "      const progress = document.createElement('progress');\n",
              "      progress.max = size;\n",
              "      div.appendChild(progress);\n",
              "      document.body.appendChild(div);\n",
              "\n",
              "      const buffers = [];\n",
              "      let downloaded = 0;\n",
              "\n",
              "      const channel = await google.colab.kernel.comms.open(id);\n",
              "      // Send a message to notify the kernel that we're ready.\n",
              "      channel.send({})\n",
              "\n",
              "      for await (const message of channel.messages) {\n",
              "        // Send a message to notify the kernel that we're ready.\n",
              "        channel.send({})\n",
              "        if (message.buffers) {\n",
              "          for (const buffer of message.buffers) {\n",
              "            buffers.push(buffer);\n",
              "            downloaded += buffer.byteLength;\n",
              "            progress.value = downloaded;\n",
              "          }\n",
              "        }\n",
              "      }\n",
              "      const blob = new Blob(buffers, {type: 'application/binary'});\n",
              "      const a = document.createElement('a');\n",
              "      a.href = window.URL.createObjectURL(blob);\n",
              "      a.download = filename;\n",
              "      div.appendChild(a);\n",
              "      a.click();\n",
              "      div.remove();\n",
              "    }\n",
              "  "
            ],
            "text/plain": [
              "<IPython.core.display.Javascript object>"
            ]
          },
          "metadata": {}
        },
        {
          "output_type": "display_data",
          "data": {
            "application/javascript": [
              "download(\"download_0de41ebd-14d4-4582-875d-7a764bb3bafa\", \"meta1.tsv\", 6617)"
            ],
            "text/plain": [
              "<IPython.core.display.Javascript object>"
            ]
          },
          "metadata": {}
        }
      ]
    },
    {
      "cell_type": "markdown",
      "metadata": {
        "id": "TN-_hMgg1ClW"
      },
      "source": [
        "## Predicting Sentiment in New Reviews   \n",
        "\n",
        "Now that you've trained and visualized your network, take a look below at how we can predict sentiment in new reviews the network has never seen before."
      ]
    },
    {
      "cell_type": "code",
      "metadata": {
        "colab": {
          "base_uri": "https://localhost:8080/"
        },
        "id": "ZwAb_gLb0-cv",
        "outputId": "9aeddacb-c2c2-46ca-d6ed-283d6ce9ccf0"
      },
      "source": [
        "# Use the model to predict a review   \n",
        "fake_reviews = ['I love this phone', 'I hate spaghetti', \n",
        "                'Everything was cold',\n",
        "                'Everything was hot exactly as I wanted', \n",
        "                'Everything was green', \n",
        "                'the host seated us immediately',\n",
        "                'there is nothing to complain about',\n",
        "                'they gave us free chocolate cake', \n",
        "                'they did not charge us for the cake.', \n",
        "                'not sure about the wilted flowers on the table',\n",
        "                'only works when I stand on tippy toes', \n",
        "                'does not work when I stand on my head']\n",
        "\n",
        "print(fake_reviews) \n",
        "\n",
        "# Create the sequences\n",
        "padding_type='post'\n",
        "sample_sequences = tokenizer.texts_to_sequences(fake_reviews)\n",
        "fakes_padded = pad_sequences(sample_sequences, padding=padding_type, maxlen=max_length) \n",
        "\n",
        "print('\\nHOT OFF THE PRESS! HERE ARE SOME NEWLY MINTED, ABSOLUTELY GENUINE REVIEWS!\\n')              \n",
        "\n",
        "classes = model.predict(fakes_padded)"
      ],
      "execution_count": null,
      "outputs": [
        {
          "output_type": "stream",
          "text": [
            "['I love this phone', 'I hate spaghetti', 'Everything was cold', 'Everything was hot exactly as I wanted', 'Everything was green', 'the host seated us immediately', 'there is nothing to complain about', 'they gave us free chocolate cake', 'they did not charge us for the cake.', 'not sure about the wilted flowers on the table', 'only works when I stand on tippy toes', 'does not work when I stand on my head']\n",
            "\n",
            "HOT OFF THE PRESS! HERE ARE SOME NEWLY MINTED, ABSOLUTELY GENUINE REVIEWS!\n",
            "\n"
          ],
          "name": "stdout"
        }
      ]
    },
    {
      "cell_type": "code",
      "metadata": {
        "colab": {
          "base_uri": "https://localhost:8080/"
        },
        "id": "B7AUaLRU1JIO",
        "outputId": "5bdab169-7a0d-4439-81df-456e516894a2"
      },
      "source": [
        "for x in range(len(fake_reviews)):\n",
        "  print(fake_reviews[x])\n",
        "  print(classes[x])\n",
        "  print('\\n')\n"
      ],
      "execution_count": null,
      "outputs": [
        {
          "output_type": "stream",
          "text": [
            "I love this phone\n",
            "[0.99998176]\n",
            "\n",
            "\n",
            "I hate spaghetti\n",
            "[0.00015392]\n",
            "\n",
            "\n",
            "Everything was cold\n",
            "[0.00426392]\n",
            "\n",
            "\n",
            "Everything was hot exactly as I wanted\n",
            "[0.08989736]\n",
            "\n",
            "\n",
            "Everything was green\n",
            "[0.02919167]\n",
            "\n",
            "\n",
            "the host seated us immediately\n",
            "[0.9999182]\n",
            "\n",
            "\n",
            "there is nothing to complain about\n",
            "[0.00461441]\n",
            "\n",
            "\n",
            "they gave us free chocolate cake\n",
            "[0.9997273]\n",
            "\n",
            "\n",
            "they did not charge us for the cake.\n",
            "[0.94430906]\n",
            "\n",
            "\n",
            "not sure about the wilted flowers on the table\n",
            "[0.00024078]\n",
            "\n",
            "\n",
            "only works when I stand on tippy toes\n",
            "[0.99992764]\n",
            "\n",
            "\n",
            "does not work when I stand on my head\n",
            "[2.1181067e-05]\n",
            "\n",
            "\n"
          ],
          "name": "stdout"
        }
      ]
    },
    {
      "cell_type": "markdown",
      "metadata": {
        "id": "TTBefuMH6S_Z"
      },
      "source": [
        "## Tweaking the Model   \n",
        "\n",
        "### Lets see how might changing the vocab_size, embedding_dim or max_length affect how the model performs?"
      ]
    },
    {
      "cell_type": "code",
      "metadata": {
        "id": "ShTN-23X1WE4"
      },
      "source": [
        "vocab_size = 500\n",
        "embedding_dim = 16\n",
        "max_length = 50\n",
        "trunc_type='post'\n",
        "padding_type='post'\n",
        "oov_tok = \"<OOV>\"\n",
        "\n",
        "tokenizer = Tokenizer(num_words = vocab_size, oov_token=oov_tok)\n",
        "tokenizer.fit_on_texts(training_sentences)\n",
        "word_index = tokenizer.word_index\n",
        "training_sequences = tokenizer.texts_to_sequences(training_sentences)\n",
        "training_padded = pad_sequences(training_sequences, maxlen=max_length, padding=padding_type, truncating=trunc_type)\n",
        "\n",
        "testing_sequences = tokenizer.texts_to_sequences(testing_sentences)\n",
        "testing_padded = pad_sequences(testing_sequences, maxlen=max_length, padding=padding_type, truncating=trunc_type)"
      ],
      "execution_count": null,
      "outputs": []
    },
    {
      "cell_type": "markdown",
      "metadata": {
        "id": "EcJA3PMn6wpR"
      },
      "source": [
        "### Train a Sentiment Model (with tweaks!)   \n",
        "\n",
        "We'll use a slightly different model here, using GlobalAveragePooling1D instead of Flatten()."
      ]
    },
    {
      "cell_type": "code",
      "metadata": {
        "colab": {
          "base_uri": "https://localhost:8080/"
        },
        "id": "-yCR6ggN6q0O",
        "outputId": "d2de01ed-d643-4773-f189-d84904fd3ee0"
      },
      "source": [
        "model = tf.keras.Sequential([\n",
        "    tf.keras.layers.Embedding(vocab_size, embedding_dim, input_length=max_length),\n",
        "    tf.keras.layers.GlobalAveragePooling1D(),\n",
        "    tf.keras.layers.Dense(6, activation='relu'),\n",
        "    tf.keras.layers.Dense(1, activation='sigmoid')\n",
        "])\n",
        "model.compile(loss='binary_crossentropy',optimizer='adam',metrics=['accuracy'])\n",
        "model.summary()"
      ],
      "execution_count": null,
      "outputs": [
        {
          "output_type": "stream",
          "text": [
            "Model: \"sequential_1\"\n",
            "_________________________________________________________________\n",
            "Layer (type)                 Output Shape              Param #   \n",
            "=================================================================\n",
            "embedding_1 (Embedding)      (None, 50, 16)            8000      \n",
            "_________________________________________________________________\n",
            "global_average_pooling1d (Gl (None, 16)                0         \n",
            "_________________________________________________________________\n",
            "dense_2 (Dense)              (None, 6)                 102       \n",
            "_________________________________________________________________\n",
            "dense_3 (Dense)              (None, 1)                 7         \n",
            "=================================================================\n",
            "Total params: 8,109\n",
            "Trainable params: 8,109\n",
            "Non-trainable params: 0\n",
            "_________________________________________________________________\n"
          ],
          "name": "stdout"
        }
      ]
    },
    {
      "cell_type": "code",
      "metadata": {
        "colab": {
          "base_uri": "https://localhost:8080/"
        },
        "id": "vYYxY3Hk61Lk",
        "outputId": "5ad9c283-e0a4-4d31-a594-9cfe1e29b9a1"
      },
      "source": [
        "num_epochs = 50\n",
        "history_2 = model.fit(training_padded, training_labels, epochs=num_epochs, validation_data=(testing_padded, testing_labels))"
      ],
      "execution_count": null,
      "outputs": [
        {
          "output_type": "stream",
          "text": [
            "Epoch 1/70\n",
            "50/50 [==============================] - 1s 10ms/step - loss: 0.6919 - accuracy: 0.5223 - val_loss: 0.6994 - val_accuracy: 0.4110\n",
            "Epoch 2/70\n",
            "50/50 [==============================] - 0s 7ms/step - loss: 0.6899 - accuracy: 0.5223 - val_loss: 0.7001 - val_accuracy: 0.4110\n",
            "Epoch 3/70\n",
            "50/50 [==============================] - 0s 7ms/step - loss: 0.6874 - accuracy: 0.5223 - val_loss: 0.6980 - val_accuracy: 0.4110\n",
            "Epoch 4/70\n",
            "50/50 [==============================] - 0s 6ms/step - loss: 0.6837 - accuracy: 0.5355 - val_loss: 0.6958 - val_accuracy: 0.4361\n",
            "Epoch 5/70\n",
            "50/50 [==============================] - 0s 6ms/step - loss: 0.6776 - accuracy: 0.5436 - val_loss: 0.6883 - val_accuracy: 0.4987\n",
            "Epoch 6/70\n",
            "50/50 [==============================] - 0s 7ms/step - loss: 0.6670 - accuracy: 0.5863 - val_loss: 0.6779 - val_accuracy: 0.5614\n",
            "Epoch 7/70\n",
            "50/50 [==============================] - 0s 7ms/step - loss: 0.6515 - accuracy: 0.6667 - val_loss: 0.6746 - val_accuracy: 0.5213\n",
            "Epoch 8/70\n",
            "50/50 [==============================] - 0s 6ms/step - loss: 0.6302 - accuracy: 0.6911 - val_loss: 0.6474 - val_accuracy: 0.6491\n",
            "Epoch 9/70\n",
            "50/50 [==============================] - 0s 7ms/step - loss: 0.6023 - accuracy: 0.7332 - val_loss: 0.6290 - val_accuracy: 0.6591\n",
            "Epoch 10/70\n",
            "50/50 [==============================] - 0s 6ms/step - loss: 0.5721 - accuracy: 0.7715 - val_loss: 0.6001 - val_accuracy: 0.7569\n",
            "Epoch 11/70\n",
            "50/50 [==============================] - 0s 6ms/step - loss: 0.5391 - accuracy: 0.8230 - val_loss: 0.5927 - val_accuracy: 0.6892\n",
            "Epoch 12/70\n",
            "50/50 [==============================] - 0s 6ms/step - loss: 0.5048 - accuracy: 0.8123 - val_loss: 0.5676 - val_accuracy: 0.7193\n",
            "Epoch 13/70\n",
            "50/50 [==============================] - 0s 6ms/step - loss: 0.4730 - accuracy: 0.8330 - val_loss: 0.5429 - val_accuracy: 0.7594\n",
            "Epoch 14/70\n",
            "50/50 [==============================] - 0s 6ms/step - loss: 0.4466 - accuracy: 0.8462 - val_loss: 0.5564 - val_accuracy: 0.6892\n",
            "Epoch 15/70\n",
            "50/50 [==============================] - 0s 7ms/step - loss: 0.4194 - accuracy: 0.8443 - val_loss: 0.5296 - val_accuracy: 0.7268\n",
            "Epoch 16/70\n",
            "50/50 [==============================] - 0s 7ms/step - loss: 0.3958 - accuracy: 0.8588 - val_loss: 0.4968 - val_accuracy: 0.7870\n",
            "Epoch 17/70\n",
            "50/50 [==============================] - 0s 7ms/step - loss: 0.3759 - accuracy: 0.8638 - val_loss: 0.5019 - val_accuracy: 0.7569\n",
            "Epoch 18/70\n",
            "50/50 [==============================] - 0s 6ms/step - loss: 0.3584 - accuracy: 0.8669 - val_loss: 0.5014 - val_accuracy: 0.7494\n",
            "Epoch 19/70\n",
            "50/50 [==============================] - 0s 7ms/step - loss: 0.3409 - accuracy: 0.8738 - val_loss: 0.4974 - val_accuracy: 0.7444\n",
            "Epoch 20/70\n",
            "50/50 [==============================] - 0s 6ms/step - loss: 0.3289 - accuracy: 0.8745 - val_loss: 0.4799 - val_accuracy: 0.7744\n",
            "Epoch 21/70\n",
            "50/50 [==============================] - 0s 6ms/step - loss: 0.3160 - accuracy: 0.8870 - val_loss: 0.4938 - val_accuracy: 0.7444\n",
            "Epoch 22/70\n",
            "50/50 [==============================] - 0s 7ms/step - loss: 0.3050 - accuracy: 0.8889 - val_loss: 0.4986 - val_accuracy: 0.7343\n",
            "Epoch 23/70\n",
            "50/50 [==============================] - 0s 6ms/step - loss: 0.2927 - accuracy: 0.8914 - val_loss: 0.4838 - val_accuracy: 0.7594\n",
            "Epoch 24/70\n",
            "50/50 [==============================] - 0s 6ms/step - loss: 0.2842 - accuracy: 0.8945 - val_loss: 0.5078 - val_accuracy: 0.7318\n",
            "Epoch 25/70\n",
            "50/50 [==============================] - 0s 6ms/step - loss: 0.2779 - accuracy: 0.8889 - val_loss: 0.4858 - val_accuracy: 0.7594\n",
            "Epoch 26/70\n",
            "50/50 [==============================] - 0s 6ms/step - loss: 0.2694 - accuracy: 0.8983 - val_loss: 0.5014 - val_accuracy: 0.7419\n",
            "Epoch 27/70\n",
            "50/50 [==============================] - 0s 6ms/step - loss: 0.2620 - accuracy: 0.9027 - val_loss: 0.5021 - val_accuracy: 0.7419\n",
            "Epoch 28/70\n",
            "50/50 [==============================] - 0s 7ms/step - loss: 0.2571 - accuracy: 0.9027 - val_loss: 0.5080 - val_accuracy: 0.7343\n",
            "Epoch 29/70\n",
            "50/50 [==============================] - 0s 7ms/step - loss: 0.2508 - accuracy: 0.9040 - val_loss: 0.4864 - val_accuracy: 0.7694\n",
            "Epoch 30/70\n",
            "50/50 [==============================] - 0s 7ms/step - loss: 0.2434 - accuracy: 0.9008 - val_loss: 0.5001 - val_accuracy: 0.7519\n",
            "Epoch 31/70\n",
            "50/50 [==============================] - 0s 6ms/step - loss: 0.2384 - accuracy: 0.9096 - val_loss: 0.5019 - val_accuracy: 0.7519\n",
            "Epoch 32/70\n",
            "50/50 [==============================] - 0s 6ms/step - loss: 0.2340 - accuracy: 0.9096 - val_loss: 0.5013 - val_accuracy: 0.7594\n",
            "Epoch 33/70\n",
            "50/50 [==============================] - 0s 7ms/step - loss: 0.2314 - accuracy: 0.9115 - val_loss: 0.5419 - val_accuracy: 0.7293\n",
            "Epoch 34/70\n",
            "50/50 [==============================] - 0s 7ms/step - loss: 0.2259 - accuracy: 0.9127 - val_loss: 0.5173 - val_accuracy: 0.7494\n",
            "Epoch 35/70\n",
            "50/50 [==============================] - 0s 7ms/step - loss: 0.2247 - accuracy: 0.9121 - val_loss: 0.5285 - val_accuracy: 0.7444\n",
            "Epoch 36/70\n",
            "50/50 [==============================] - 0s 7ms/step - loss: 0.2169 - accuracy: 0.9153 - val_loss: 0.5309 - val_accuracy: 0.7444\n",
            "Epoch 37/70\n",
            "50/50 [==============================] - 0s 7ms/step - loss: 0.2139 - accuracy: 0.9146 - val_loss: 0.5432 - val_accuracy: 0.7419\n",
            "Epoch 38/70\n",
            "50/50 [==============================] - 0s 6ms/step - loss: 0.2102 - accuracy: 0.9196 - val_loss: 0.5470 - val_accuracy: 0.7419\n",
            "Epoch 39/70\n",
            "50/50 [==============================] - 0s 6ms/step - loss: 0.2066 - accuracy: 0.9215 - val_loss: 0.5405 - val_accuracy: 0.7444\n",
            "Epoch 40/70\n",
            "50/50 [==============================] - 0s 7ms/step - loss: 0.2035 - accuracy: 0.9247 - val_loss: 0.5875 - val_accuracy: 0.7218\n",
            "Epoch 41/70\n",
            "50/50 [==============================] - 0s 6ms/step - loss: 0.2024 - accuracy: 0.9196 - val_loss: 0.5702 - val_accuracy: 0.7393\n",
            "Epoch 42/70\n",
            "50/50 [==============================] - 0s 6ms/step - loss: 0.1986 - accuracy: 0.9159 - val_loss: 0.5851 - val_accuracy: 0.7393\n",
            "Epoch 43/70\n",
            "50/50 [==============================] - 0s 7ms/step - loss: 0.1960 - accuracy: 0.9222 - val_loss: 0.5542 - val_accuracy: 0.7494\n",
            "Epoch 44/70\n",
            "50/50 [==============================] - 0s 7ms/step - loss: 0.1939 - accuracy: 0.9247 - val_loss: 0.5758 - val_accuracy: 0.7368\n",
            "Epoch 45/70\n",
            "50/50 [==============================] - 0s 7ms/step - loss: 0.1930 - accuracy: 0.9234 - val_loss: 0.5894 - val_accuracy: 0.7368\n",
            "Epoch 46/70\n",
            "50/50 [==============================] - 0s 7ms/step - loss: 0.1892 - accuracy: 0.9278 - val_loss: 0.5855 - val_accuracy: 0.7318\n",
            "Epoch 47/70\n",
            "50/50 [==============================] - 0s 6ms/step - loss: 0.1874 - accuracy: 0.9234 - val_loss: 0.5734 - val_accuracy: 0.7494\n",
            "Epoch 48/70\n",
            "50/50 [==============================] - 0s 6ms/step - loss: 0.1835 - accuracy: 0.9272 - val_loss: 0.6039 - val_accuracy: 0.7193\n",
            "Epoch 49/70\n",
            "50/50 [==============================] - 0s 7ms/step - loss: 0.1837 - accuracy: 0.9266 - val_loss: 0.5809 - val_accuracy: 0.7544\n",
            "Epoch 50/70\n",
            "50/50 [==============================] - 0s 7ms/step - loss: 0.1802 - accuracy: 0.9278 - val_loss: 0.6145 - val_accuracy: 0.7168\n",
            "Epoch 51/70\n",
            "50/50 [==============================] - 0s 6ms/step - loss: 0.1765 - accuracy: 0.9272 - val_loss: 0.6472 - val_accuracy: 0.7168\n",
            "Epoch 52/70\n",
            "50/50 [==============================] - 0s 7ms/step - loss: 0.1760 - accuracy: 0.9347 - val_loss: 0.6094 - val_accuracy: 0.7393\n",
            "Epoch 53/70\n",
            "50/50 [==============================] - 0s 7ms/step - loss: 0.1761 - accuracy: 0.9297 - val_loss: 0.6229 - val_accuracy: 0.7318\n",
            "Epoch 54/70\n",
            "50/50 [==============================] - 0s 7ms/step - loss: 0.1771 - accuracy: 0.9272 - val_loss: 0.6685 - val_accuracy: 0.7193\n",
            "Epoch 55/70\n",
            "50/50 [==============================] - 0s 7ms/step - loss: 0.1706 - accuracy: 0.9322 - val_loss: 0.6717 - val_accuracy: 0.7093\n",
            "Epoch 56/70\n",
            "50/50 [==============================] - 0s 6ms/step - loss: 0.1693 - accuracy: 0.9391 - val_loss: 0.6699 - val_accuracy: 0.7218\n",
            "Epoch 57/70\n",
            "50/50 [==============================] - 0s 7ms/step - loss: 0.1680 - accuracy: 0.9322 - val_loss: 0.6058 - val_accuracy: 0.7519\n",
            "Epoch 58/70\n",
            "50/50 [==============================] - 0s 7ms/step - loss: 0.1658 - accuracy: 0.9328 - val_loss: 0.6562 - val_accuracy: 0.7268\n",
            "Epoch 59/70\n",
            "50/50 [==============================] - 0s 6ms/step - loss: 0.1636 - accuracy: 0.9379 - val_loss: 0.6537 - val_accuracy: 0.7343\n",
            "Epoch 60/70\n",
            "50/50 [==============================] - 0s 6ms/step - loss: 0.1622 - accuracy: 0.9391 - val_loss: 0.6462 - val_accuracy: 0.7343\n",
            "Epoch 61/70\n",
            "50/50 [==============================] - 0s 7ms/step - loss: 0.1617 - accuracy: 0.9347 - val_loss: 0.6842 - val_accuracy: 0.7193\n",
            "Epoch 62/70\n",
            "50/50 [==============================] - 0s 7ms/step - loss: 0.1582 - accuracy: 0.9379 - val_loss: 0.6520 - val_accuracy: 0.7343\n",
            "Epoch 63/70\n",
            "50/50 [==============================] - 0s 7ms/step - loss: 0.1591 - accuracy: 0.9360 - val_loss: 0.6997 - val_accuracy: 0.7243\n",
            "Epoch 64/70\n",
            "50/50 [==============================] - 0s 7ms/step - loss: 0.1571 - accuracy: 0.9397 - val_loss: 0.6569 - val_accuracy: 0.7343\n",
            "Epoch 65/70\n",
            "50/50 [==============================] - 0s 7ms/step - loss: 0.1555 - accuracy: 0.9397 - val_loss: 0.6868 - val_accuracy: 0.7293\n",
            "Epoch 66/70\n",
            "50/50 [==============================] - 0s 6ms/step - loss: 0.1533 - accuracy: 0.9466 - val_loss: 0.6486 - val_accuracy: 0.7444\n",
            "Epoch 67/70\n",
            "50/50 [==============================] - 0s 7ms/step - loss: 0.1538 - accuracy: 0.9404 - val_loss: 0.6994 - val_accuracy: 0.7318\n",
            "Epoch 68/70\n",
            "50/50 [==============================] - 0s 7ms/step - loss: 0.1507 - accuracy: 0.9454 - val_loss: 0.7183 - val_accuracy: 0.7268\n",
            "Epoch 69/70\n",
            "50/50 [==============================] - 0s 7ms/step - loss: 0.1506 - accuracy: 0.9422 - val_loss: 0.7209 - val_accuracy: 0.7243\n",
            "Epoch 70/70\n",
            "50/50 [==============================] - 0s 7ms/step - loss: 0.1482 - accuracy: 0.9498 - val_loss: 0.6915 - val_accuracy: 0.7293\n"
          ],
          "name": "stdout"
        }
      ]
    },
    {
      "cell_type": "markdown",
      "metadata": {
        "id": "zgdCyVxi7Brk"
      },
      "source": [
        "### Visualize the training graph   \n",
        "You can use the code below to visualize the training and validation accuracy while you try out different tweaks to the hyperparameters and model."
      ]
    },
    {
      "cell_type": "code",
      "metadata": {
        "colab": {
          "base_uri": "https://localhost:8080/",
          "height": 541
        },
        "id": "9y3HUv9O67Zu",
        "outputId": "bb3b7b6b-5a21-47da-e6f7-22fa60854b65"
      },
      "source": [
        "import matplotlib.pyplot as plt\n",
        "\n",
        "\n",
        "def plot_graphs(history, string):\n",
        "  plt.plot(history.history[string])\n",
        "  plt.plot(history.history['val_'+string])\n",
        "  plt.xlabel(\"Epochs\")\n",
        "  plt.ylabel(string)\n",
        "  plt.legend([string, 'val_'+string])\n",
        "  plt.show()\n",
        "  \n",
        "plot_graphs(history_2, \"accuracy\")\n",
        "plot_graphs(history_2, \"loss\")"
      ],
      "execution_count": null,
      "outputs": [
        {
          "output_type": "display_data",
          "data": {
            "image/png": "[encoded data removed]",
            "text/plain": [
              "<Figure size 432x288 with 1 Axes>"
            ]
          },
          "metadata": {
            "needs_background": "light"
          }
        },
        {
          "output_type": "display_data",
          "data": {
            "image/png": "[encoded data removed]",
            "text/plain": [
              "<Figure size 432x288 with 1 Axes>"
            ]
          },
          "metadata": {
            "needs_background": "light"
          }
        }
      ]
    },
    {
      "cell_type": "markdown",
      "metadata": {
        "id": "xxhzl9W67ZIf"
      },
      "source": [
        "## Get files for visualizing the network  \n",
        "The code below will download two files for visualizing how your network \"sees\" the sentiment related to each word. Head to http://projector.tensorflow.org/ and load these files, then click the checkbox to \"sphereize\" the data.\n",
        "   \n",
        "Note: You may run into errors with the projection if your vocab_size earlier was larger than the actual number of words in the vocabulary, in which case you'll need to decrease this variable and re-train in order to visualize."
      ]
    },
    {
      "cell_type": "code",
      "metadata": {
        "colab": {
          "base_uri": "https://localhost:8080/"
        },
        "id": "i8gxl-dK7E7k",
        "outputId": "64df1e29-92fc-4c49-c497-7b2be9d9f1c2"
      },
      "source": [
        "# First get the weights of the embedding layer\n",
        "e = model.layers[0]\n",
        "weights = e.get_weights()[0]\n",
        "print(weights.shape) # shape: (vocab_size, embedding_dim)"
      ],
      "execution_count": null,
      "outputs": [
        {
          "output_type": "stream",
          "text": [
            "(500, 16)\n"
          ],
          "name": "stdout"
        }
      ]
    },
    {
      "cell_type": "code",
      "metadata": {
        "id": "IWlilOW_7dRt"
      },
      "source": [
        "import io\n",
        "\n",
        "# Create the reverse word index\n",
        "reverse_word_index = dict([(value, key) for (key, value) in word_index.items()])\n",
        "\n",
        "# Write out the embedding vectors and metadata\n",
        "out_v = io.open('vecs2.tsv', 'w', encoding='utf-8')\n",
        "out_m = io.open('meta2.tsv', 'w', encoding='utf-8')\n",
        "for word_num in range(1, vocab_size):\n",
        "  word = reverse_word_index[word_num]\n",
        "  embeddings = weights[word_num]\n",
        "  out_m.write(word + \"\\n\")\n",
        "  out_v.write('\\t'.join([str(x) for x in embeddings]) + \"\\n\")\n",
        "out_v.close()\n",
        "out_m.close()"
      ],
      "execution_count": null,
      "outputs": []
    },
    {
      "cell_type": "code",
      "metadata": {
        "colab": {
          "base_uri": "https://localhost:8080/",
          "height": 17
        },
        "id": "cdcMuMss7hEc",
        "outputId": "c3d5e202-b052-48a9-bacf-7d5bae04040b"
      },
      "source": [
        "# Download the files\n",
        "try:\n",
        "  from google.colab import files\n",
        "except ImportError:\n",
        "  pass\n",
        "else:\n",
        "  files.download('vecs2.tsv')\n",
        "  files.download('meta2.tsv')"
      ],
      "execution_count": null,
      "outputs": [
        {
          "output_type": "display_data",
          "data": {
            "application/javascript": [
              "\n",
              "    async function download(id, filename, size) {\n",
              "      if (!google.colab.kernel.accessAllowed) {\n",
              "        return;\n",
              "      }\n",
              "      const div = document.createElement('div');\n",
              "      const label = document.createElement('label');\n",
              "      label.textContent = `Downloading \"${filename}\": `;\n",
              "      div.appendChild(label);\n",
              "      const progress = document.createElement('progress');\n",
              "      progress.max = size;\n",
              "      div.appendChild(progress);\n",
              "      document.body.appendChild(div);\n",
              "\n",
              "      const buffers = [];\n",
              "      let downloaded = 0;\n",
              "\n",
              "      const channel = await google.colab.kernel.comms.open(id);\n",
              "      // Send a message to notify the kernel that we're ready.\n",
              "      channel.send({})\n",
              "\n",
              "      for await (const message of channel.messages) {\n",
              "        // Send a message to notify the kernel that we're ready.\n",
              "        channel.send({})\n",
              "        if (message.buffers) {\n",
              "          for (const buffer of message.buffers) {\n",
              "            buffers.push(buffer);\n",
              "            downloaded += buffer.byteLength;\n",
              "            progress.value = downloaded;\n",
              "          }\n",
              "        }\n",
              "      }\n",
              "      const blob = new Blob(buffers, {type: 'application/binary'});\n",
              "      const a = document.createElement('a');\n",
              "      a.href = window.URL.createObjectURL(blob);\n",
              "      a.download = filename;\n",
              "      div.appendChild(a);\n",
              "      a.click();\n",
              "      div.remove();\n",
              "    }\n",
              "  "
            ],
            "text/plain": [
              "<IPython.core.display.Javascript object>"
            ]
          },
          "metadata": {}
        },
        {
          "output_type": "display_data",
          "data": {
            "application/javascript": [
              "download(\"download_d7409c86-b7ce-422c-8400-91cea053e62c\", \"vecs2.tsv\", 90348)"
            ],
            "text/plain": [
              "<IPython.core.display.Javascript object>"
            ]
          },
          "metadata": {}
        },
        {
          "output_type": "display_data",
          "data": {
            "application/javascript": [
              "\n",
              "    async function download(id, filename, size) {\n",
              "      if (!google.colab.kernel.accessAllowed) {\n",
              "        return;\n",
              "      }\n",
              "      const div = document.createElement('div');\n",
              "      const label = document.createElement('label');\n",
              "      label.textContent = `Downloading \"${filename}\": `;\n",
              "      div.appendChild(label);\n",
              "      const progress = document.createElement('progress');\n",
              "      progress.max = size;\n",
              "      div.appendChild(progress);\n",
              "      document.body.appendChild(div);\n",
              "\n",
              "      const buffers = [];\n",
              "      let downloaded = 0;\n",
              "\n",
              "      const channel = await google.colab.kernel.comms.open(id);\n",
              "      // Send a message to notify the kernel that we're ready.\n",
              "      channel.send({})\n",
              "\n",
              "      for await (const message of channel.messages) {\n",
              "        // Send a message to notify the kernel that we're ready.\n",
              "        channel.send({})\n",
              "        if (message.buffers) {\n",
              "          for (const buffer of message.buffers) {\n",
              "            buffers.push(buffer);\n",
              "            downloaded += buffer.byteLength;\n",
              "            progress.value = downloaded;\n",
              "          }\n",
              "        }\n",
              "      }\n",
              "      const blob = new Blob(buffers, {type: 'application/binary'});\n",
              "      const a = document.createElement('a');\n",
              "      a.href = window.URL.createObjectURL(blob);\n",
              "      a.download = filename;\n",
              "      div.appendChild(a);\n",
              "      a.click();\n",
              "      div.remove();\n",
              "    }\n",
              "  "
            ],
            "text/plain": [
              "<IPython.core.display.Javascript object>"
            ]
          },
          "metadata": {}
        },
        {
          "output_type": "display_data",
          "data": {
            "application/javascript": [
              "download(\"download_ff458e78-f8f8-4f79-9bde-cf976140a288\", \"meta2.tsv\", 3025)"
            ],
            "text/plain": [
              "<IPython.core.display.Javascript object>"
            ]
          },
          "metadata": {}
        }
      ]
    },
    {
      "cell_type": "markdown",
      "metadata": {
        "id": "KHUaqTm27pRg"
      },
      "source": [
        "### Predicting Sentiment in New Reviews   \n",
        "Below, we've again included some example new reviews you can test your results on."
      ]
    },
    {
      "cell_type": "code",
      "metadata": {
        "colab": {
          "base_uri": "https://localhost:8080/"
        },
        "id": "BlVtoWGs7i-F",
        "outputId": "b9499fcb-cd11-494b-daaf-7e807d1933b5"
      },
      "source": [
        "# Use the model to predict a review   \n",
        "fake_reviews = ['I love this phone', 'I hate spaghetti', \n",
        "                'Everything was cold',\n",
        "                'Everything was hot exactly as I wanted', \n",
        "                'Everything was green', \n",
        "                'the host seated us immediately',\n",
        "                'there is nothing to complain about',\n",
        "                'they gave us free chocolate cake', \n",
        "                'they did not charge us for the cake.', \n",
        "                'not sure about the wilted flowers on the table',\n",
        "                'only works when I stand on tippy toes', \n",
        "                'does not work when I stand on my head']\n",
        "\n",
        "print(fake_reviews) \n",
        "\n",
        "# Create the sequences\n",
        "padding_type='post'\n",
        "sample_sequences = tokenizer.texts_to_sequences(fake_reviews)\n",
        "fakes_padded = pad_sequences(sample_sequences, padding=padding_type, maxlen=max_length)           \n",
        "\n",
        "print('\\nHOT OFF THE PRESS! HERE ARE SOME NEWLY MINTED, ABSOLUTELY GENUINE REVIEWS!\\n')              \n",
        "\n",
        "classes = model.predict(fakes_padded)\n",
        "\n",
        "# The closer the class is to 1, the more positive the review is deemed to be\n",
        "for x in range(len(fake_reviews)):\n",
        "  print(fake_reviews[x])\n",
        "  print(classes[x])\n",
        "  print('\\n')\n",
        "\n",
        "# Try adding reviews of your own\n",
        "# Add some negative words (such as \"not\") to the good reviews and see what happens\n",
        "# For example:\n",
        "# they gave us free chocolate cake and did not charge us"
      ],
      "execution_count": null,
      "outputs": [
        {
          "output_type": "stream",
          "text": [
            "['I love this phone', 'I hate spaghetti', 'Everything was cold', 'Everything was hot exactly as I wanted', 'Everything was green', 'the host seated us immediately', 'there is nothing to complain about', 'they gave us free chocolate cake', 'they did not charge us for the cake.', 'not sure about the wilted flowers on the table', 'only works when I stand on tippy toes', 'does not work when I stand on my head']\n",
            "\n",
            "HOT OFF THE PRESS! HERE ARE SOME NEWLY MINTED, ABSOLUTELY GENUINE REVIEWS!\n",
            "\n",
            "I love this phone\n",
            "[0.99385506]\n",
            "\n",
            "\n",
            "I hate spaghetti\n",
            "[0.0128457]\n",
            "\n",
            "\n",
            "Everything was cold\n",
            "[0.6479407]\n",
            "\n",
            "\n",
            "Everything was hot exactly as I wanted\n",
            "[0.3368024]\n",
            "\n",
            "\n",
            "Everything was green\n",
            "[0.6479407]\n",
            "\n",
            "\n",
            "the host seated us immediately\n",
            "[0.8507685]\n",
            "\n",
            "\n",
            "there is nothing to complain about\n",
            "[0.02290468]\n",
            "\n",
            "\n",
            "they gave us free chocolate cake\n",
            "[0.99523586]\n",
            "\n",
            "\n",
            "they did not charge us for the cake.\n",
            "[0.2833717]\n",
            "\n",
            "\n",
            "not sure about the wilted flowers on the table\n",
            "[0.00943192]\n",
            "\n",
            "\n",
            "only works when I stand on tippy toes\n",
            "[0.9924954]\n",
            "\n",
            "\n",
            "does not work when I stand on my head\n",
            "[0.00706826]\n",
            "\n",
            "\n"
          ],
          "name": "stdout"
        }
      ]
    },
    {
      "cell_type": "markdown",
      "metadata": {
        "id": "lAhvVf0MKvXN"
      },
      "source": [
        "### Not very impressive results after tweaking the vocab size, sequence length and the model structure. \n",
        "\n",
        "Lets now try to use the subwords instead of the full words and see if that makes any differece.\n",
        "\n",
        "We will continue to use the same dataset but this time we will break the text into sub words."
      ]
    },
    {
      "cell_type": "code",
      "metadata": {
        "colab": {
          "base_uri": "https://localhost:8080/"
        },
        "id": "eELCDeXo7uOs",
        "outputId": "1a48938c-d1ff-494e-a7c6-36bbc832dbdc"
      },
      "source": [
        "#path = tf.keras.utils.get_file('sentiments.csv', 'https://drive.google.com/uc?id=13ySLC_ue6Umt9RJYSeM2t-V0kCv-4C-P')\n",
        "\n",
        "#dataset = pd.read_csv(path)\n",
        "sentences = dataset['text'].tolist()\n",
        "labels = dataset['sentiment'].tolist()\n",
        "\n",
        "print(len(sentences), len(labels))\n",
        "\n"
      ],
      "execution_count": null,
      "outputs": [
        {
          "output_type": "stream",
          "text": [
            "1992 1992\n"
          ],
          "name": "stdout"
        }
      ]
    },
    {
      "cell_type": "markdown",
      "metadata": {
        "id": "JQJI6R20LyK-"
      },
      "source": [
        "### We already have the sentences and lables from the dataset we worked upon.\n",
        "Lets create the subwords dataset, to work with now."
      ]
    },
    {
      "cell_type": "code",
      "metadata": {
        "id": "oaw7p3zELuPG"
      },
      "source": [
        "import tensorflow_datasets as tfds\n",
        "\n",
        "vocab_size = 1000\n",
        "tokenizer = tfds.deprecated.text.SubwordTextEncoder.build_from_corpus(sentences, vocab_size,max_subword_length =5)"
      ],
      "execution_count": null,
      "outputs": []
    },
    {
      "cell_type": "code",
      "metadata": {
        "colab": {
          "base_uri": "https://localhost:8080/"
        },
        "id": "0DqkAkJMMh8k",
        "outputId": "e6327afe-6bf4-47d1-937f-581649905b10"
      },
      "source": [
        "# Lets check if our tokenizer worked appropriately.\n",
        "\n",
        "num =5\n",
        "print(sentences[num])\n",
        "encoded  = tokenizer.encode(sentences[num])\n",
        "print(encoded)\n",
        "\n",
        "for i in encoded:\n",
        "  print(tokenizer.decode([i]))"
      ],
      "execution_count": null,
      "outputs": [
        {
          "output_type": "stream",
          "text": [
            "I have to jiggle the plug to get it to line up right to get decent volume.\n",
            "[4, 31, 6, 849, 162, 450, 12, 1, 600, 438, 775, 6, 175, 14, 6, 55, 213, 159, 474, 775, 6, 175, 614, 380, 295, 148, 72, 789]\n",
            "I \n",
            "have \n",
            "to \n",
            "j\n",
            "ig\n",
            "gl\n",
            "e \n",
            "the \n",
            "pl\n",
            "ug\n",
            " \n",
            "to \n",
            "get \n",
            "it \n",
            "to \n",
            "li\n",
            "ne \n",
            "up \n",
            "right\n",
            " \n",
            "to \n",
            "get \n",
            "dec\n",
            "ent \n",
            "vo\n",
            "lu\n",
            "me\n",
            ".\n"
          ],
          "name": "stdout"
        }
      ]
    },
    {
      "cell_type": "markdown",
      "metadata": {
        "id": "ZoiSHzO-NRkL"
      },
      "source": [
        "## Replace sentence data with encoded subwords   \n",
        "### Now, we'll re-create the dataset to be used for training by actually encoding each of the individual sentences. This is equivalent to text_to_sequences with the Tokenizer we used in earlier exercises."
      ]
    },
    {
      "cell_type": "code",
      "metadata": {
        "colab": {
          "base_uri": "https://localhost:8080/"
        },
        "id": "JTSdzf3gMpKt",
        "outputId": "90f37bad-fb03-40b3-cbd6-20c6550ca844"
      },
      "source": [
        "print(sentences[1])\n",
        "\n",
        "enc_sentences = []\n",
        "for i, sentence in enumerate(sentences):\n",
        "  enc_sentences.append(tokenizer.encode(sentence))\n",
        "\n",
        "print(enc_sentences[1])"
      ],
      "execution_count": null,
      "outputs": [
        {
          "output_type": "stream",
          "text": [
            "Good case Excellent value.\n",
            "[625, 677, 626, 274, 380, 633, 148, 844, 789]\n"
          ],
          "name": "stdout"
        }
      ]
    },
    {
      "cell_type": "markdown",
      "metadata": {
        "id": "K0oCy7F3PW4l"
      },
      "source": [
        "## Final pre-processing   \n",
        "\n",
        "Before training, we still need to pad the sequences, as well as split into training and test sets."
      ]
    },
    {
      "cell_type": "code",
      "metadata": {
        "colab": {
          "base_uri": "https://localhost:8080/"
        },
        "id": "I7u1LzwqOvtF",
        "outputId": "6f3b9a9f-f3ff-464b-fea0-5bee3e381faf"
      },
      "source": [
        "import numpy as np\n",
        "\n",
        "max_length = 50\n",
        "trunc_type = 'post'\n",
        "padding_type = 'post'\n",
        "\n",
        "senetences_padded = pad_sequences(enc_sentences, padding=padding_type,truncating=trunc_type, maxlen=max_length)\n",
        "\n",
        "training_size = int(len(sentences) * 0.8)\n",
        "training_sentences = np.array(senetences_padded[0:training_size])\n",
        "testing_sentences = np.array(senetences_padded[training_size:])\n",
        "\n",
        "training_labels = np.array(labels[0:training_size])\n",
        "testing_labels = np.array(labels[training_size:])\n",
        "\n",
        "\n",
        "print(len(training_sentences),len(testing_sentences),len(training_labels),len(testing_labels))"
      ],
      "execution_count": null,
      "outputs": [
        {
          "output_type": "stream",
          "text": [
            "1593 399 1593 399\n"
          ],
          "name": "stdout"
        }
      ]
    },
    {
      "cell_type": "markdown",
      "metadata": {
        "id": "heYoBi6oUA9L"
      },
      "source": [
        "### Lets train a sentiment Model using the subwords encoding"
      ]
    },
    {
      "cell_type": "code",
      "metadata": {
        "colab": {
          "base_uri": "https://localhost:8080/"
        },
        "id": "VajE-GCjPeXj",
        "outputId": "732eb6f8-5136-4ad1-d5e2-dbef908bfe23"
      },
      "source": [
        "embedding_dim = 16\n",
        "model = tf.keras.Sequential([\n",
        "    tf.keras.layers.Embedding(vocab_size, embedding_dim, input_length=max_length),\n",
        "    tf.keras.layers.GlobalAveragePooling1D(),\n",
        "    tf.keras.layers.Dense(6, activation='relu'),\n",
        "    tf.keras.layers.Dense(1, activation='sigmoid')\n",
        "])\n",
        "\n",
        "model.summary()"
      ],
      "execution_count": null,
      "outputs": [
        {
          "output_type": "stream",
          "text": [
            "Model: \"sequential_2\"\n",
            "_________________________________________________________________\n",
            "Layer (type)                 Output Shape              Param #   \n",
            "=================================================================\n",
            "embedding_2 (Embedding)      (None, 50, 16)            16000     \n",
            "_________________________________________________________________\n",
            "global_average_pooling1d_1 ( (None, 16)                0         \n",
            "_________________________________________________________________\n",
            "dense_4 (Dense)              (None, 6)                 102       \n",
            "_________________________________________________________________\n",
            "dense_5 (Dense)              (None, 1)                 7         \n",
            "=================================================================\n",
            "Total params: 16,109\n",
            "Trainable params: 16,109\n",
            "Non-trainable params: 0\n",
            "_________________________________________________________________\n"
          ],
          "name": "stdout"
        }
      ]
    },
    {
      "cell_type": "code",
      "metadata": {
        "colab": {
          "base_uri": "https://localhost:8080/"
        },
        "id": "FjwCkcIFUHO2",
        "outputId": "e1c75f6b-9986-4a83-b895-e58d73d15b02"
      },
      "source": [
        "num_epochs = 50\n",
        "model.compile(loss='binary_crossentropy',optimizer='adam',metrics=['accuracy'])\n",
        "history = model.fit(training_sentences, training_labels, epochs=num_epochs, \n",
        "                    validation_data=(testing_sentences, testing_labels))"
      ],
      "execution_count": null,
      "outputs": [
        {
          "output_type": "stream",
          "text": [
            "Epoch 1/50\n",
            "50/50 [==============================] - 1s 10ms/step - loss: 0.6897 - accuracy: 0.5229 - val_loss: 0.6983 - val_accuracy: 0.4160\n",
            "Epoch 2/50\n",
            "50/50 [==============================] - 0s 7ms/step - loss: 0.6849 - accuracy: 0.5549 - val_loss: 0.6919 - val_accuracy: 0.4912\n",
            "Epoch 3/50\n",
            "50/50 [==============================] - 0s 7ms/step - loss: 0.6755 - accuracy: 0.6139 - val_loss: 0.6839 - val_accuracy: 0.5288\n",
            "Epoch 4/50\n",
            "50/50 [==============================] - 0s 7ms/step - loss: 0.6605 - accuracy: 0.6742 - val_loss: 0.6647 - val_accuracy: 0.6792\n",
            "Epoch 5/50\n",
            "50/50 [==============================] - 0s 7ms/step - loss: 0.6396 - accuracy: 0.7451 - val_loss: 0.6526 - val_accuracy: 0.6591\n",
            "Epoch 6/50\n",
            "50/50 [==============================] - 0s 7ms/step - loss: 0.6115 - accuracy: 0.7847 - val_loss: 0.6218 - val_accuracy: 0.7694\n",
            "Epoch 7/50\n",
            "50/50 [==============================] - 0s 7ms/step - loss: 0.5800 - accuracy: 0.8054 - val_loss: 0.6037 - val_accuracy: 0.7669\n",
            "Epoch 8/50\n",
            "50/50 [==============================] - 0s 7ms/step - loss: 0.5446 - accuracy: 0.8242 - val_loss: 0.5999 - val_accuracy: 0.6967\n",
            "Epoch 9/50\n",
            "50/50 [==============================] - 0s 7ms/step - loss: 0.5048 - accuracy: 0.8355 - val_loss: 0.5630 - val_accuracy: 0.7669\n",
            "Epoch 10/50\n",
            "50/50 [==============================] - 0s 7ms/step - loss: 0.4683 - accuracy: 0.8594 - val_loss: 0.5505 - val_accuracy: 0.7494\n",
            "Epoch 11/50\n",
            "50/50 [==============================] - 0s 6ms/step - loss: 0.4356 - accuracy: 0.8675 - val_loss: 0.5242 - val_accuracy: 0.7820\n",
            "Epoch 12/50\n",
            "50/50 [==============================] - 0s 7ms/step - loss: 0.4057 - accuracy: 0.8707 - val_loss: 0.5197 - val_accuracy: 0.7644\n",
            "Epoch 13/50\n",
            "50/50 [==============================] - 0s 7ms/step - loss: 0.3791 - accuracy: 0.8757 - val_loss: 0.5028 - val_accuracy: 0.7694\n",
            "Epoch 14/50\n",
            "50/50 [==============================] - 0s 7ms/step - loss: 0.3551 - accuracy: 0.8858 - val_loss: 0.5125 - val_accuracy: 0.7619\n",
            "Epoch 15/50\n",
            "50/50 [==============================] - 0s 7ms/step - loss: 0.3338 - accuracy: 0.8901 - val_loss: 0.4983 - val_accuracy: 0.7619\n",
            "Epoch 16/50\n",
            "50/50 [==============================] - 0s 7ms/step - loss: 0.3161 - accuracy: 0.8945 - val_loss: 0.5150 - val_accuracy: 0.7469\n",
            "Epoch 17/50\n",
            "50/50 [==============================] - 0s 7ms/step - loss: 0.2982 - accuracy: 0.8983 - val_loss: 0.4963 - val_accuracy: 0.7569\n",
            "Epoch 18/50\n",
            "50/50 [==============================] - 0s 7ms/step - loss: 0.2845 - accuracy: 0.9033 - val_loss: 0.4970 - val_accuracy: 0.7644\n",
            "Epoch 19/50\n",
            "50/50 [==============================] - 0s 7ms/step - loss: 0.2682 - accuracy: 0.9090 - val_loss: 0.5039 - val_accuracy: 0.7519\n",
            "Epoch 20/50\n",
            "50/50 [==============================] - 0s 7ms/step - loss: 0.2578 - accuracy: 0.9121 - val_loss: 0.5340 - val_accuracy: 0.7494\n",
            "Epoch 21/50\n",
            "50/50 [==============================] - 0s 8ms/step - loss: 0.2457 - accuracy: 0.9178 - val_loss: 0.5079 - val_accuracy: 0.7519\n",
            "Epoch 22/50\n",
            "50/50 [==============================] - 0s 8ms/step - loss: 0.2349 - accuracy: 0.9209 - val_loss: 0.5162 - val_accuracy: 0.7444\n",
            "Epoch 23/50\n",
            "50/50 [==============================] - 0s 7ms/step - loss: 0.2245 - accuracy: 0.9259 - val_loss: 0.5513 - val_accuracy: 0.7469\n",
            "Epoch 24/50\n",
            "50/50 [==============================] - 0s 7ms/step - loss: 0.2161 - accuracy: 0.9247 - val_loss: 0.5419 - val_accuracy: 0.7393\n",
            "Epoch 25/50\n",
            "50/50 [==============================] - 0s 7ms/step - loss: 0.2113 - accuracy: 0.9266 - val_loss: 0.5337 - val_accuracy: 0.7519\n",
            "Epoch 26/50\n",
            "50/50 [==============================] - 0s 8ms/step - loss: 0.1997 - accuracy: 0.9341 - val_loss: 0.5586 - val_accuracy: 0.7368\n",
            "Epoch 27/50\n",
            "50/50 [==============================] - 0s 7ms/step - loss: 0.1933 - accuracy: 0.9410 - val_loss: 0.5787 - val_accuracy: 0.7318\n",
            "Epoch 28/50\n",
            "50/50 [==============================] - 0s 7ms/step - loss: 0.1896 - accuracy: 0.9316 - val_loss: 0.5606 - val_accuracy: 0.7519\n",
            "Epoch 29/50\n",
            "50/50 [==============================] - 0s 7ms/step - loss: 0.1797 - accuracy: 0.9454 - val_loss: 0.5757 - val_accuracy: 0.7569\n",
            "Epoch 30/50\n",
            "50/50 [==============================] - 0s 7ms/step - loss: 0.1725 - accuracy: 0.9485 - val_loss: 0.5959 - val_accuracy: 0.7419\n",
            "Epoch 31/50\n",
            "50/50 [==============================] - 0s 6ms/step - loss: 0.1681 - accuracy: 0.9517 - val_loss: 0.5952 - val_accuracy: 0.7544\n",
            "Epoch 32/50\n",
            "50/50 [==============================] - 0s 7ms/step - loss: 0.1606 - accuracy: 0.9529 - val_loss: 0.6202 - val_accuracy: 0.7318\n",
            "Epoch 33/50\n",
            "50/50 [==============================] - 0s 7ms/step - loss: 0.1563 - accuracy: 0.9535 - val_loss: 0.6246 - val_accuracy: 0.7393\n",
            "Epoch 34/50\n",
            "50/50 [==============================] - 0s 7ms/step - loss: 0.1531 - accuracy: 0.9573 - val_loss: 0.6339 - val_accuracy: 0.7444\n",
            "Epoch 35/50\n",
            "50/50 [==============================] - 0s 7ms/step - loss: 0.1476 - accuracy: 0.9567 - val_loss: 0.6319 - val_accuracy: 0.7594\n",
            "Epoch 36/50\n",
            "50/50 [==============================] - 0s 7ms/step - loss: 0.1413 - accuracy: 0.9617 - val_loss: 0.6556 - val_accuracy: 0.7494\n",
            "Epoch 37/50\n",
            "50/50 [==============================] - 0s 7ms/step - loss: 0.1360 - accuracy: 0.9648 - val_loss: 0.6635 - val_accuracy: 0.7519\n",
            "Epoch 38/50\n",
            "50/50 [==============================] - 0s 7ms/step - loss: 0.1316 - accuracy: 0.9692 - val_loss: 0.6813 - val_accuracy: 0.7419\n",
            "Epoch 39/50\n",
            "50/50 [==============================] - 0s 7ms/step - loss: 0.1272 - accuracy: 0.9686 - val_loss: 0.6905 - val_accuracy: 0.7368\n",
            "Epoch 40/50\n",
            "50/50 [==============================] - 0s 7ms/step - loss: 0.1273 - accuracy: 0.9667 - val_loss: 0.6936 - val_accuracy: 0.7519\n",
            "Epoch 41/50\n",
            "50/50 [==============================] - 0s 7ms/step - loss: 0.1201 - accuracy: 0.9686 - val_loss: 0.7047 - val_accuracy: 0.7469\n",
            "Epoch 42/50\n",
            "50/50 [==============================] - 0s 6ms/step - loss: 0.1163 - accuracy: 0.9692 - val_loss: 0.7122 - val_accuracy: 0.7544\n",
            "Epoch 43/50\n",
            "50/50 [==============================] - 0s 7ms/step - loss: 0.1123 - accuracy: 0.9743 - val_loss: 0.7215 - val_accuracy: 0.7544\n",
            "Epoch 44/50\n",
            "50/50 [==============================] - 0s 7ms/step - loss: 0.1099 - accuracy: 0.9736 - val_loss: 0.7431 - val_accuracy: 0.7343\n",
            "Epoch 45/50\n",
            "50/50 [==============================] - 0s 7ms/step - loss: 0.1059 - accuracy: 0.9761 - val_loss: 0.7473 - val_accuracy: 0.7444\n",
            "Epoch 46/50\n",
            "50/50 [==============================] - 0s 7ms/step - loss: 0.1017 - accuracy: 0.9774 - val_loss: 0.7595 - val_accuracy: 0.7469\n",
            "Epoch 47/50\n",
            "50/50 [==============================] - 0s 7ms/step - loss: 0.0978 - accuracy: 0.9812 - val_loss: 0.7698 - val_accuracy: 0.7444\n",
            "Epoch 48/50\n",
            "50/50 [==============================] - 0s 7ms/step - loss: 0.0968 - accuracy: 0.9780 - val_loss: 0.7787 - val_accuracy: 0.7393\n",
            "Epoch 49/50\n",
            "50/50 [==============================] - 0s 7ms/step - loss: 0.0919 - accuracy: 0.9793 - val_loss: 0.7880 - val_accuracy: 0.7494\n",
            "Epoch 50/50\n",
            "50/50 [==============================] - 0s 7ms/step - loss: 0.0904 - accuracy: 0.9793 - val_loss: 0.8027 - val_accuracy: 0.7494\n"
          ],
          "name": "stdout"
        }
      ]
    },
    {
      "cell_type": "markdown",
      "metadata": {
        "id": "mwgiH67lUo-E"
      },
      "source": [
        "### Visualize the Training Graph   \n",
        "We can visualize the training graph below again. Does there appear to be a difference in how validation accuracy and loss is trending compared to with full words?"
      ]
    },
    {
      "cell_type": "code",
      "metadata": {
        "colab": {
          "base_uri": "https://localhost:8080/",
          "height": 542
        },
        "id": "qIB_qE3SUKMF",
        "outputId": "53c3f759-5b42-4eec-c28c-fb16989a49f1"
      },
      "source": [
        "import matplotlib.pyplot as plt\n",
        "\n",
        "\n",
        "def plot_graphs(history, string):\n",
        "  plt.plot(history.history[string])\n",
        "  plt.plot(history.history['val_'+string])\n",
        "  plt.xlabel(\"Epochs\")\n",
        "  plt.ylabel(string)\n",
        "  plt.legend([string, 'val_'+string])\n",
        "  plt.show()\n",
        "  \n",
        "plot_graphs(history, \"accuracy\")\n",
        "plot_graphs(history, \"loss\")"
      ],
      "execution_count": null,
      "outputs": [
        {
          "output_type": "display_data",
          "data": {
            "image/png": "[encoded data removed]",
            "text/plain": [
              "<Figure size 432x288 with 1 Axes>"
            ]
          },
          "metadata": {
            "needs_background": "light"
          }
        },
        {
          "output_type": "display_data",
          "data": {
            "image/png": "[encoded data removed]",
            "text/plain": [
              "<Figure size 432x288 with 1 Axes>"
            ]
          },
          "metadata": {
            "needs_background": "light"
          }
        }
      ]
    },
    {
      "cell_type": "markdown",
      "metadata": {
        "id": "rcydf7JuU3DW"
      },
      "source": [
        "### Get files for visualizing the network   \n",
        "Once again, you can visualize the sentiment related to all of the subwords using the below code and by heading to http://projector.tensorflow.org/ to upload and view the data.\n",
        "\n",
        "Note that the below code does have a few small changes to handle the different way text is encoded in our dataset compared to before with the built in Tokenizer.\n",
        "\n",
        "You may get an error like \"Number of tensors (999) do not match the number of lines in metadata (992).\" As long as you load the vectors first without error and wait a few seconds after this pops up, you will be able to click outside the file load menu and still view the visualization."
      ]
    },
    {
      "cell_type": "code",
      "metadata": {
        "colab": {
          "base_uri": "https://localhost:8080/"
        },
        "id": "W22eSYKMUuYk",
        "outputId": "9876ff3e-d692-4ac2-8722-a4a6d8a3edad"
      },
      "source": [
        "# First get the weights of the embedding layer\n",
        "e = model.layers[0]\n",
        "weights = e.get_weights()[0]\n",
        "print(weights.shape) # shape: (vocab_size, embedding_dim)"
      ],
      "execution_count": null,
      "outputs": [
        {
          "output_type": "stream",
          "text": [
            "(1000, 16)\n"
          ],
          "name": "stdout"
        }
      ]
    },
    {
      "cell_type": "code",
      "metadata": {
        "id": "765kNWd2U7Bf"
      },
      "source": [
        "import io\n",
        "\n",
        "# Write out the embedding vectors and metadata\n",
        "out_v = io.open('vecs.tsv', 'w', encoding='utf-8')\n",
        "out_m = io.open('meta.tsv', 'w', encoding='utf-8')\n",
        "for word_num in range(0, vocab_size - 1):\n",
        "  word = tokenizer.decode([word_num])\n",
        "  embeddings = weights[word_num]\n",
        "  out_m.write(word + \"\\n\")\n",
        "  out_v.write('\\t'.join([str(x) for x in embeddings]) + \"\\n\")\n",
        "out_v.close()\n",
        "out_m.close()"
      ],
      "execution_count": null,
      "outputs": []
    },
    {
      "cell_type": "code",
      "metadata": {
        "id": "dkKeUttgU92H"
      },
      "source": [
        "# Download the files\n",
        "try:\n",
        "  from google.colab import files\n",
        "except ImportError:\n",
        "  pass\n",
        "else:\n",
        "  files.download('vecs.tsv')\n",
        "  files.download('meta.tsv')"
      ],
      "execution_count": null,
      "outputs": []
    },
    {
      "cell_type": "markdown",
      "metadata": {
        "id": "WijW3FllflDp"
      },
      "source": [
        "### Honestly, this is not making much sense. The main reason for using subwords is to make sure our model is able to identify at least some parts of the words unknown to it so far. But to make sense out of the words, the sequence/context is required too. We will see in the next notebok how to use a sequence model to improve the performance."
      ]
    },
    {
      "cell_type": "code",
      "metadata": {
        "id": "QBsAZz0pgBsT"
      },
      "source": [
        ""
      ],
      "execution_count": null,
      "outputs": []
    }
  ]
}